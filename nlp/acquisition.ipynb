{
 "cells": [
  {
   "cell_type": "markdown",
   "metadata": {},
   "source": [
    "### Import the get() function from the requests module, BeautifulSoup from bs4, and pandas"
   ]
  },
  {
   "cell_type": "code",
   "execution_count": 15,
   "metadata": {},
   "outputs": [],
   "source": [
    "from requests import get\n",
    "from bs4 import BeautifulSoup\n",
    "import os"
   ]
  },
  {
   "cell_type": "markdown",
   "metadata": {},
   "source": [
    "### Assign the address of the web page to a variable named url.\n"
   ]
  },
  {
   "cell_type": "markdown",
   "metadata": {},
   "source": [
    "### Request the server the content of the web page by using get(), and store the server’s response in the variable response."
   ]
  },
  {
   "cell_type": "code",
   "execution_count": 16,
   "metadata": {},
   "outputs": [],
   "source": [
    "url = 'https://codeup.com/why-san-antonio-has-more-than-tacos-to-offer/'\n",
    "headers = {'User-Agent': 'Codeup Ada Data Science'} # codeup.com doesn't like our default user-agent\n",
    "response = get(url, headers=headers)"
   ]
  },
  {
   "cell_type": "markdown",
   "metadata": {},
   "source": [
    "### Print the response text to ensure you have an html page\n"
   ]
  },
  {
   "cell_type": "code",
   "execution_count": 17,
   "metadata": {},
   "outputs": [
    {
     "name": "stdout",
     "output_type": "stream",
     "text": [
      "<!DOCTYPE html>\n",
      "<html lang=\"en-US\" prefix=\"og: http://ogp.me/ns#\" >\n",
      "<head>\n",
      "\t\t<meta charset=\"UTF-8\" /><meta name=\"viewport\" content=\"width=device-width, initial-scale=1.0, minimum-scale=1.0, maximum-scale=1.0, user-scalable=0\" /><meta http-equiv=\"X-UA-Compatible\" content=\"IE=edge,chrome=1\" /><meta name=\"format-detection\" content=\"telephone=no\"><title>Why San Antonio Has More Than Tacos To Offer - C\n"
     ]
    }
   ],
   "source": [
    "print(response.text[:400])\n"
   ]
  },
  {
   "cell_type": "markdown",
   "metadata": {},
   "source": [
    "### Use BeautifulSoup to parse the html into a variable ('soup')"
   ]
  },
  {
   "cell_type": "code",
   "execution_count": 18,
   "metadata": {},
   "outputs": [],
   "source": [
    "soup = BeautifulSoup(response.content, 'html.parser')\n"
   ]
  },
  {
   "cell_type": "code",
   "execution_count": null,
   "metadata": {},
   "outputs": [],
   "source": []
  },
  {
   "cell_type": "code",
   "execution_count": 19,
   "metadata": {},
   "outputs": [
    {
     "data": {
      "text/plain": [
       "'\\nBefore moving to San Antonio, I was slightly apprehensive. Knowing little to nothing about the city, I didn’t know what to expect. All that had filtered down from the collective consciousness to my perception of the city was the obvious tourist attractions such as the Riverwalk, Alamo, and amazing Tex Mex. After spending a little under a year there, I came to fall in love with this city for reasons beyond what tourists can see in a weekend. The experience of its vibrant and proud Latino culture, flourishing art scene, and emphasis on community have left an indelible mark upon my life. \\nAll this aside, a huge part of my experience in San Antonio was attending Codeup, a coding boot camp that allowed me to have the skills needed to make a complete career shift and also an insider’s look into San Antonio’s flourishing tech community. For those of you that have never had a local’s perspective into the technology layer of San Antonio, I’m here to explain five reasons you should consider beginning a data science career here.\\n\\n\\xa0 \\xa01. San Antonio is a tech hotspot.\\nAlthough San Antonio is usually overshadowed by its northern neighbor Austin, it is actually a humble but bustling tech hotspot according to Inc., a weekly business magazine. Especially as Austin’s infrastructure struggles to support its rapid expansion and population growth, corporations and talent have begun to siphon off to San Antonio, which is only an hour south. Cost-of-living is much lower compared to Austin and is an attractive option for anyone starting out in entry-level data science. Additionally, a 2018 CBRE report names San Antonio in the top 50 US markets for tech talent, and is rapidly rising. On top of that, San Antonio ranked first among small tech markets in millennial population growth, with 12.5 percent between 2011 and 2016. Brookings found even greater growth, more than 14 percent, among millennials in a January report. Where the talent goes, corporations will follow. \\n\\xa0\\xa0\\n \\xa0\\xa0\\xa02. Big corporations in San Antonio are hiring for data science roles. \\nPeople may not realize it, but San Antonio is home to lots of large corporations such as USAA, HEB, Accenture, Hulu, iHeartMedia, Booz Allen — the list goes on. A quick Google search for data science jobs in San Antonio will pull up over a hundred active openings, all from corporations like the ones listed above. Additionally, SA Works conducted an analysis of over 30 business and thousands of job posts and has projected a higher growth in local tech jobs in San Antonio than the national average. Many of the corporations named above were found to be actively hiring for these positions. Data Science is also considered one of the best jobs in America for 2019, which makes it especially attractive with San Antonio’s affordable cost of living.\\n\\n \\xa0\\xa0\\xa03. San Antonio has a tight-knit tech community.\\nA tight-knit community means that it is much more accessible for individuals to find resources that will aid them towards their goals, i.e. to become a data scientist. With even just a few months in San Antonio, I was able to see how welcoming and supporting the tech community is. With tech conferences, meetups, workshops, hackathons, and startup competitions galore, the community is truly thriving. The hub of a lot of this activity is Geekdom, a coworking space that serves as the central place for technology nerds to gather. Much of this community has a united vision to see technology flourish in San Antonio. For example, Tech Bloc was an organization created to advocate for policies that attract technology companies and talent to San Antonio. Even Codeup itself was created in order to produce more tech talent in San Antonio and drive growth. With so many determined and passionate technology stakeholders in San Antonio, its growth is inevitable! \\n\\n \\xa0\\xa0\\xa04. San Antonio’s cloud and security sector are well-renowned. \\nWhen I say “well-renowned”, it’s not because the majority of people talk about it. The thing about security is that… it’s typically discreet. However, San Antonio is actually the\\xa0home of dozens of security startups, and some of the most prominent ones are nowhere near household names except perhaps for those that are familiar with the industry. Many of these companies would do well to not draw attention to themselves due to the nature of the work. In conjunction, the University of Texas at San Antonio has three separate cybersecurity centers, and one of them is the top-ranked program in the nation. In general, cybersecurity spending is growing globally, and this will, in turn, benefit the tech growth in San Antonio. \\xa0\\n\\n \\xa0\\xa0\\xa05. The city is invested in growing technologically. \\xa0\\nGrowing up, I would hear my parents tell me that you need to look at someone’s wallet to know who they truly are. That is, it’s important to know how someone spends their money. One way to tell that San Antonio cares about technology is seeing how the city invests in technology initiatives. For example, there’s WiFi in eight of the city parks, solar-powered smartphone charging attached to benches, and even drones assisting in search and rescue operations. Additionally, the city and Bexar County have addressed the tech gap by budgeting up to 300,000 dollars to create a role for a chief talent and recruitment officer (CTRO). This individual, along with the local nonprofit Tech Bloc which administers the position, has a job that is two-fold: bringing in outside tech talent and matching local talent to organizations. \\n\\nIn many ways, San Antonio is a city that many people seem to underestimate. I showed up without high hopes, dreading the Texas heat and bad drivers. However, it’s a place that I ended up finding some of my closest friends, along with a diverse community and thriving tech industry. Plus, it doesn’t hurt that it’s dubbed the Taco capital of the US. \\n\\n—\\n\\nJoyce Ling is a software developer at a cloud security company based in Richardson, TX. In her free time, she sings in a women’s chorus, rock climbs, plays guitar, and currently runs an organization to bring queer women together in the Dallas/Ft. Worth metroplex.\\xa0\\nFollow her on Instagram @ironicsushi\\xa0or read more of her work at The Luscious Word.\\n'"
      ]
     },
     "execution_count": 19,
     "metadata": {},
     "output_type": "execute_result"
    }
   ],
   "source": [
    "article = soup.find('div', class_='mk-single-content')\n",
    "article.text"
   ]
  },
  {
   "cell_type": "code",
   "execution_count": null,
   "metadata": {},
   "outputs": [],
   "source": []
  },
  {
   "cell_type": "code",
   "execution_count": 33,
   "metadata": {},
   "outputs": [],
   "source": [
    "def get_article_text(url):\n",
    "    # if we already have the data, read it locally\n",
    "#     if path.exists('article.txt'):\n",
    "#         with open('article.txt') as f:\n",
    "#             return f.read()\n",
    "\n",
    "    # otherwise go fetch the data\n",
    "#     url = 'https://codeup.com/codeups-data-science-career-accelerator-is-here/'\n",
    "    headers = {'User-Agent': 'Codeup Ada Data Science'}\n",
    "    response = get(url, headers=headers)\n",
    "    soup = BeautifulSoup(response.text)\n",
    "    article = soup.find('div', class_='mk-single-content')\n",
    "\n",
    "    # save it for next time\n",
    "#     with open('article.txt', 'w') as f:\n",
    "#         f.write(article.text)\n",
    "\n",
    "    return article.text"
   ]
  },
  {
   "cell_type": "code",
   "execution_count": 34,
   "metadata": {
    "scrolled": true
   },
   "outputs": [
    {
     "data": {
      "text/plain": [
       "'\\nYou come home from work, tired to the bone and groaning as you realize you forgot to prep dinner tonight. So, what do you do? You plop down on the couch, whip out your phone and Google “restaurants near me”. You scroll down the list of places to eat and take into account a variety of factors: how high the ratings are, how many people have rated that restaurant, how far it is from you, whether or not it’s busy at that moment, the keywords mentioned in reviews, how long it’s open… the list goes on. You carefully bookmark each prospective restaurant so you can find it later. All of a sudden, you notice that without your knowledge, three hours have slipped by. You realize with a feeling of dread in your stomach that nearly all the restaurants around you are closed… and you head over to the nearest Whataburger in defeat. \\nA week later, life finds you in the same supine position on the couch, scrolling through restaurants. This time, though, you realize there’s a little compatibility rating next to each restaurant listing. As you scroll, you stumble upon a sushi restaurant that apparently is 90% compatible with your preferences. Without hesitation, you rush there with glee to find that it is everything you could have hoped for! Wow! Data science saves the day!\\n\\nThis very relatable experience is a prime example of how many of us have experienced data science in our lives without realizing it. Let’s take a quick moment to analyze how data science played the protagonist in this story. It is important to note that data science is a broad subject that encompasses a variety of things, including first gathering and shaping data, storing that data, then analyzing and visually presenting that data. \\n\\xa0\\nHow Google Does It\\nBefore we can start analyzing data, Google data scientists must first be able to gather information about everything from restaurant locations, hours, pricing, customer reviews, etc. Next, this massive influx of data must be efficiently manipulated and organized so it can quickly be retrieved, Marie Kondo style. Data scientists are then able to take and analyze this data and visually translate it into something that makes sense, such as the graph that displays the busiest hours at the restaurant, or the tidy list of restaurants you see in the app that is ordered by distance from you.\\n\\nA simple action such as filtering by “Open Now” or “Price” requires a tight coordination of all of these steps in order to actually produce the output expected by the user. Amazingly, Google Maps is able to do this analysis real-time to constantly change its results based on your current location. Not only that, it is simultaneously analyzing every single person’s GPS data real-time. This allows them to generate components like the graph of how busy an establishment is at the moment.\\n\\xa0\\nGoogle Maps, A Man’s Best Friend\\nAnother important factor in data science is using analysis to drive predictions (Read more here about the difference between data analytics and data science). For example, in calculating compatibility ratings, the program takes into account Google location history, search history, types of cuisine/restaurants you typically visit or avoid, whether you’ve saved/rated/visited a place or somewhere similar, or simply data that a user inputs about their dietary preferences. It also allows for constant feedback from the user if a compatibility rating seems off, with a “Not Right?” link attached to every rating. In other words, this rating is a prediction of how much you would like a restaurant based on your past history and behavior. \\nSo how exactly has Google mastered this compatibility rating? Most likely, data scientists at Google have created algorithms to take the pieces of information listed above to produce a prediction. Essentially, it’s a way for a computer program to act more human. For example, think about how you recommend a show to your best friend. Most likely, you know your friend’s personality and history of shows that they’ve enjoyed, so you generally know what kind of show they may like watching. \\nSimilarly, data scientists can use algorithms and statistical models to write code that continuously “learns” to make better predictions, creating an adaptable learning machine. With machine learning and artificial intelligence, Google is able to generate friendly human-like recommendations for over a billion people every single month, which is probably better than what your best friend could do.\\n\\n\\nWhen Robots Take Over the World\\nAs the data science field continues to progress and we get closer and closer to true artificial intelligence, we will most likely see the effects of that trickle down into the parts of our everyday life that we hardly consider. We already trust the algorithms and generated recommendations that suggest where or when to eat. Eventually, even something as vital as a life-altering surgery will be dictated by recommendations generated by algorithms for doctors. Understanding and learning about data science will become more significant as it gradually becomes enmeshed with society in ways we may not even be able to fully comprehend. Read more here about Codeup’s 18-week Data Science program which covers most of the topics mentioned in this article, including data visualization, analytics, and machine learning. \\n—\\n\\nJoyce Ling is a software developer at a cloud security company based in Richardson, TX. In her free time, she sings in a women’s chorus, rock climbs, plays guitar, and currently runs an organization to bring queer women together in the Dallas/Ft. Worth metroplex.\\xa0\\nFollow her on Instagram @ironicsushi\\xa0or read more of her work at The Luscious Word.\\n'"
      ]
     },
     "execution_count": 34,
     "metadata": {},
     "output_type": "execute_result"
    }
   ],
   "source": [
    "get_article_text('https://codeup.com/everyday-encounters-with-data-science/')"
   ]
  },
  {
   "cell_type": "code",
   "execution_count": 54,
   "metadata": {},
   "outputs": [],
   "source": [
    "def get_article_titles(url):\n",
    "    headers = {'User-Agent': 'Codeup Ada Data Science'}\n",
    "    response = get(url, headers=headers)\n",
    "    soup = BeautifulSoup(response.text)\n",
    "    title = soup.find('h1', class_='page-title')\n",
    "\n",
    "    # save it for next time\n",
    "#     with open('article.txt', 'w') as f:\n",
    "#         f.write(article.text)\n",
    "\n",
    "    return title.text"
   ]
  },
  {
   "cell_type": "code",
   "execution_count": 159,
   "metadata": {},
   "outputs": [
    {
     "ename": "AttributeError",
     "evalue": "'NoneType' object has no attribute 'text'",
     "output_type": "error",
     "traceback": [
      "\u001b[0;31m---------------------------------------------------------------------------\u001b[0m",
      "\u001b[0;31mAttributeError\u001b[0m                            Traceback (most recent call last)",
      "\u001b[0;32m<ipython-input-159-31271a5f7df3>\u001b[0m in \u001b[0;36m<module>\u001b[0;34m\u001b[0m\n\u001b[0;32m----> 1\u001b[0;31m \u001b[0mget_article_titles\u001b[0m\u001b[0;34m(\u001b[0m\u001b[0;34m'https://codeup.com/competitor-bootcamps-are-closing-is-the-model-in-danger/'\u001b[0m\u001b[0;34m)\u001b[0m\u001b[0;34m\u001b[0m\u001b[0;34m\u001b[0m\u001b[0m\n\u001b[0m",
      "\u001b[0;32m<ipython-input-54-16db806d79dd>\u001b[0m in \u001b[0;36mget_article_titles\u001b[0;34m(url)\u001b[0m\n\u001b[1;32m      9\u001b[0m \u001b[0;31m#         f.write(article.text)\u001b[0m\u001b[0;34m\u001b[0m\u001b[0;34m\u001b[0m\u001b[0;34m\u001b[0m\u001b[0m\n\u001b[1;32m     10\u001b[0m \u001b[0;34m\u001b[0m\u001b[0m\n\u001b[0;32m---> 11\u001b[0;31m     \u001b[0;32mreturn\u001b[0m \u001b[0mtitle\u001b[0m\u001b[0;34m.\u001b[0m\u001b[0mtext\u001b[0m\u001b[0;34m\u001b[0m\u001b[0;34m\u001b[0m\u001b[0m\n\u001b[0m",
      "\u001b[0;31mAttributeError\u001b[0m: 'NoneType' object has no attribute 'text'"
     ]
    }
   ],
   "source": [
    "get_article_titles('https://codeup.com/competitor-bootcamps-are-closing-is-the-model-in-danger/')"
   ]
  },
  {
   "cell_type": "markdown",
   "metadata": {},
   "source": [
    "# Exercises"
   ]
  },
  {
   "cell_type": "markdown",
   "metadata": {},
   "source": [
    "#### Codeup Blog Articles\n",
    "\n",
    "Scrape the article text from the following pages:\n",
    "\n",
    "https://codeup.com/codeups-data-science-career-accelerator-is-here/\n",
    "https://codeup.com/data-science-myths/\n",
    "https://codeup.com/data-science-vs-data-analytics-whats-the-difference/\n",
    "https://codeup.com/10-tips-to-crush-it-at-the-sa-tech-job-fair/\n",
    "https://codeup.com/competitor-bootcamps-are-closing-is-the-model-in-danger/\n",
    "\n",
    "Encapsulate your work in a function named get_blog_articles that will return a list of dictionaries, with each dictionary representing one article. The shape of each dictionary should look like this:"
   ]
  },
  {
   "cell_type": "code",
   "execution_count": 56,
   "metadata": {},
   "outputs": [],
   "source": [
    "urls = ['https://codeup.com/codeups-data-science-career-accelerator-is-here/',\n",
    "'https://codeup.com/data-science-myths/',\n",
    "'https://codeup.com/data-science-vs-data-analytics-whats-the-difference/',\n",
    "'https://codeup.com/10-tips-to-crush-it-at-the-sa-tech-job-fair/',\n",
    "'https://codeup.com/competitor-bootcamps-are-closing-is-the-model-in-danger/']"
   ]
  },
  {
   "cell_type": "code",
   "execution_count": 152,
   "metadata": {},
   "outputs": [],
   "source": [
    "def get_blog_articles(urls):\n",
    "    text = []\n",
    "    titles = []\n",
    "    for url in urls:\n",
    "        text.append(get_article_text(url))\n",
    "        titles.append(get_article_titles(url))\n",
    "    articles = zip(titles, text) \n",
    "    articles_dicts = [dict(zip(('title','contents'), article)) for article in articles]\n",
    "    for element in articles_dicts:\n",
    "        for url in urls:\n",
    "            element['url'] = url\n",
    "    return articles_dicts"
   ]
  },
  {
   "cell_type": "code",
   "execution_count": 153,
   "metadata": {},
   "outputs": [
    {
     "data": {
      "text/plain": [
       "[{'title': 'Codeup’s Data Science Career Accelerator is Here!',\n",
       "  'contents': '\\nThe rumors are true! The time has arrived. Codeup has officially opened applications to our new Data Science career accelerator, with only 25 seats available! This immersive program is one of a kind in San Antonio, and will help you land a job in\\xa0Glassdoor’s #1 Best Job in America.\\nData Science is a method of providing actionable intelligence from data.\\xa0The data revolution has hit San Antonio,\\xa0resulting in an explosion in Data Scientist positions\\xa0across companies like USAA, Accenture, Booz Allen Hamilton, and HEB. We’ve even seen\\xa0UTSA invest $70 M for a Cybersecurity Center and School of Data Science.\\xa0We built a program to specifically meet the growing demands of this industry.\\nOur program will be 18 weeks long, full-time, hands-on, and project-based. Our curriculum development and instruction is led by Senior Data Scientist, Maggie Giust, who has worked at HEB, Capital Group, and Rackspace, along with input from dozens of practitioners and hiring partners. Students will work with real data sets, realistic problems, and the entire data science pipeline from collection to deployment. They will receive professional development training in resume writing, interviewing, and continuing education to prepare for a smooth transition to the workforce.\\nWe focus on applied data science for immediate impact and ROI in a business, which is how we can back it all up with a 6 month tuition refund guarantee – just like our existing Web Dev program. We’re focusing on Data Science with Python, SQL, and ML, covered in\\xa014 modules: 1) Fundamentals; 2) Applied statistics; 3) SQL; 4) Python; 5) Supervised machine learning – regression; 6) Supervised machine learning – classification; 7) Unsupervised machine learning – clustering; 8) Time series analysis; 9) Anomaly detection; 10) Natural language processing; 11) Distributed machine learning; 12) Advanced topics (deep learning, NoSQL, cloud deployment, etc.); 13) Storytelling with data; and 14) Domain expertise development.\\nApplications are now open\\xa0for Codeup’s first Data Science cohort, which will start class on February 4, 2019. Hurry – there are only 25 seats available! To further our mission of cultivating inclusive growth, scholarships will be available to women, minorities, LGBTQIA+ individuals, veterans, first responders, and people relocating to San Antonio.\\nIf you want to learn about joining our program or hiring our graduates, email datascience@codeup.com!\\n',\n",
       "  'url': 'https://codeup.com/10-tips-to-crush-it-at-the-sa-tech-job-fair/'},\n",
       " {'title': 'Data Science Myths',\n",
       "  'contents': '\\nBy Dimitri Antoniou and Maggie Giust\\nData Science, Big Data, Machine Learning, NLP, Neural Networks…these buzzwords have rapidly spread into mainstream use over the last few years. Unfortunately, definitions are varied and sources of truth are limited. Data Scientists are in fact not magical unicorn wizards who can snap their fingers and turn a business around! Today, we’ll take a cue from our favorite Mythbusters to tackle some common myths and misconceptions in the field of Data Science.\\n\\nvia GIPHY\\nMyth #1: Data Science = Statistics\\nAt first glance, this one doesn’t sound unreasonable. Statistics is defined as, “A branch of mathematics dealing with the collection, analysis, interpretation, and presentation of masses of numerical data.” That sounds a lot like our definition of Data Science: a method of drawing actionable intelligence from data. \\nIn truth, statistics is actually one small piece of Data Science. As our Senior Data Scientist puts it, “Statistics forces us to make assumptions about the nature of the relationship between variables, the distribution of the data, etc.” In the traditional Data Science venn diagram, you’ll see that math/stats make up ⅓ of a working professional. These are tools and skills to leverage, but data science itself is about drawing intelligence from data.\\nBUSTED\\n\\nvia GIPHY\\n\\xa0\\nMyth #2: Data Scientist = Business/Data Analyst\\nThis one is so common that we wrote a whole post about it! These are separate and different roles within the data field. While a data scientist will often do analytics, their spectrum of work is wider. A data analyst will use structured data to create dashboards and KPIs, while a Data Scientist deals with unstructured and messy data for a range of outputs. If they’re interested, business analysts will often progress to data scientists.\\nBUSTED\\n\\nvia GIPHY\\n\\xa0\\nMyth #3: Data Science = Data Science\\nThis one’s tricky, because it’s impossible to either confirm or bust! The ‘myth’ is that one person or company using the term Data Science is not necessarily the same as another person or company using the same term. Depending on organizational capacity, individual experience, educational background, and many other variables, we might be using the same name for different animals.\\nTl;dr: don’t assume a common understanding across hiring managers, recruiters, and practitioners. Look instead for specifics of tools, techniques, methodologies, and outputs. That being said, this one falls in the “plausible” category, because it may actually be true in some circumstances, while false in others.\\nPLAUSIBLE\\n\\nvia GIPHY\\n\\xa0\\nMyth #4: Data Science curricula are well-defined and consistent.\\nWe recommend checking this one out for yourself! A quick google search for bootcamps, master’s degree programs, and online courses will reveal that different organizations teach different things. There is no commonly accepted framework for teaching data science! Some focus more on the engineering, others focus more on machine learning, some think deep learning is foundational, and some prefer to use R. \\nOur curriculum was built through employer interviews, practitioner interviews, market research, and company partnerships. But we’re based in San Antonio! A bootcamp in New York might follow the same process and end up with a different syllabus. Keep in mind, whatever your learning path, that there will be gaps in your learning. The most important thing is to recognize those gaps.\\nBUSTED\\n\\nvia GIPHY\\n\\xa0\\nMyth #5: If I want to be a data scientist, I just need to learn Python or R.\\nThis one is common and dangerous! Just like statistics, programming languages like Python and R are tools. They’re just pieces of a larger puzzle! Knowing Python without understanding the data science pipeline is like knowing how to build a floor without having a floor plan. Of course, these are valuable technical skills that give you a leg up, but they’re second in importance to asking the right questions, knowing what tools to use when, and communicating your findings.\\nBUSTED\\n\\nvia GIPHY\\nStill have questions? Reach out to us at (210) 802-7289 or DataScience@codeup.com! Want to learn more about Data Science? Check out our recent blog posts at codeup.com/blog. And of course, if data science gets you excited, get started with us today at codeup.com/apply!\\n\\n\\n\\n\\n \\n\\n\\n\\n\\n\\n \\n\\n \\n\\n \\n\\n\\n \\n\\n \\n\\nJoin Us_ \\n\\nWe\\'re excited to launch our new Codeup newsletter, which highlights some interesting blog posts, things in the know, and upcoming events. We promise to keep things interesting and engaging - twice a month. \\n\\nGeneral_ \\n\\nStudents_ \\n\\nInfo_ \\n\\nLegal_ \\n\\n \\n\\n600 Navarro St. #350, San Antonio, Texas \\n\\n \\n\\n \\n\\n \\n\\n|   info@codeup.com \\n\\n   |   210 - 802 - 7289   \\n\\n \\n\\nComplaint Policy \\n\\nPrivacy Center\\n\\n\\nApply Now \\n\\nBlog \\n\\nWhy Codeup \\n\\nFAQ \\n\\nContact \\n\\nOur Programs \\n\\nFinancials \\n\\nWeb Development \\n\\nData Science \\n\\nHome \\n\\nAbout Codeup \\n\\nEmployers \\n\\nAlumni \\n\\nWe promise to keep things interesting and engaging - twice a month. \\n\\nCopyright All Rights Reserved © 2019 Codeup | Website Designed by Tribu Digital Marketing \\n\\n\\n \\nvar htmlDiv = document.getElementById(\"rs-plugin-settings-inline-css\"); var htmlDivCss=\"\";\\r\\n\\t\\t\\t\\tif(htmlDiv) {\\r\\n\\t\\t\\t\\t\\thtmlDiv.innerHTML = htmlDiv.innerHTML + htmlDivCss;\\r\\n\\t\\t\\t\\t}else{\\r\\n\\t\\t\\t\\t\\tvar htmlDiv = document.createElement(\"div\");\\r\\n\\t\\t\\t\\t\\thtmlDiv.innerHTML = \"<style>\" + htmlDivCss + \"</style>\";\\r\\n\\t\\t\\t\\t\\tdocument.getElementsByTagName(\"head\")[0].appendChild(htmlDiv.childNodes[0]);\\r\\n\\t\\t\\t\\t}\\r\\n\\t\\t\\t\\n\\r\\nif (setREVStartSize!==undefined) setREVStartSize(\\r\\n\\t{c: \\'#rev_slider_1_1\\', responsiveLevels: [1240,1024,778,480], gridwidth: [1240,1024,778,480], gridheight: [575,500,400,720], sliderLayout: \\'fullwidth\\'});\\r\\n\\t\\t\\t\\r\\nvar revapi1,\\r\\n\\ttpj;\\t\\r\\n(function() {\\t\\t\\t\\r\\n\\tif (!/loaded|interactive|complete/.test(document.readyState)) document.addEventListener(\"DOMContentLoaded\",onLoad); else onLoad();\\t\\r\\n\\tfunction onLoad() {\\t\\t\\t\\t\\r\\n\\t\\tif (tpj===undefined) { tpj = jQuery; if(\"off\" == \"on\") tpj.noConflict();}\\r\\n\\tif(tpj(\"#rev_slider_1_1\").revolution == undefined){\\n\\t\\trevslider_showDoubleJqueryError(\"#rev_slider_1_1\");\\n\\t}else{\\n\\t\\trevapi1 = tpj(\"#rev_slider_1_1\").show().revolution({\\n\\t\\t\\tsliderType:\"hero\",\\n\\t\\t\\tjsFileLocation:\"//codeup.com/wp-content/plugins/revslider/public/assets/js/\",\\n\\t\\t\\tsliderLayout:\"fullwidth\",\\n\\t\\t\\tdottedOverlay:\"none\",\\n\\t\\t\\tdelay:9000,\\n\\t\\t\\tresponsiveLevels:[1240,1024,778,480],\\n\\t\\t\\tvisibilityLevels:[1240,1024,778,480],\\n\\t\\t\\tgridwidth:[1240,1024,778,480],\\n\\t\\t\\tgridheight:[575,500,400,720],\\n\\t\\t\\tlazyType:\"none\",\\n\\t\\t\\tshadow:0,\\n\\t\\t\\tspinner:\"spinner0\",\\n\\t\\t\\tautoHeight:\"off\",\\n\\t\\t\\tdisableProgressBar:\"on\",\\n\\t\\t\\thideThumbsOnMobile:\"off\",\\n\\t\\t\\thideSliderAtLimit:0,\\n\\t\\t\\thideCaptionAtLimit:0,\\n\\t\\t\\thideAllCaptionAtLilmit:0,\\n\\t\\t\\tdebugMode:false,\\n\\t\\t\\tfallbacks: {\\n\\t\\t\\t\\tsimplifyAll:\"off\",\\n\\t\\t\\t\\tdisableFocusListener:false,\\n\\t\\t\\t}\\n\\t\\t});\\n\\t}; /* END OF revapi call */\\n\\t\\n }; /* END OF ON LOAD FUNCTION */\\r\\n}()); /* END OF WRAPPING FUNCTION */\\r\\n\\n\\n',\n",
       "  'url': 'https://codeup.com/10-tips-to-crush-it-at-the-sa-tech-job-fair/'},\n",
       " {'title': 'Data Science VS Data Analytics: What’s The Difference?',\n",
       "  'contents': '\\nBy Dimitri Antoniou\\nA week ago, Codeup launched our immersive Data Science career accelerator! With our first class kicking off in February and only 25 seats available, we’ve been answering a lot of questions from prospective students. One in particular has come up so many times we decided to dedicate a blog post to it. What is the difference between data science and data analytics?\\nFirst, let’s define some of our terms! Take a look at this blog to understand what Data Science is. In short, it is a method of turning raw data into action, leading to a desired outcome. Big Data refers to data sets that are large and complex, usually exceeding the capacity of computers and normal processing power to deal with. Machine Learning is the process of ‘learning’ underlying patterns of data in order to automate the extraction of intelligence from that data.\\n\\nNow, let’s look at the data pipeline that data scientists work through to reach the actionable insights and outcomes we mentioned:\\n\\nWe start by collecting data, which may come from social media channels, network logs, financials, employee records, or more.\\nWe then process that data into usable information stored in databases or streamed.\\nNext, we look back on the history of that data to summarize, describe, and explain, turning the data into meaningful knowledge. Here we’re primarily using mathematics, statistics, and visualization methods.\\nNow we convert that knowledge into intelligence, seeking to predict future events so that we can make decisions in the present. This is where practitioners will introduce mathematical/statistical modeling through machine learning to their data.\\nFinally, we enable action by building automations, running tests, building visualizations, monitoring new data, etc.\\n\\nData professionals work at different stages of the spectrum to move data through the pipeline. On the left, Big Data Engineers specialize in collecting, storing, and processing data, getting it from Data to Information. In the middle, analysts work to understand and convert that information to knowledge. Lastly, a Machine Learning Engineer utilizes machine learning algorithms to turn intelligence into action by building automations, visualizations, recommendations, and predictions.\\nData Scientists span multiple stages of this pipeline, from information to action. They will spend about 70% of their time wrangling data in the information stage. They will conduct statistical analysis to derive knowledge. Lastly, they predict future events and build automations using machine learning.\\nFor those technical folk out there, data science is to data engineering or machine learning engineering as full-stack development is to front-end or back-end development. For the non-technical folk, data science is the umbrella term that houses data analytics, machine learning, and other data professions.\\nSo what’s the biggest difference between a data analyst and a data scientist? Data scientists utilize computer programming and machine learning in addition to mathematics and statistics. \\nStill have questions? Reach out to us at (210) 802-7289 or DataScience@codeup.com! Wondering which of Codeup’s programs is right for you? We’ve got you covered. And of course, if data science gets you excited, get started with us today at codeup.com/apply!\\n',\n",
       "  'url': 'https://codeup.com/10-tips-to-crush-it-at-the-sa-tech-job-fair/'},\n",
       " {'title': '10 Tips to Crush It at the SA Tech Job Fair',\n",
       "  'contents': '\\n10 Tips to Crush It at the SA Tech Job Fair\\nSA Tech Job Fair\\nThe third bi-annual San Antonio Tech Job Fair is just around the corner. Over 25 companies will be at The Jack Guenther Pavilion\\xa0on April 10th, and they are hungry for new tech team members!\\nAt the job fair, companies want to quickly source a list of new talent leads. AKA they need to find qualified employees they can begin interviewing for jobs. Recruiters will represent their organization at tables with informational handouts and company swag. Your goal at a job fair is to set yourself apart from other candidates and ensure your name makes it to the top of those lead lists.\\nThink of your interaction with the company as a mini screening interview. The company rep will subtly evaluate basic qualities like your professionalism, communication and interpersonal skills, work experience, and interest level in the organization. Job fairs are also an opportunity for you to gain information about companies that may not be easily accessible online. \\xa0\\nAt Codeup, we’re passionate about bridging the gap between talent and demand, so we’ve outlined 10 tips to ensure you bring your A-game and leave a lasting impression!\\n10 Tips for Totally Crushing it at the SA Tech Job Fair\\n\\nUse keywords to describe your skills, but don’t go overboard. You’ll probably be talking to a recruiter or talent acquisition specialist. As a technical candidate, recognize these individuals usually aren’t developers or network administrators. They know terms like “JavaScript” and “Apache,” but haven’t written a line of code or spun up a server, so don’t get too caught up in industry jargon.\\nResearch the companies ahead of time. Review the list of attending companies and make sure you know what the company does and whether or not they hire people in your desired role. Look up recent news on the company and mention it during your conversation.\\nDefine your own goals for the job fair. Are you searching for a specific type of role or company culture? What matters most in your job search? Are there companies you want to prioritize? \\xa0Develop a game plan and be intentional with your time.\\nPrepare a stellar résumé. Bring about 20 copies of your résumé to the event, printed on nice paper. We won’t cover resume writing in this post, but there are a plethora of online resources you can consult. For job fairs, don’t worry about cover letters.\\nPolish your online profiles. If recruiters have a copy of your resume, you can be sure they will stalk you online soon. Make sure your online presence is professional and appropriate. A good place to start is by Googling yourself. Update your LinkedIn, and clean up any social media profiles.\\nCraft a 30-60 second elevator pitch. You may only have a few minutes with an employer. What will you say if they ask, “Tell me about yourself?” Consider structuring your pitch like this: Who you are + What you do + What your goals are + Why that matters to the company.\\nDon’t show up in a t-shirt, but trade in your suit for something more chill. Always keep it professional, but remember: tech is typically more casual than other industries. You’ll likely feel out of place if you look like you belong on Wall St., so refer to this guide on dressing for tech interviews.\\nDon’t forget the basics. Start and end each conversation with a firm handshake. Make eye contact while conversing. Smile! Thank the recruiter before you move on to the next table.\\nAsk educated questions. Don’t waste valuable face time with recruiters by asking questions like, “What does [Insert Company here] do?” They hate that question! Instead, try some of these:\\n\\nWhat are the top 3-5 examples of knowledge, skills, and abilities you look for in candidates?\\nWhat’s the best advice you have for someone who wants to work here?\\nWhat is your interview process like?\\nAre you hiring for any roles not currently listed on your websites?\\n\\n\\nFollow up. Collect business cards from each table. The next day, send a short note expressing your interest in the company’s opportunities and thanking the recruiter for his or her time.\\n\\nRSVP for the SA Tech Job Fair taking place at the Jack Guenther Pavilion – September 18th starting at 4 pm.\\xa0\\n',\n",
       "  'url': 'https://codeup.com/10-tips-to-crush-it-at-the-sa-tech-job-fair/'}]"
      ]
     },
     "execution_count": 153,
     "metadata": {},
     "output_type": "execute_result"
    }
   ],
   "source": [
    "articles = get_blog_articles(urls[:-1])\n",
    "articles"
   ]
  },
  {
   "cell_type": "markdown",
   "metadata": {},
   "source": [
    "### Manually add the extra url that didn't have a class"
   ]
  },
  {
   "cell_type": "code",
   "execution_count": 154,
   "metadata": {},
   "outputs": [],
   "source": [
    "headers = {'User-Agent': 'Codeup Ada Data Science'}\n",
    "response = get('https://codeup.com/competitor-bootcamps-are-closing-is-the-model-in-danger/', headers=headers)\n",
    "soup = BeautifulSoup(response.text)\n",
    "title = soup.find('h1', class_='')\n",
    "\n",
    "comp = title.text"
   ]
  },
  {
   "cell_type": "code",
   "execution_count": 160,
   "metadata": {},
   "outputs": [
    {
     "data": {
      "text/plain": [
       "'Competitor Bootcamps Are Closing. Is the Model in Danger?'"
      ]
     },
     "execution_count": 160,
     "metadata": {},
     "output_type": "execute_result"
    }
   ],
   "source": [
    "comp"
   ]
  },
  {
   "cell_type": "code",
   "execution_count": 155,
   "metadata": {},
   "outputs": [],
   "source": [
    "comp_text = get_article_text('https://codeup.com/competitor-bootcamps-are-closing-is-the-model-in-danger/')"
   ]
  },
  {
   "cell_type": "code",
   "execution_count": 158,
   "metadata": {
    "scrolled": true
   },
   "outputs": [
    {
     "data": {
      "text/plain": [
       "'\\nCompetitor Bootcamps Are Closing. Is the Model in Danger?\\n\\xa0\\n\\nIs the programming bootcamp model in danger?\\nIn recent news, DevBootcamp and The Iron Yard announced that they are closing their doors. This is big news. DevBootcamp was the first programming bootcamp model and The Iron Yard is a national player with 15 campuses across the U.S. In both cases, the companies cited an unsustainable business model. Does that mean the boot-camp model is dead?\\n\\ntl;dr “Nope!”\\nBootcamps exist because traditional education models have failed to provide students job-ready skills for the 21st century. Students demand better employment options from their education. Employers demand skilled and job ready candidates. Big Education’s failure to meet those needs through traditional methods created the fertile ground for the new business model of the programming bootcamp.\\nEducation giant Kaplan and Apollo Education Group (owner of University of Phoenix) bought their way into this new educational model when they purchased The Iron Yard and DevBootcamp. They purchased their competition with the intent to scale up the model. Unfortunately, Big Education is too habituated to coming up short for students. They bought the upstarts that challenged them, tried making changes to run those bootcamps in the “Big Education” way, and, sadly, they’ve closed the doors when they realized that scaling education is more challenging when student outcomes truly matter.\\nThe bootcamp model is still new and there will be plenty consolidation, competition, and changes in the future. This model is based on actually being adaptive, innovative, and sustainable. And there’s always room for innovation.\\n\\n\\nWhat we’ve learned at Codeup…\\n\\n\\nEducation is challenging to scale.\\nPrioritizing quality over growth pays off.\\n\\nWhat we’re doing at Codeup…\\n\\nHigher standards in our application process are leading to better student outcomes.\\nOur reputation and commitment to quality is opening new doors to previously uninterested/unreachable employers.\\nIn the beginning, the majority of Codeup graduates went to work with startups and small businesses. We’re now seeing a larger amount of our graduates place at medium to large sized businesses.\\nDemand is growing and employers are learning that the results are in the graduates.\\nCodeup’s model is sustainable, inclusive, and works.\\n\\nCall or contact us today to see how Codeup’s commitment to quality and approach to being a career accelerator can make a profound difference in your life.\\n'"
      ]
     },
     "execution_count": 158,
     "metadata": {},
     "output_type": "execute_result"
    }
   ],
   "source": [
    "comp_text"
   ]
  },
  {
   "cell_type": "code",
   "execution_count": 164,
   "metadata": {},
   "outputs": [],
   "source": [
    "url = 'https://codeup.com/competitor-bootcamps-are-closing-is-the-model-in-danger/'"
   ]
  },
  {
   "cell_type": "code",
   "execution_count": 167,
   "metadata": {},
   "outputs": [],
   "source": [
    "comp_dict = {'title': comp, 'contents': comp_text, 'url': url}"
   ]
  },
  {
   "cell_type": "code",
   "execution_count": 168,
   "metadata": {},
   "outputs": [],
   "source": [
    "articles.append(comp_dict)"
   ]
  },
  {
   "cell_type": "code",
   "execution_count": 169,
   "metadata": {},
   "outputs": [
    {
     "data": {
      "text/plain": [
       "[{'title': 'Codeup’s Data Science Career Accelerator is Here!',\n",
       "  'contents': '\\nThe rumors are true! The time has arrived. Codeup has officially opened applications to our new Data Science career accelerator, with only 25 seats available! This immersive program is one of a kind in San Antonio, and will help you land a job in\\xa0Glassdoor’s #1 Best Job in America.\\nData Science is a method of providing actionable intelligence from data.\\xa0The data revolution has hit San Antonio,\\xa0resulting in an explosion in Data Scientist positions\\xa0across companies like USAA, Accenture, Booz Allen Hamilton, and HEB. We’ve even seen\\xa0UTSA invest $70 M for a Cybersecurity Center and School of Data Science.\\xa0We built a program to specifically meet the growing demands of this industry.\\nOur program will be 18 weeks long, full-time, hands-on, and project-based. Our curriculum development and instruction is led by Senior Data Scientist, Maggie Giust, who has worked at HEB, Capital Group, and Rackspace, along with input from dozens of practitioners and hiring partners. Students will work with real data sets, realistic problems, and the entire data science pipeline from collection to deployment. They will receive professional development training in resume writing, interviewing, and continuing education to prepare for a smooth transition to the workforce.\\nWe focus on applied data science for immediate impact and ROI in a business, which is how we can back it all up with a 6 month tuition refund guarantee – just like our existing Web Dev program. We’re focusing on Data Science with Python, SQL, and ML, covered in\\xa014 modules: 1) Fundamentals; 2) Applied statistics; 3) SQL; 4) Python; 5) Supervised machine learning – regression; 6) Supervised machine learning – classification; 7) Unsupervised machine learning – clustering; 8) Time series analysis; 9) Anomaly detection; 10) Natural language processing; 11) Distributed machine learning; 12) Advanced topics (deep learning, NoSQL, cloud deployment, etc.); 13) Storytelling with data; and 14) Domain expertise development.\\nApplications are now open\\xa0for Codeup’s first Data Science cohort, which will start class on February 4, 2019. Hurry – there are only 25 seats available! To further our mission of cultivating inclusive growth, scholarships will be available to women, minorities, LGBTQIA+ individuals, veterans, first responders, and people relocating to San Antonio.\\nIf you want to learn about joining our program or hiring our graduates, email datascience@codeup.com!\\n',\n",
       "  'url': 'https://codeup.com/10-tips-to-crush-it-at-the-sa-tech-job-fair/'},\n",
       " {'title': 'Data Science Myths',\n",
       "  'contents': '\\nBy Dimitri Antoniou and Maggie Giust\\nData Science, Big Data, Machine Learning, NLP, Neural Networks…these buzzwords have rapidly spread into mainstream use over the last few years. Unfortunately, definitions are varied and sources of truth are limited. Data Scientists are in fact not magical unicorn wizards who can snap their fingers and turn a business around! Today, we’ll take a cue from our favorite Mythbusters to tackle some common myths and misconceptions in the field of Data Science.\\n\\nvia GIPHY\\nMyth #1: Data Science = Statistics\\nAt first glance, this one doesn’t sound unreasonable. Statistics is defined as, “A branch of mathematics dealing with the collection, analysis, interpretation, and presentation of masses of numerical data.” That sounds a lot like our definition of Data Science: a method of drawing actionable intelligence from data. \\nIn truth, statistics is actually one small piece of Data Science. As our Senior Data Scientist puts it, “Statistics forces us to make assumptions about the nature of the relationship between variables, the distribution of the data, etc.” In the traditional Data Science venn diagram, you’ll see that math/stats make up ⅓ of a working professional. These are tools and skills to leverage, but data science itself is about drawing intelligence from data.\\nBUSTED\\n\\nvia GIPHY\\n\\xa0\\nMyth #2: Data Scientist = Business/Data Analyst\\nThis one is so common that we wrote a whole post about it! These are separate and different roles within the data field. While a data scientist will often do analytics, their spectrum of work is wider. A data analyst will use structured data to create dashboards and KPIs, while a Data Scientist deals with unstructured and messy data for a range of outputs. If they’re interested, business analysts will often progress to data scientists.\\nBUSTED\\n\\nvia GIPHY\\n\\xa0\\nMyth #3: Data Science = Data Science\\nThis one’s tricky, because it’s impossible to either confirm or bust! The ‘myth’ is that one person or company using the term Data Science is not necessarily the same as another person or company using the same term. Depending on organizational capacity, individual experience, educational background, and many other variables, we might be using the same name for different animals.\\nTl;dr: don’t assume a common understanding across hiring managers, recruiters, and practitioners. Look instead for specifics of tools, techniques, methodologies, and outputs. That being said, this one falls in the “plausible” category, because it may actually be true in some circumstances, while false in others.\\nPLAUSIBLE\\n\\nvia GIPHY\\n\\xa0\\nMyth #4: Data Science curricula are well-defined and consistent.\\nWe recommend checking this one out for yourself! A quick google search for bootcamps, master’s degree programs, and online courses will reveal that different organizations teach different things. There is no commonly accepted framework for teaching data science! Some focus more on the engineering, others focus more on machine learning, some think deep learning is foundational, and some prefer to use R. \\nOur curriculum was built through employer interviews, practitioner interviews, market research, and company partnerships. But we’re based in San Antonio! A bootcamp in New York might follow the same process and end up with a different syllabus. Keep in mind, whatever your learning path, that there will be gaps in your learning. The most important thing is to recognize those gaps.\\nBUSTED\\n\\nvia GIPHY\\n\\xa0\\nMyth #5: If I want to be a data scientist, I just need to learn Python or R.\\nThis one is common and dangerous! Just like statistics, programming languages like Python and R are tools. They’re just pieces of a larger puzzle! Knowing Python without understanding the data science pipeline is like knowing how to build a floor without having a floor plan. Of course, these are valuable technical skills that give you a leg up, but they’re second in importance to asking the right questions, knowing what tools to use when, and communicating your findings.\\nBUSTED\\n\\nvia GIPHY\\nStill have questions? Reach out to us at (210) 802-7289 or DataScience@codeup.com! Want to learn more about Data Science? Check out our recent blog posts at codeup.com/blog. And of course, if data science gets you excited, get started with us today at codeup.com/apply!\\n\\n\\n\\n\\n \\n\\n\\n\\n\\n\\n \\n\\n \\n\\n \\n\\n\\n \\n\\n \\n\\nJoin Us_ \\n\\nWe\\'re excited to launch our new Codeup newsletter, which highlights some interesting blog posts, things in the know, and upcoming events. We promise to keep things interesting and engaging - twice a month. \\n\\nGeneral_ \\n\\nStudents_ \\n\\nInfo_ \\n\\nLegal_ \\n\\n \\n\\n600 Navarro St. #350, San Antonio, Texas \\n\\n \\n\\n \\n\\n \\n\\n|   info@codeup.com \\n\\n   |   210 - 802 - 7289   \\n\\n \\n\\nComplaint Policy \\n\\nPrivacy Center\\n\\n\\nApply Now \\n\\nBlog \\n\\nWhy Codeup \\n\\nFAQ \\n\\nContact \\n\\nOur Programs \\n\\nFinancials \\n\\nWeb Development \\n\\nData Science \\n\\nHome \\n\\nAbout Codeup \\n\\nEmployers \\n\\nAlumni \\n\\nWe promise to keep things interesting and engaging - twice a month. \\n\\nCopyright All Rights Reserved © 2019 Codeup | Website Designed by Tribu Digital Marketing \\n\\n\\n \\nvar htmlDiv = document.getElementById(\"rs-plugin-settings-inline-css\"); var htmlDivCss=\"\";\\r\\n\\t\\t\\t\\tif(htmlDiv) {\\r\\n\\t\\t\\t\\t\\thtmlDiv.innerHTML = htmlDiv.innerHTML + htmlDivCss;\\r\\n\\t\\t\\t\\t}else{\\r\\n\\t\\t\\t\\t\\tvar htmlDiv = document.createElement(\"div\");\\r\\n\\t\\t\\t\\t\\thtmlDiv.innerHTML = \"<style>\" + htmlDivCss + \"</style>\";\\r\\n\\t\\t\\t\\t\\tdocument.getElementsByTagName(\"head\")[0].appendChild(htmlDiv.childNodes[0]);\\r\\n\\t\\t\\t\\t}\\r\\n\\t\\t\\t\\n\\r\\nif (setREVStartSize!==undefined) setREVStartSize(\\r\\n\\t{c: \\'#rev_slider_1_1\\', responsiveLevels: [1240,1024,778,480], gridwidth: [1240,1024,778,480], gridheight: [575,500,400,720], sliderLayout: \\'fullwidth\\'});\\r\\n\\t\\t\\t\\r\\nvar revapi1,\\r\\n\\ttpj;\\t\\r\\n(function() {\\t\\t\\t\\r\\n\\tif (!/loaded|interactive|complete/.test(document.readyState)) document.addEventListener(\"DOMContentLoaded\",onLoad); else onLoad();\\t\\r\\n\\tfunction onLoad() {\\t\\t\\t\\t\\r\\n\\t\\tif (tpj===undefined) { tpj = jQuery; if(\"off\" == \"on\") tpj.noConflict();}\\r\\n\\tif(tpj(\"#rev_slider_1_1\").revolution == undefined){\\n\\t\\trevslider_showDoubleJqueryError(\"#rev_slider_1_1\");\\n\\t}else{\\n\\t\\trevapi1 = tpj(\"#rev_slider_1_1\").show().revolution({\\n\\t\\t\\tsliderType:\"hero\",\\n\\t\\t\\tjsFileLocation:\"//codeup.com/wp-content/plugins/revslider/public/assets/js/\",\\n\\t\\t\\tsliderLayout:\"fullwidth\",\\n\\t\\t\\tdottedOverlay:\"none\",\\n\\t\\t\\tdelay:9000,\\n\\t\\t\\tresponsiveLevels:[1240,1024,778,480],\\n\\t\\t\\tvisibilityLevels:[1240,1024,778,480],\\n\\t\\t\\tgridwidth:[1240,1024,778,480],\\n\\t\\t\\tgridheight:[575,500,400,720],\\n\\t\\t\\tlazyType:\"none\",\\n\\t\\t\\tshadow:0,\\n\\t\\t\\tspinner:\"spinner0\",\\n\\t\\t\\tautoHeight:\"off\",\\n\\t\\t\\tdisableProgressBar:\"on\",\\n\\t\\t\\thideThumbsOnMobile:\"off\",\\n\\t\\t\\thideSliderAtLimit:0,\\n\\t\\t\\thideCaptionAtLimit:0,\\n\\t\\t\\thideAllCaptionAtLilmit:0,\\n\\t\\t\\tdebugMode:false,\\n\\t\\t\\tfallbacks: {\\n\\t\\t\\t\\tsimplifyAll:\"off\",\\n\\t\\t\\t\\tdisableFocusListener:false,\\n\\t\\t\\t}\\n\\t\\t});\\n\\t}; /* END OF revapi call */\\n\\t\\n }; /* END OF ON LOAD FUNCTION */\\r\\n}()); /* END OF WRAPPING FUNCTION */\\r\\n\\n\\n',\n",
       "  'url': 'https://codeup.com/10-tips-to-crush-it-at-the-sa-tech-job-fair/'},\n",
       " {'title': 'Data Science VS Data Analytics: What’s The Difference?',\n",
       "  'contents': '\\nBy Dimitri Antoniou\\nA week ago, Codeup launched our immersive Data Science career accelerator! With our first class kicking off in February and only 25 seats available, we’ve been answering a lot of questions from prospective students. One in particular has come up so many times we decided to dedicate a blog post to it. What is the difference between data science and data analytics?\\nFirst, let’s define some of our terms! Take a look at this blog to understand what Data Science is. In short, it is a method of turning raw data into action, leading to a desired outcome. Big Data refers to data sets that are large and complex, usually exceeding the capacity of computers and normal processing power to deal with. Machine Learning is the process of ‘learning’ underlying patterns of data in order to automate the extraction of intelligence from that data.\\n\\nNow, let’s look at the data pipeline that data scientists work through to reach the actionable insights and outcomes we mentioned:\\n\\nWe start by collecting data, which may come from social media channels, network logs, financials, employee records, or more.\\nWe then process that data into usable information stored in databases or streamed.\\nNext, we look back on the history of that data to summarize, describe, and explain, turning the data into meaningful knowledge. Here we’re primarily using mathematics, statistics, and visualization methods.\\nNow we convert that knowledge into intelligence, seeking to predict future events so that we can make decisions in the present. This is where practitioners will introduce mathematical/statistical modeling through machine learning to their data.\\nFinally, we enable action by building automations, running tests, building visualizations, monitoring new data, etc.\\n\\nData professionals work at different stages of the spectrum to move data through the pipeline. On the left, Big Data Engineers specialize in collecting, storing, and processing data, getting it from Data to Information. In the middle, analysts work to understand and convert that information to knowledge. Lastly, a Machine Learning Engineer utilizes machine learning algorithms to turn intelligence into action by building automations, visualizations, recommendations, and predictions.\\nData Scientists span multiple stages of this pipeline, from information to action. They will spend about 70% of their time wrangling data in the information stage. They will conduct statistical analysis to derive knowledge. Lastly, they predict future events and build automations using machine learning.\\nFor those technical folk out there, data science is to data engineering or machine learning engineering as full-stack development is to front-end or back-end development. For the non-technical folk, data science is the umbrella term that houses data analytics, machine learning, and other data professions.\\nSo what’s the biggest difference between a data analyst and a data scientist? Data scientists utilize computer programming and machine learning in addition to mathematics and statistics. \\nStill have questions? Reach out to us at (210) 802-7289 or DataScience@codeup.com! Wondering which of Codeup’s programs is right for you? We’ve got you covered. And of course, if data science gets you excited, get started with us today at codeup.com/apply!\\n',\n",
       "  'url': 'https://codeup.com/10-tips-to-crush-it-at-the-sa-tech-job-fair/'},\n",
       " {'title': '10 Tips to Crush It at the SA Tech Job Fair',\n",
       "  'contents': '\\n10 Tips to Crush It at the SA Tech Job Fair\\nSA Tech Job Fair\\nThe third bi-annual San Antonio Tech Job Fair is just around the corner. Over 25 companies will be at The Jack Guenther Pavilion\\xa0on April 10th, and they are hungry for new tech team members!\\nAt the job fair, companies want to quickly source a list of new talent leads. AKA they need to find qualified employees they can begin interviewing for jobs. Recruiters will represent their organization at tables with informational handouts and company swag. Your goal at a job fair is to set yourself apart from other candidates and ensure your name makes it to the top of those lead lists.\\nThink of your interaction with the company as a mini screening interview. The company rep will subtly evaluate basic qualities like your professionalism, communication and interpersonal skills, work experience, and interest level in the organization. Job fairs are also an opportunity for you to gain information about companies that may not be easily accessible online. \\xa0\\nAt Codeup, we’re passionate about bridging the gap between talent and demand, so we’ve outlined 10 tips to ensure you bring your A-game and leave a lasting impression!\\n10 Tips for Totally Crushing it at the SA Tech Job Fair\\n\\nUse keywords to describe your skills, but don’t go overboard. You’ll probably be talking to a recruiter or talent acquisition specialist. As a technical candidate, recognize these individuals usually aren’t developers or network administrators. They know terms like “JavaScript” and “Apache,” but haven’t written a line of code or spun up a server, so don’t get too caught up in industry jargon.\\nResearch the companies ahead of time. Review the list of attending companies and make sure you know what the company does and whether or not they hire people in your desired role. Look up recent news on the company and mention it during your conversation.\\nDefine your own goals for the job fair. Are you searching for a specific type of role or company culture? What matters most in your job search? Are there companies you want to prioritize? \\xa0Develop a game plan and be intentional with your time.\\nPrepare a stellar résumé. Bring about 20 copies of your résumé to the event, printed on nice paper. We won’t cover resume writing in this post, but there are a plethora of online resources you can consult. For job fairs, don’t worry about cover letters.\\nPolish your online profiles. If recruiters have a copy of your resume, you can be sure they will stalk you online soon. Make sure your online presence is professional and appropriate. A good place to start is by Googling yourself. Update your LinkedIn, and clean up any social media profiles.\\nCraft a 30-60 second elevator pitch. You may only have a few minutes with an employer. What will you say if they ask, “Tell me about yourself?” Consider structuring your pitch like this: Who you are + What you do + What your goals are + Why that matters to the company.\\nDon’t show up in a t-shirt, but trade in your suit for something more chill. Always keep it professional, but remember: tech is typically more casual than other industries. You’ll likely feel out of place if you look like you belong on Wall St., so refer to this guide on dressing for tech interviews.\\nDon’t forget the basics. Start and end each conversation with a firm handshake. Make eye contact while conversing. Smile! Thank the recruiter before you move on to the next table.\\nAsk educated questions. Don’t waste valuable face time with recruiters by asking questions like, “What does [Insert Company here] do?” They hate that question! Instead, try some of these:\\n\\nWhat are the top 3-5 examples of knowledge, skills, and abilities you look for in candidates?\\nWhat’s the best advice you have for someone who wants to work here?\\nWhat is your interview process like?\\nAre you hiring for any roles not currently listed on your websites?\\n\\n\\nFollow up. Collect business cards from each table. The next day, send a short note expressing your interest in the company’s opportunities and thanking the recruiter for his or her time.\\n\\nRSVP for the SA Tech Job Fair taking place at the Jack Guenther Pavilion – September 18th starting at 4 pm.\\xa0\\n',\n",
       "  'url': 'https://codeup.com/10-tips-to-crush-it-at-the-sa-tech-job-fair/'},\n",
       " {'title': 'Competitor Bootcamps Are Closing. Is the Model in Danger?',\n",
       "  'contents': '\\nCompetitor Bootcamps Are Closing. Is the Model in Danger?\\n\\xa0\\n\\nIs the programming bootcamp model in danger?\\nIn recent news, DevBootcamp and The Iron Yard announced that they are closing their doors. This is big news. DevBootcamp was the first programming bootcamp model and The Iron Yard is a national player with 15 campuses across the U.S. In both cases, the companies cited an unsustainable business model. Does that mean the boot-camp model is dead?\\n\\ntl;dr “Nope!”\\nBootcamps exist because traditional education models have failed to provide students job-ready skills for the 21st century. Students demand better employment options from their education. Employers demand skilled and job ready candidates. Big Education’s failure to meet those needs through traditional methods created the fertile ground for the new business model of the programming bootcamp.\\nEducation giant Kaplan and Apollo Education Group (owner of University of Phoenix) bought their way into this new educational model when they purchased The Iron Yard and DevBootcamp. They purchased their competition with the intent to scale up the model. Unfortunately, Big Education is too habituated to coming up short for students. They bought the upstarts that challenged them, tried making changes to run those bootcamps in the “Big Education” way, and, sadly, they’ve closed the doors when they realized that scaling education is more challenging when student outcomes truly matter.\\nThe bootcamp model is still new and there will be plenty consolidation, competition, and changes in the future. This model is based on actually being adaptive, innovative, and sustainable. And there’s always room for innovation.\\n\\n\\nWhat we’ve learned at Codeup…\\n\\n\\nEducation is challenging to scale.\\nPrioritizing quality over growth pays off.\\n\\nWhat we’re doing at Codeup…\\n\\nHigher standards in our application process are leading to better student outcomes.\\nOur reputation and commitment to quality is opening new doors to previously uninterested/unreachable employers.\\nIn the beginning, the majority of Codeup graduates went to work with startups and small businesses. We’re now seeing a larger amount of our graduates place at medium to large sized businesses.\\nDemand is growing and employers are learning that the results are in the graduates.\\nCodeup’s model is sustainable, inclusive, and works.\\n\\nCall or contact us today to see how Codeup’s commitment to quality and approach to being a career accelerator can make a profound difference in your life.\\n',\n",
       "  'url': 'https://codeup.com/competitor-bootcamps-are-closing-is-the-model-in-danger/'}]"
      ]
     },
     "execution_count": 169,
     "metadata": {},
     "output_type": "execute_result"
    }
   ],
   "source": [
    "articles"
   ]
  },
  {
   "cell_type": "markdown",
   "metadata": {},
   "source": [
    "### News Articles\n",
    "\n",
    "We will now be scraping text data from inshorts, a website that provides a brief overview of many different topics.\n",
    "\n",
    "Write a function that scrapes the news articles for the following topics:\n",
    "\n",
    "business\n",
    "sports\n",
    "technology\n",
    "entertainment\n",
    "The end product of this should be a function named get_news_articles that returns a list of dictionaries, where each dictionary has this shape:"
   ]
  },
  {
   "cell_type": "code",
   "execution_count": null,
   "metadata": {},
   "outputs": [],
   "source": []
  },
  {
   "cell_type": "code",
   "execution_count": null,
   "metadata": {},
   "outputs": [],
   "source": []
  }
 ],
 "metadata": {
  "kernelspec": {
   "display_name": "Python 3",
   "language": "python",
   "name": "python3"
  },
  "language_info": {
   "codemirror_mode": {
    "name": "ipython",
    "version": 3
   },
   "file_extension": ".py",
   "mimetype": "text/x-python",
   "name": "python",
   "nbconvert_exporter": "python",
   "pygments_lexer": "ipython3",
   "version": "3.7.1"
  }
 },
 "nbformat": 4,
 "nbformat_minor": 2
}
