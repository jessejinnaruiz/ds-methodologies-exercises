{
 "cells": [
  {
   "cell_type": "code",
   "execution_count": 1,
   "metadata": {},
   "outputs": [
    {
     "name": "stderr",
     "output_type": "stream",
     "text": [
      "/Users/taco/Documents/Coding/Codeup/CourseWork/ds-methodologies-exercises/nlp/acquisition.py:41: UserWarning: No parser was explicitly specified, so I'm using the best available HTML parser for this system (\"lxml\"). This usually isn't a problem, but if you run this code on another system, or in a different virtual environment, it may use a different parser and behave differently.\n",
      "\n",
      "The code that caused this warning is on line 41 of the file /Users/taco/Documents/Coding/Codeup/CourseWork/ds-methodologies-exercises/nlp/acquisition.py. To get rid of this warning, pass the additional argument 'features=\"lxml\"' to the BeautifulSoup constructor.\n",
      "\n",
      "  soup = BeautifulSoup(response.text)\n",
      "/Users/taco/Documents/Coding/Codeup/CourseWork/ds-methodologies-exercises/nlp/acquisition.py:132: UserWarning: No parser was explicitly specified, so I'm using the best available HTML parser for this system (\"lxml\"). This usually isn't a problem, but if you run this code on another system, or in a different virtual environment, it may use a different parser and behave differently.\n",
      "\n",
      "The code that caused this warning is on line 132 of the file /Users/taco/Documents/Coding/Codeup/CourseWork/ds-methodologies-exercises/nlp/acquisition.py. To get rid of this warning, pass the additional argument 'features=\"lxml\"' to the BeautifulSoup constructor.\n",
      "\n",
      "  soup = BeautifulSoup(response.text)\n"
     ]
    }
   ],
   "source": [
    "from pprint import pprint\n",
    "\n",
    "import pandas as pd\n",
    "import numpy as np\n",
    "\n",
    "%matplotlib inline\n",
    "import matplotlib.pyplot as plt\n",
    "\n",
    "from acquisition import get_news_articles\n",
    "\n",
    "import re\n",
    "from math import log\n",
    "# ignore warnings\n",
    "import warnings\n",
    "warnings.filterwarnings(\"ignore\")"
   ]
  },
  {
   "cell_type": "markdown",
   "metadata": {},
   "source": [
    "### Use the acquire functions to import some data..."
   ]
  },
  {
   "cell_type": "code",
   "execution_count": 2,
   "metadata": {},
   "outputs": [],
   "source": [
    "articles = get_news_articles()"
   ]
  },
  {
   "cell_type": "code",
   "execution_count": 3,
   "metadata": {},
   "outputs": [
    {
     "data": {
      "text/plain": [
       "[{'title': \"4th richest man Buffett says Tesla can't sell insurance, Musk responds\",\n",
       "  'content': 'After world\\'s fourth-richest person Warren Buffett claimed carmaker Tesla cannot sell insurance, Tesla\\'s CEO Elon Musk responded with a series of tweets on Sunday. In his first tweet, Musk urged users to buy Tesla Model 3, claiming it\\'s cheaper than a Honda Accord. \"Also 1000 times more fun!\" and \"That\\'s a direct quote from Warren Buffett,\" his next tweets read.',\n",
       "  'category': 'business'},\n",
       " {'title': 'Guj trader, who gifted cars to staff, to remove illegal road he built',\n",
       "  'content': \"Gujarat-based diamond trader Savji Dholakia, who's known for gifting cars to his employees, has said he'll remove a 'kutcha' road built by him across the dry Narmada river to reach his farmhouse. This comes after government officials visited the spot on learning about the illegal structure. Meanwhile, Dholakia said his only intention was to enable people to reach the island.\",\n",
       "  'category': 'business'},\n",
       " {'title': \"I'll never hesitate to fly on 737 MAX: Buffett on crashes killing 346\",\n",
       "  'content': 'World\\'s fourth-richest person, Warren Buffett, has said that he will \"never hesitate even for a second to fly on a Boeing 737 MAX plane\" which was involved in two crashes that claimed the lives of 346 people. He was responding to a question about damage to Boeing\\'s reputation after the crashes. \"Planes have never been so safe,\" Buffett added.',\n",
       "  'category': 'business'},\n",
       " {'title': 'Infosys makes Hyd staff pay for parking, activists call it illegal',\n",
       "  'content': \"Activists in Hyderabad have claimed that Infosys deducting parking charges from employees' salary is illegal. Infosys charges ₹500 for four-wheelers and ₹250 for two-wheelers per month to park on the campus located in the Pocharam Special Economic Zone in city's outskirts. The management reportedly responded to employee complaints by saying the fee was being collected to maintain the parking lot.\",\n",
       "  'category': 'business'},\n",
       " {'title': \"We can't ensure cheaper oil sales to India after Iran sanctions: US\",\n",
       "  'content': 'US Commerce Secretary Wilbur Ross on Monday said that his country cannot ensure the sale of oil to India at cheaper rates to compensate for the loss of Iranian oil. \"Oil is owned by private people, so the government cannot force people to make concessionary prices,\" Ross said. The latest US sanctions barred India from importing oil from Iran.',\n",
       "  'category': 'business'},\n",
       " {'title': \"Britannia broke rules by not reporting Wadia's arrest: InGovern\",\n",
       "  'content': 'Proxy advisory firm InGovern has alleged that Britannia Industries violated listing regulations by not reporting the arrest of its promoter and director Ness Wadia. It added that Wadia must step down in the interest of larger corporate governance. Wadia received a two-year suspended prison term for possessing drugs during a skiing holiday in March in Japan.',\n",
       "  'category': 'business'},\n",
       " {'title': 'Inaccurate, unfair: Xiaomi on reported Q1 phone shipment figures',\n",
       "  'content': 'China\\'s Xiaomi has released a statement disputing the estimated smartphone shipment numbers for the first quarter of 2019 mentioned in media reports quoting \"certain market research institutions\". Calling the information \"inaccurate\" and \"unfair\", Xiaomi said it shipped over 27.5 million smartphones globally in the period. Market research firm IDC had pegged it at 25 million units.',\n",
       "  'category': 'business'},\n",
       " {'title': 'Infibeam terminates EY affiliated auditor citing data breach',\n",
       "  'content': \"E-commerce conglomerate Infibeam Avenues' board recommended terminating services of its auditor SRBC & Co, affiliated to Ernst & Young. Infibeam alleged that the auditor had shared its Unpublished Price Sensitive Information (UPSI) with personal email accounts of their team and third party multiple times. However, the auditor refuted all allegations and said it is open to regulatory inspection.\",\n",
       "  'category': 'business'},\n",
       " {'title': 'EaseMyTrip plans to raise up to ₹750 crore via IPO: Report',\n",
       "  'content': 'Online travel website EaseMyTrip has reportedly engaged Axis Capital and JM Financial as merchant bankers for its proposed IPO, through which it plans to raise between ₹500 crore-₹750 crore. The final call on the issue size is yet to be taken, the report added. Founded in 2008, EaseMyTrip may reportedly become the first online travel aggregator to list in India.',\n",
       "  'category': 'business'},\n",
       " {'title': 'PepsiCo India withdraws lawsuit against two Gujarat farmers',\n",
       "  'content': 'PepsiCo India withdrew its lawsuit against two farmers at Gujarat\\'s Deesa on Monday, nearly a month after they were filed. The maker of Lay\\'s chips had sued the brothers, over \"issues around its seed protection\" and sought ₹20 lakh in damages. Notably, the farmers are on the board of a Deesa-based potato chips company, Tirupati Balaji Chips Potato.',\n",
       "  'category': 'business'},\n",
       " {'title': 'US-China trade war would be bad for the whole world: Buffett',\n",
       "  'content': 'World\\'s fourth-richest person Warren Buffett on Monday said a trade war between the US and China would be \"bad for the whole world\". His statement comes after US President Donald Trump tweeted that he will raise tariffs on $200 billion worth Chinese imports. Major stock markets fell worldwide following this, which Buffett said was a \"rational\" response to Trump\\'s tweet.',\n",
       "  'category': 'business'},\n",
       " {'title': \"India warns WTO about EU's proposal for new e-commerce rules\",\n",
       "  'content': \"India has warned the World Trade Organisation (WTO) against the proposal made by the European Union to create new e-commerce rules. India said the high standards being proposed could affect the goods and services tariff rules under the WTO, impacting the country's domestic industry and job creation. Most developing countries are not ready for binding rules in e-commerce, it added.\",\n",
       "  'category': 'business'},\n",
       " {'title': 'China is a big opportunity for Sun Pharma: Founder Shanghvi',\n",
       "  'content': 'India\\'s largest drugmaker Sun Pharma is looking for a partner to facilitate expansion in China. \"There is a big opportunity for us [in China],\" Founder Dilip Shanghvi said, adding that the company will start scaling up its China business in six to nine months. The unit is expected to contribute significantly to Sun Pharma\\'s $4-billion overall sales within three years.',\n",
       "  'category': 'business'},\n",
       " {'title': \"Ex-bosses at French telco on trial over workers' suicides\",\n",
       "  'content': \"French telco Orange's ex-CEO Didier Lombard, along with six other former executives, will go on trial on Monday over a series of staff suicides between 2008-2010. Prosecutors listed around 18 suicides and 13 suicide attempts by employees, including an incident where a worker stabbed himself during a meeting. Job cuts and stressful working conditions led to the suicides, prosecutors said.\",\n",
       "  'category': 'business'},\n",
       " {'title': 'L&T buys Mindtree shares worth ₹113 crore via open market',\n",
       "  'content': 'Infrastructure major Larsen & Toubro (L&T) on Monday bought shares of Mindtree worth about ₹113 crore through open market transactions. It purchased over 11.52 lakh shares, or 0.75% stake, with the average price being ₹979.94 per share. L&T had last week purchased around 20% stake of VG Siddhartha and Coffee Day in Mindtree through block deal for about ₹3,210 crore.',\n",
       "  'category': 'business'},\n",
       " {'title': 'India, US to engage regularly to resolve trade issues',\n",
       "  'content': 'The government has said India and the US will \"engage regularly\" to resolve outstanding trade issues after Commerce Minister Suresh Prabhu met US Commerce Secretary Wilbur Ross on Monday. The two countries have been engaged in disputes over tariffs and price caps on imported US medical devices. Ross earlier said he planned to hold discussions on India\\'s new e-commerce rules.',\n",
       "  'category': 'business'},\n",
       " {'title': 'CBDT claims 19% rise in ITR e-filing, denies reports of dip',\n",
       "  'content': 'The Central Board of Direct Taxes (CBDT) has refuted media reports which claimed that income tax e-filings dropped by more than 6.6 lakh in FY19. It further said the figures for ITRs e-filed during FY19 are \"not directly comparable\" with those in FY18. It also clarified that the total number of ITRs e-filed increased by nearly 19% in FY19.',\n",
       "  'category': 'business'},\n",
       " {'title': \"Found no merit in taking Jet Airways' Boeing 777s: Air India\",\n",
       "  'content': 'Air India has decided not to pursue its plan to take five Boeing 777s from Jet Airways. \"The engineering unit has done their work around the B777s and found no merit in taking them,\" an airline official said. The national carrier\\'s proposal to take the aircraft was earlier discussed between Air India Chairman Ashwani Lohani and SBI Chairman Rajnish Kumar.',\n",
       "  'category': 'business'},\n",
       " {'title': 'Boeing admits some 737 MAX planes had safety alert issue',\n",
       "  'content': \"Boeing on Sunday revealed some of its 737 MAX planes were accidentally delivered with a cockpit safety alert as an optional addition, rather than a standard feature. The planemaker added it didn't inform the US aviation regulator FAA about this for 13 months despite being aware of the situation. Boeing further insisted that the missing display represented no safety risk.\",\n",
       "  'category': 'business'},\n",
       " {'title': 'Cognizant may cut jobs as it slashes growth forecast by half',\n",
       "  'content': \"American IT giant Cognizant announced it is considering job cuts, after the company nearly halved its 2019 revenue expectations from the 7-9% range to around 3.6-5%. The company's headcount growth had outstripped revenue growth in the past two quarters, it said. The job cuts are most likely to hit employees working at the middle level, as per reports.\",\n",
       "  'category': 'business'},\n",
       " {'title': 'P&G renames Merck as Procter & Gamble Health',\n",
       "  'content': \"Global personal healthcare firm Procter & Gamble (P&G) on Tuesday announced it has renamed India-listed pharmaceutical firm Merck as Procter & Gamble Health. This follows the completion of P&G's global acquisition of the consumer health business of Germany-based Merck KGaA in December 2018. Procter & Gamble Health will be part of P&G's personal healthcare business unit led by Uta Kemmerich-Keil.\",\n",
       "  'category': 'business'},\n",
       " {'title': 'Bharti Airtel profit rises 30% to ₹107 cr in fourth quarter',\n",
       "  'content': \"Telecom major Bharti Airtel on Monday posted a nearly 30% year-on-year rise in profit at ₹107 crore for the quarter ended March 31, 2019. The Sunil Mittal-led company's profit was boosted by an exceptional gain worth ₹2,022 crore during the quarter. The company's revenue during the quarter stood at ₹20,656 crore, a 6% rise from the year-ago period.\",\n",
       "  'category': 'business'},\n",
       " {'title': 'MasterCard to invest ₹7,000 crore in India in next 5 years',\n",
       "  'content': \"Global card payments major MasterCard has said it will invest $1 billion (₹7,000 crore) in India in the next five years. India will also become the first country outside the US to have a global technology node for the company's platforms, it added. The move would enable MasterCard's processing, authentication, tokenisation and all other services to have an India presence.\",\n",
       "  'category': 'business'},\n",
       " {'title': 'ICICI Bank classifies loans to Jet Airways as bad loans in Q4',\n",
       "  'content': 'ICICI Bank on Tuesday said it has classified loans to the temporarily grounded Jet Airways as bad loans in the March quarter. However, the lender clarified it had made sufficient provisions against the same. The bank has further classified the exposure of ₹276 crore towards IL&FS as bad loans and made provision of ₹146 crore against the same.',\n",
       "  'category': 'business'},\n",
       " {'title': 'ICICI Bank profit falls 5% to ₹969 crore in March quarter',\n",
       "  'content': 'Private lender ICICI Bank on Monday posted a profit of ₹969 crore for the March quarter, a 5% decline from the corresponding quarter last year. Total expenses jumped 18% to ₹14,680 crore, led by a 17% rise in interest paid by the lender on deposits. ICICI Bank said it has classified exposure worth ₹276 crore to IL&FS as bad loans.',\n",
       "  'category': 'business'},\n",
       " {'title': 'Fan asks Unadkat to join academy to learn how to bowl, he responds',\n",
       "  'content': 'RR pacer Jaydev Unadkat took to Twitter to respond to a cricket fan, who asked him to enrol into an academy and learn how to bowl. \"Yes boss...already enrolled into one and will forever be enrolled, till the time I keep playing this game passionately. Because learning never stops....Hope you guys learnt something from hurling abuses to me,\" he wrote.',\n",
       "  'category': 'sports'},\n",
       " {'title': 'MS Dhoni votes in Ranchi, shares video of Ziva urging people to vote',\n",
       "  'content': 'A day after featuring in the Chennai Super Kings-Kings XI Punjab IPL 2019 match in Punjab\\'s Mohali, former India captain MS Dhoni cast his vote along with his family in Jharkhand\\'s Ranchi. The 37-year-old later shared a video of his daughter Ziva urging Indian citizens to vote, saying, \"Go and vote just like Mumma and Papa did.\"',\n",
       "  'category': 'sports'},\n",
       " {'title': 'What are the matchups for the IPL 2019 playoffs?',\n",
       "  'content': 'Mumbai Indians and Chennai Super Kings finished as top two teams on the IPL 2019 points table and will play the Qualifier 1 on Tuesday. The winner will reach the final while the loser will play the winner of the Eliminator between Delhi Capitals and SunRisers Hyderabad. The winner of the Qualifier 2 will qualify for the final.',\n",
       "  'category': 'sports'},\n",
       " {'title': 'Rayudu, Shankar end IPL 2019 league stage with identical numbers',\n",
       "  'content': \"In a coincidence, Chennai Super Kings batsman Ambati Rayudu and SunRisers Hyderabad all-rounder Vijay Shankar ended IPL 2019 league stage with identical batting statistics. Both the players scored 219 runs in 14 matches. Notably, Shankar was included in India's squad for the upcoming World Cup as a number four batting probable instead of Rayudu.\",\n",
       "  'category': 'sports'},\n",
       " {'title': 'Umpire Nigel Llong damages door by kicking it after spat with Kohli',\n",
       "  'content': 'Umpire Nigel Llong damaged the door to umpires\\' room at Bengaluru\\'s Chinnaswamy Stadium by kicking it after a spat with Virat Kohli and Umesh Yadav over a no-ball call during RCB-SRH match on Saturday. Llong wrongly declared a no-ball despite Umesh Yadav not overstepping and said, \"My call\" when confronted. He paid ₹5,000 to KSCA officials for damaging the door.',\n",
       "  'category': 'sports'},\n",
       " {'title': 'What should Dhoni do if he wins toss? IIT asks students in exam',\n",
       "  'content': 'The ICC took to Twitter to share a picture of a question paper of IIT Madras, wherein it was asked what should CSK captain MS Dhoni do if he wins the toss in IPL Qualifier. The question included multiple references to dew factor and humidity. \"Shout out to Professor Vignesh...for making exams relevant to important, real-life issues!\" ICC wrote.',\n",
       "  'category': 'sports'},\n",
       " {'title': 'SRH 1st team to reach IPL playoffs with 12 points as MI beat KKR',\n",
       "  'content': 'Mumbai Indians defeated Kolkata Knight Riders by nine wickets on Sunday to finish the league stage of an IPL edition on top of the points table for the third time. With the defeat, Kolkata Knight Riders got eliminated from IPL 2019, while SunRisers Hyderabad became the first ever team to advance to playoffs in an IPL edition with 12 points.',\n",
       "  'category': 'sports'},\n",
       " {'title': 'She was asleep when I hit 50: Rohit on dedicating knock to daughter',\n",
       "  'content': 'MI captain Rohit Sharma dedicated his fifty against KKR on Sunday to his daughter Samaira after celebrating it by rocking his bat in his arms. \"My daughter has been coming here every day to watch me play, but I didn\\'t get lot of runs earlier. It was nice to get some runs today, but she was sleeping!\" he later said.',\n",
       "  'category': 'sports'},\n",
       " {'title': \"Bhogle clarifies after mistakenly snubbing Hardik Pandya's handshake\",\n",
       "  'content': 'Commentator Harsha Bhogle took to Twitter to clarify after mistakenly snubbing MI all-rounder Hardik Pandya\\'s handshake during post-match presentation on Sunday. \"Was good to chat with Hardik at post-game presentation. I find him very easy to talk to. I had to turn to camera at the end and completely missed his handshake. Hope it didn\\'t look too odd!\" he wrote.',\n",
       "  'category': 'sports'},\n",
       " {'title': \"Mandhana's Trailblazers beat Harmanpreet's Supernovas on last ball\",\n",
       "  'content': \"Smriti Mandhana-led Trailblazers defeated Harmanpreet Kaur-led Supernovas on the last ball of the first match of Women's T20 Challenge in Jaipur on Monday. Requiring 19 runs off the last over, Supernovas' captain Harmanpreet Kaur slammed four boundaries off the first five deliveries before Lea Tahuhu got run-out off the last ball. Trailblazers will next face Velocity on Wednesday.\",\n",
       "  'category': 'sports'},\n",
       " {'title': 'Transformed England favourites to win 2019 World Cup: Gavaskar',\n",
       "  'content': 'Former India captain Sunil Gavaskar has said that England are the favourites to win the 2019 World Cup, which will take place in England and Wales from May 30 to July 14. \"Simply because of the way they are playing cricket, the complete turnaround in their cricketing attitude and approach after their disastrous 2015 World Cup,\" he added.',\n",
       "  'category': 'sports'},\n",
       " {'title': \"BCCI responsible for the situation: Sachin on 'conflict of interest'\",\n",
       "  'content': 'Sachin Tendulkar has rejected BCCI\\'s observation that his alleged conflict of interest falls under \"tractable category\", saying the board is \"responsible for the current situation\". Sachin requested BCCI Ethics Officer to call CoA chief and BCCI CEO to \"clarify their position\". Sachin added it was unfortunate he had to clarify questions regarding his role as CAC member and MI mentor.',\n",
       "  'category': 'sports'},\n",
       " {'title': 'Feminists can say what they want: Afridi on no cricket for daughters',\n",
       "  'content': 'Former Pakistan captain Shahid Afridi, in his book, said that he has given permission to his four daughters to play any sport as long as they are indoors. \"Cricket is not for my girls,\" he added. \"The feminists can say what they want; as a conservative Pakistani father, I have made my decision,\" he further said.',\n",
       "  'category': 'sports'},\n",
       " {'title': \"Windies record ODI cricket's first-ever 350+ run opening stand\",\n",
       "  'content': \"Windies' John Campbell and Shai Hope recorded ODI cricket history's first-ever 350-plus run opening stand after sharing 365 runs for the first wicket against Ireland on Sunday. The previous highest opening stand in ODI cricket of 304 runs was recorded by Pakistan's Fakhar Zaman and Imam-ul-Haq against Zimbabwe last year. Overall, it was ODI cricket's second-highest partnership for any wicket.\",\n",
       "  'category': 'sports'},\n",
       " {'title': 'Afridi may be 36, 37 years old, but he is 16 mentally: Gambhir',\n",
       "  'content': 'Cricketer-turned-politician Gautam Gambhir has said ex-Pakistan captain Shahid Afridi may be 36, 37 years old but he is 16 mentally. Further, reacting to Afridi\\'s remarks that he doesn\\'t have any great records, Gambhir said, \"My records are in open. People will decide what I\\'ve done for India.\" Earlier, Gambhir had said he would take Afridi to a psychiatrist in India.',\n",
       "  'category': 'sports'},\n",
       " {'title': 'We picked Ishant based on his tremendous Test form: Kaif',\n",
       "  'content': \"Delhi Capitals' assistant coach Mohammad Kaif said that pacer Ishant Sharma has been a 'big' factor in the side's success this year and that he was picked based on his 'tremendous' Test form for India. Sharma had gone unsold last season after having managed to pick a total of seven wickets in his last four IPL seasons.\",\n",
       "  'category': 'sports'},\n",
       " {'title': \"I've learnt a lot from Kohli, ABD: RCB's Hetmyer after win vs SRH\",\n",
       "  'content': 'Royal Challengers Bangalore\\'s Windies cricketer Shimron Hetmyer, who hit a match-winning 75 runs off 47 balls against SunRisers Hyderabad, said that he has learnt a lot from Virat Kohli and AB de Villiers. \"I am just trying to take my game one step at a time and just try to move up in whatever way I can,\" Hetmyer added.',\n",
       "  'category': 'sports'},\n",
       " {'title': 'Kedar Jadhav likely to miss remainder of IPL 2019',\n",
       "  'content': 'Chennai Super Kings all-rounder Kedar Jadhav is likely to miss the rest of the IPL 2019 due to a shoulder injury he picked up in the side\\'s match against Kings XI Punjab. \"He’s getting an X-Ray and a scan tomorrow, so we’re hopeful for him. I don’t think we’ll see him again in this tournament,\" CSK coach Stephen Fleming said.',\n",
       "  'category': 'sports'},\n",
       " {'title': \"There’s a way back for everyone: Vaughan post Hales' WC snub\",\n",
       "  'content': 'After England opener Alex Hales was dropped from the World Cup squad for failing drug test twice, ex-England captain Michael Vaughan said it will be a long road back for Hales especially as a person. \"I believe there\\'s a way back for everyone...He needs good people around him to get his life back on track,\" he added.',\n",
       "  'category': 'sports'},\n",
       " {'title': 'I’m not focusing on World Cup spot: Jofra Archer after Eng debut',\n",
       "  'content': 'After making his England debut Jofra Archer said that his England teammates have been very welcoming and that he is not focusing on making it to England\\'s World Cup squad. \"I’ll just try to play well and hope, I guess. I’ll try not to set my heart on it... I won’t feel too bad if I’m left out,\" Archer said.',\n",
       "  'category': 'sports'},\n",
       " {'title': 'Diaz scores brace for Real Madrid in win vs Villarreal',\n",
       "  'content': \"Mariano Diaz scored a brace in Real Madrid's 3-2 win over Villarreal in the La Liga on Sunday. The match also witnessed Jesus Vallejo score his first goal for Real Madrid, who were playing without Karim Benzema. Real Madrid have now registered five wins in a row at their home stadium.\",\n",
       "  'category': 'sports'},\n",
       " {'title': '11yrs, hell of a journey: Ramsey cries on Arsenal farewell',\n",
       "  'content': 'Arsenal midfielder Aaron Ramsey, who spent eleven years at the London-based club broke down at his farewell, saying, \"It\\'s been hell of a journey, 11 years of my life, so much of happened in that.\" Ramsey, who scored 64 goals for Arsenal and will join Juventus, was given a guard of honour by his teammates after the match against Brighton.',\n",
       "  'category': 'sports'},\n",
       " {'title': \"Ex-Pak captain Younis rejects PCB's offer to coach U-19 team\",\n",
       "  'content': 'Former Pakistan captain Younis Khan has rejected the offer to coach Pakistan\\'s U-19 team. Khan, the only Pakistan batsman to score 10,000-plus Test runs, reportedly wanted the dual role of head coach and chief selector of U-19 side, which PCB declined citing \\'conflict of interest\\'. \"The idea was to have a high-profile cricketer work with the juniors,\" an official said.',\n",
       "  'category': 'sports'},\n",
       " {'title': 'Chelsea reach third spot with win over Watford',\n",
       "  'content': 'Chelsea reached the third spot in the Premier League table after beating Watford 3-0 at the Stamford Bridge on Sunday. The win came after goals from Ruben Loftus-Cheek, David Luiz, and Gonzalo Higuain, with assists for the first two goals coming from Eden Hazard. Chelsea are a place and point above Tottenham Hotspur.',\n",
       "  'category': 'sports'},\n",
       " {'title': 'OnePlus confirms HDR10+ display for OnePlus 7 Pro ahead of launch',\n",
       "  'content': 'OnePlus has revealed the OnePlus 7 Pro will feature HDR10+ display, which makes the screen compatible with high resolution content from streaming services like Youtube and Netflix. HDR10+ technology produces 4000 nits of peak brightness, an increase of about 3000 nits compared to HDR10. It also delivers frame-by-frame adjustments for better representation of contrast from the HDR source content.',\n",
       "  'category': 'technology'},\n",
       " {'title': \"People give 5-stars to Delhi 'Mountain of Garbage' on Google Maps\",\n",
       "  'content': 'Several people are locating East Delhi\\'s Ghazipur\\'s \\'Mountain of Garbage\\' on Google Maps and leaving 5-star reviews, bringing its average rating to 4.1 stars. In 2018, the landfill stood at a height of 65 metres, eight metres less than the Qutub Minar. \"This place has a beautiful aroma which you can only find here,\" one of the sarcastic reviews read.',\n",
       "  'category': 'technology'},\n",
       " {'title': 'US farming startup starts selling vegetables grown by robot',\n",
       "  'content': 'Iron Ox has said it has started selling lettuce and basil grown by its robots at a nearby California-based store. The startup, which launched last October, said robot farms can be located nearer to customers and save transportation cost because of their smaller physical footprint. Iron Ox uses AI-powered robot arms to tend crops, however, seeds are sown by humans.',\n",
       "  'category': 'technology'},\n",
       " {'title': 'Flipkart co-founders backed startup 3D prints human cornea tissue',\n",
       "  'content': \"Bengaluru-based biotech startup Pandorum Technologies, the first Indian company to 3D print human liver tissue, has bio-engineered human cornea tissue to enable scarless healing of corneal wounds. Pandorum was founded in 2011 by IISc researchers Arun Chandru and Dr Tuhin Bhowmick. Its investors include Flipkart co-founders Sachin Bansal and Binny Bansal and Hero Group's Sunil Munjal among others.\",\n",
       "  'category': 'technology'},\n",
       " {'title': 'Facebook bans breast cancer fundraising ads over nudity, criticised',\n",
       "  'content': 'Facebook was criticised after it banned Breast Cancer Network Australia\\'s fundraising ads featuring topless cancer survivors covering themselves with baked goods, citing nudity rules. Facebook said it rejected the ads because they didn\\'t contain messages like educating people about the disease. \"It\\'s not nudity...it\\'s a reality for so many...I will never be ashamed of my scars,\" said a survivor.',\n",
       "  'category': 'technology'},\n",
       " {'title': 'Buffett & I just sat sucking our thumbs: Munger on not buying Google',\n",
       "  'content': 'Berkshire Hathaway Vice Chairman Charlie Munger said not buying Google shares was one of his and Warren Buffett\\'s biggest regrets. Munger said he and Buffett saw how great search engine optimization was used in a Berkshire company and \"we just sat there sucking our thumbs\". \"I feel like a horse\\'s ass for not identifying Google earlier...We screwed up,\" Munger added.',\n",
       "  'category': 'technology'},\n",
       " {'title': 'Ex-Googler reveals how they plotted to kill Internet Explorer',\n",
       "  'content': 'A former Google employee has revealed how a group of engineers plotted to kill Internet Explorer 6 in 2009. YouTube started displaying a banner to IE6 users, warning that support for Microsoft\\'s browser would be \"phasing out\" soon. \"Within one month, 10% of global IE6 traffic had dropped off... while all other browsers increased in corresponding amounts,\" Chris Zacharias said.',\n",
       "  'category': 'technology'},\n",
       " {'title': 'E-mail warning Tesla employees from leaking data leaked',\n",
       "  'content': \"Tesla's security team warned staff against leaking sensitive information in an e-mail, leaked to CNBC. It read that outsiders, who would do anything to see Tesla fail, were targeting staff via social media and other methods to gain information. Employees were reminded of confidentiality agreements and warned that leaking proprietary business information will result in action against them.\",\n",
       "  'category': 'technology'},\n",
       " {'title': 'YouTuber jailed for 10 years for asking explicit videos from minors',\n",
       "  'content': \"Austin Jones, a 26-year-old YouTuber from the US, has been jailed for 10 years for asking minor girls to send him sexually explicit videos. Jones had pleaded guilty to child pornography, having asked the girls for the videos to prove that they're his fans. He also told some of his victims that the videos were part of a modelling opportunity.\",\n",
       "  'category': 'technology'},\n",
       " {'title': \"Facebook to shut down group video chat test app 'Bonfire'\",\n",
       "  'content': 'Facebook has announced it is shutting down its test group video chat app \\'Bonfire\\', adding, \"In May we\\'ll be ending support for the Bonfire tests.\" \"We\\'ll incorporate elements of what we learned into other current and future products,\" it said. The social media giant had begun testing the app in 2017 in Denmark.',\n",
       "  'category': 'technology'},\n",
       " {'title': 'FB to focus on AI startups for its India Accelerator Program',\n",
       "  'content': \"Facebook has announced it has opened applications for the second edition of the 'India Innovation Accelerator' programme, which will focus especially on startups leveraging Artificial Intelligence (AI). The program runs in partnership with Hyderabad-based startup accelerator T-Hub. The call for application to participate in the program closes on June 2, 2019, the social media giant added.\",\n",
       "  'category': 'technology'},\n",
       " {'title': 'Apple overstated iPhone battery life, claims UK consumer group',\n",
       "  'content': \"Apple overstated its iPhones' battery life, UK consumer advocacy group 'Which?' said after conducting its own tests on nine iPhone models, all falling short of time claims. The iPhone XR battery lasted over 16 hours, while Apple claimed it would last 51% more at 25 hours, Which? found. As per the group, Nokia, Samsung and Sony underestimated their talk time.\",\n",
       "  'category': 'technology'},\n",
       " {'title': \"260 workers in Hyderabad analysed users' FB posts since 2014: Report\",\n",
       "  'content': 'Over the past year, up to 260 Facebook contract workers in Hyderabad analysed millions of Facebook photos, status updates and other content posted since 2014, Reuters reported. The team labels both publicly and privately shared posts to help Facebook develop new features. The posts are reportedly categorised as per five \"dimensions\" including subject of the post, occasion and author\\'s intention.',\n",
       "  'category': 'technology'},\n",
       " {'title': \"Facebook's 8-year-serving execs made heads of 3 Instagram teams\",\n",
       "  'content': \"Facebook has appointed three roughly eight-year veteran executives as head of Instagram's engineering, design and communications teams. Nam Nguyen, Luke Woods and Elisabeth Diana are now leading the respective divisions. Notably, Facebook had appointed veteran executive Adam Mosseri as the Head of Instagram last year after Instagram co-founders Kevin Systrom and Mike Krieger had quit.\",\n",
       "  'category': 'technology'},\n",
       " {'title': 'Uber bars Co-founder Kalanick from NYSE opening bell ceremony: NYT',\n",
       "  'content': \"Uber is barring Co-founder Travis Kalanick from the opening bell ceremony at NYSE on May 10, the day Uber shares are set to begin trading, the New York Times reported. The 42-year-old resigned as the ride-hailing company's CEO in 2017 following pressure from investors. Kalanick, a current board member, remains one of the biggest Uber shareholders with an 8.6% stake.\",\n",
       "  'category': 'technology'},\n",
       " {'title': 'Google testing shopping links under YouTube videos: Report',\n",
       "  'content': 'Google is testing a new feature to include shopping links to products under videos and also display recommended products and their prices on its video-sharing platform YouTube, The Information reported. Clicking on links reportedly takes users to Google Express shopping service, which is presently available in the US. Google is also reportedly planning to rebrand the service to Google Shopping.',\n",
       "  'category': 'technology'},\n",
       " {'title': 'Inaccurate, unfair: Xiaomi on reported Q1 phone shipment figures',\n",
       "  'content': 'China\\'s Xiaomi has released a statement disputing the estimated smartphone shipment numbers for the first quarter of 2019 mentioned in media reports quoting \"certain market research institutions\". Calling the information \"inaccurate\" and \"unfair\", Xiaomi said it shipped over 27.5 million smartphones globally in the period. Market research firm IDC had pegged it at 25 million units.',\n",
       "  'category': 'technology'},\n",
       " {'title': 'US Air Force successfully shoots missiles with laser in test',\n",
       "  'content': \"The US Air Force in a test has successfully shot down air-launched missiles in flight with a ground-based laser system. Called the Self-Protect High Energy Laser Demonstrator (SHiELD), it's intended to eventually be mounted on an aircraft. In 2017, the US Air Force Research Lab awarded Lockheed Martin $26.3 million for design, development and production of high power fibre laser.\",\n",
       "  'category': 'technology'},\n",
       " {'title': 'Microsoft unveils its own blockchain service',\n",
       "  'content': \"Microsoft has unveiled its own fully-managed blockchain service Azure Blockchain Service that allows for consortium blockchain networks' formation, management and governance. Unrelated to cryptocurrency, it'll let businesses build applications on top of blockchain technology. Microsoft partnered with JP Morgan to make Ethereum-based open source blockchain platform Quorum its first support ledger.\",\n",
       "  'category': 'technology'},\n",
       " {'title': 'Microsoft unveils new platform to make elections more secure',\n",
       "  'content': \"Microsoft has unveiled a free open-source software development kit, 'ElectionGuard', which can be incorporated into voting systems, aimed at making voting more secure. It enables end-to-end election verification, opens results to third-party organisations for validation, and lets voters confirm their votes were correctly counted. It'll be ready for testing during the 2020 elections in the US.\",\n",
       "  'category': 'technology'},\n",
       " {'title': 'Facebook fact-checkers to review Instagram posts in test',\n",
       "  'content': \"Photo and video-sharing platform Instagram said it will test-use fact-checking partners contracted by its parent firm Facebook. Instagram said the posts that are deemed false won't be removed, but they won't appear in the Explore tab or in the hashtag result pages. It added it is also considering adding pop-ups that appear when people search for misinformation, like anti-vaccine content.\",\n",
       "  'category': 'technology'},\n",
       " {'title': 'Failed sapphire glass supplier for iPhone charged with fraud',\n",
       "  'content': 'GT Advanced Technologies and its ex-CEO Thomas Gutierrez were charged with misleading investors about the company\\'s ability to supply \"sapphire glass\" for Apple\\'s iPhones and misclassifying over $300 million-debt to Apple. In 2013, Apple agreed to give GT $578 million in four instalments for sapphire glass that met certain standards. In 2014, GT filed for bankruptcy and later exited it.',\n",
       "  'category': 'technology'},\n",
       " {'title': 'IBM-backed project makes WiFi network for natural disasters',\n",
       "  'content': \"Project OWL, which won IBM-hosted Call for Code competition last year, has created a network of WiFi-enabled IoT devices in rubber casings to help connect victims with first responders during natural disasters. In March, they tested their devices in Puerto Rico. They hope to get their network ready in small capacity for hurricane season in America's East Coast, beginning July.\",\n",
       "  'category': 'technology'},\n",
       " {'title': 'No crime in Huawei leak: UK police after defence secy sacked',\n",
       "  'content': \"The British police has said the leak of information from UK's National Security Council that recently led to defence secretary Gavin Williamson's firing didn't constitute a crime, and declined to investigate the matter. The leak claimed that China's Huawei had been allowed to develop UK's 5G network. Williamson denied leaking discussions and had sought police investigation to clear his name.\",\n",
       "  'category': 'technology'},\n",
       " {'title': 'Bitcoin is like a seashell, not an investment: Warren Buffett',\n",
       "  'content': 'Berkshire Hathaway CEO Warren Buffett, while talking about Bitcoin said, \"It doesn\\'t do anything. It just sits there. It\\'s like a seashell or something, and that is not an investment to me.\" Buffett also called Bitcoin a \"gambling device\", which has many frauds connected with it. However, he acknowledged that blockchain technology holds promise, adding that it didn\\'t need Bitcoin.',\n",
       "  'category': 'technology'},\n",
       " {'title': \"Why are you here, don't you have job? Kashyap to media outside clinic\",\n",
       "  'content': 'A video of director Anurag Kashyap has surfaced online, showing him asking the media outside a doctor\\'s clinic, \"Why are you here? Don\\'t you have a job?\" He added, \"Yeh koi kaam hai? Look at yourself in the mirror.\" A photographer posted the video and wrote, \"A humble request to Anurag Kashyap on not guiding us on our jobs.\"',\n",
       "  'category': 'entertainment'},\n",
       " {'title': 'Hollywood actor wears half-tuxedo, half-dress at Met Gala 2019',\n",
       "  'content': 'Hollywood actor Michael Urie wore a half-tuxedo and half-dress outfit by American designer Christian Siriano at the Met Gala 2019 red carpet. He also sported two different make-up looks, with one side of his face featuring a bearded look and another side showing a feminine look. Other celebrities who attended the event included Kim Kardashian, Cardi B and Priyanka Chopra.',\n",
       "  'category': 'entertainment'},\n",
       " {'title': 'Will tell kids how I met their father: Priyanka on pic with Nick',\n",
       "  'content': 'Ahead of Met Gala 2019, Priyanka Chopra shared on Instagram story a picture of herself with husband Nick Jonas from the 2017 Met Gala. \"The story I\\'ll definitely tell our future kids...How I MET your father,\" she wrote. Priyanka and Nick, who weren\\'t dating each other at that time, had made their first public appearance together at Met Gala 2017.',\n",
       "  'category': 'entertainment'},\n",
       " {'title': 'Know real from reel: Abhay shares his photoshopped and real pics',\n",
       "  'content': 'Actor Abhay Deol on Monday shared a collage of his photoshopped and real pictures on Instagram. He wrote, \"On the right - the real deal. On the left - the photoshopped fantasy. God bless technology but know the real from the reel!\" Commenting on the picture, a user wrote, \"Real looks so much better than photoshop version.\"',\n",
       "  'category': 'entertainment'},\n",
       " {'title': 'Stop objectifying women: Divya to troll commenting on her body parts',\n",
       "  'content': 'Actress Divya Dutta responded to an Instagram troll who commented on her photo, \"Big t*ts.\" \"Yes man!! Big t*ts!! So?? Shut up. N stop being obsessed n objectifying women...there\\'s so much more to a woman,\" she wrote. Speaking about the incident, Divya said, \"Respecting women and treating them right is something that needs to be taught at home and school.\"',\n",
       "  'category': 'entertainment'},\n",
       " {'title': '42-yr-old Australian DJ dies in Bali while helping injured friend',\n",
       "  'content': 'Australian DJ Adam Neat, aged 42, passed away in Bali after reportedly crashing through a glass door while trying to help an injured friend on Saturday. The female friend had fallen from the balcony of the resort they were staying at, reports added. Local police said alcohol was involved, reports further wrote.',\n",
       "  'category': 'entertainment'},\n",
       " {'title': 'Ranbir has a secret account, showed me how Instagram works: Katrina',\n",
       "  'content': 'Actress Katrina Kaif has revealed that her rumoured ex-boyfriend Ranbir Kapoor has a secret Instagram account to stalk people. \"And, Ranbir, by the way, was the person who showed me how Instagram works,\" she added. She further denied having a secret account of herself on the platform. The actress had officially joined Instagram in 2017.',\n",
       "  'category': 'entertainment'},\n",
       " {'title': \"Kylie saved up, built her own business : Kris on 'self-made' title\",\n",
       "  'content': 'Kris Jenner, while defending her daughter Kylie Jenner for being named the youngest \\'self-made billionaire\\' by Forbes in 2018, said, \"She saved up her own money and built this amazing business.\" \"My girls, you can say that certain things have been handed to them. But it takes a lot of work to do what they\\'re all doing,\" she added.',\n",
       "  'category': 'entertainment'},\n",
       " {'title': 'Jackie Shroff once borrowed ₹5 from me to give to a beggar: Archana',\n",
       "  'content': 'Actress Archana Puran Singh revealed on \\'The Kapil Sharma Show\\' that Jackie Shroff once borrowed ₹5 from her to give to a beggar. \"This is when we were struggling...Jaggu Dada was the kind of person who\\'d never let anyone asking for alms go...empty-handed,\" she added. Archana revealed this during an episode where Jackie\\'s son Tiger had come as a guest.',\n",
       "  'category': 'entertainment'},\n",
       " {'title': 'Fans claim spotting Starbucks cup in GoT episode, share pic',\n",
       "  'content': 'Many Twitter users have claimed they spotted a Starbucks coffee cup in the latest episode of \\'Game of Thrones\\'. \"Starbucks has opened up a branch in #Winterfell,\" a user commented. \"Before a long day of conquering Westeros and defeating Cersei, Dany needs a morning Starbucks,\" read another comment. Users also joked the makers missed it because of the dark lighting.',\n",
       "  'category': 'entertainment'},\n",
       " {'title': 'Lady Gaga changes 4 outfits in front of photographers at Met Gala',\n",
       "  'content': 'Singer Lady Gaga changed four different outfits and stripped down in front of photographers at Met Gala 2019 red carpet. She walked in a fuchsia pink gown by Brandon Maxwell, changed to a black gown and a hot pink body fitted gown, before finally stripping down to just black lingerie. She reportedly also wore diamond jewellery worth nearly $2 million.',\n",
       "  'category': 'entertainment'},\n",
       " {'title': \"'Avengers: Endgame' 1st Hollywood film to earn ₹300 crore in India\",\n",
       "  'content': \"Marvel's superhero film 'Avengers: Endgame' became the first Hollywood film to cross the ₹300 crore mark in India on Sunday. The film has earned a total of ₹312.95 crore in India so far. It is the highest weekend opener in history and also the fastest movie to gross $2 billion worldwide, achieving the feat in 11 days.\",\n",
       "  'category': 'entertainment'},\n",
       " {'title': 'Karan Oberoi filmed female astrologer during rape for money: Police',\n",
       "  'content': 'Actor Karan Oberoi has been arrested for allegedly raping a female astrologer on the pretext of marriage. \"Oberoi not only raped the woman and filmed the act but also demanded money...threatening to release the video if she didn\\'t pay up,\" said police. He is known for being part of \\'A Band of Boys\\' and working in \\'Jassi Jaisi Koi Nahin\\'.',\n",
       "  'category': 'entertainment'},\n",
       " {'title': \"Ranveer to stay with Kapil Dev in Delhi to prepare for '83: Reports\",\n",
       "  'content': \"To prepare for his role as former Indian cricket team captain Kapil Dev in the upcoming film '83, Ranveer Singh will reportedly live with the former cricketer for 10 days in Delhi. The actor will train with Kapil Dev before going to London for the film's shooting. The film is based on India's first victory at the Cricket World Cup.\",\n",
       "  'category': 'entertainment'},\n",
       " {'title': 'Arjun Kapoor backs homemade food delivery startup FoodCloud',\n",
       "  'content': 'Bollywood actor Arjun Kapoor has co-invested an undisclosed amount in homemade food delivery startup FoodCloud that aims to empower women. \"My aim...is to contribute towards a larger societal purpose...of empowering the homemakers to contribute towards their family income,\" the 33-year-old actor said. Delhi-based FoodCloud was founded by Sanjhi Rajgarhia, Shamit Khemka and Vedant Kanoi.',\n",
       "  'category': 'entertainment'},\n",
       " {'title': 'In photos: Red carpet looks from Met Gala 2019',\n",
       "  'content': 'Kendall Jenner and Kylie Jenner were seen wearing coordinated feathered gowns by Versace on the 2019 Met Gala red carpet. While Kim Kardashian wore a latex Thierry Mugler dress with beading that looked like water droplets, Katy Perry was seen in a chandelier costume by Moschino. Ezra Miller, who was dressed in Burberry, had five eyes painted on his face.',\n",
       "  'category': 'entertainment'},\n",
       " {'title': \"Deepika to star opposite Salman in 'Kick' sequel: Reports\",\n",
       "  'content': \"Actress Deepika Padukone will star opposite Salman Khan in the upcoming sequel to the 2014 film 'Kick', as per reports. The film's producer Sajid Nadiadwala is working on developing Deepika's role in the forthcoming film, reports further suggested. The first installation of the film series saw actress Jacqueline Fernandez in a lead role with Salman.\",\n",
       "  'category': 'entertainment'},\n",
       " {'title': 'Deepika Padukone, Priyanka-Nick attend Met Gala 2019',\n",
       "  'content': \"Priyanka Chopra and her husband American singer Nick Jonas, as well as actress Deepika Padukone were seen walking the carpet at the 2019 Met Gala in New York. The theme of this year's event was 'Camp: Notes on Fashion'. While Priyanka and Nick wore outfits by Dior, Deepika was seen in a pink strapless gown by Zac Posen.\",\n",
       "  'category': 'entertainment'},\n",
       " {'title': 'Akshay donates ₹1 crore to Odisha cyclone victims: Reports',\n",
       "  'content': \"Akshay Kumar donated ₹1 crore to the Chief Minister's Relief Fund for the victims of Cyclone Fani in Odisha, as per reports. Over 34 people were killed in the cyclone, which hit the Odisha coast on May 3. Several actors including Abhishek Bachchan and Madhuri Dixit took to social media to urge people to donate towards relief efforts in Odisha.\",\n",
       "  'category': 'entertainment'},\n",
       " {'title': 'Working on SOTY 2 was like being stripped of my powers: Tiger',\n",
       "  'content': 'Speaking about his upcoming film \\'Student Of The Year 2\\', Tiger Shroff said that it was very different from the action films he usually stars in. \"Working on this one was like being stripped...of my powers,\" he added. \"[T]he film has humanised me. [My character is] a normal college going boy, he is not a one-man army,\" Tiger further said.',\n",
       "  'category': 'entertainment'},\n",
       " {'title': 'Film body urges Godrej to make Raj Kapoor museum at RK Studio site',\n",
       "  'content': \"Indian Film and Television Directors' Association (IFTDA) issued a statement urging Godrej Properties to build a museum to honour late actor Raj Kapoor on the site of RK Studio in Mumbai. This comes after Godrej Properties announced that it had acquired the studio, which was founded by Kapoor in 1948. The studio will soon be converted into a residential complex.\",\n",
       "  'category': 'entertainment'},\n",
       " {'title': \"Yami Gautam joins cast of Ayushmann and Bhumi starrer 'Bala'\",\n",
       "  'content': 'Actress Yami Gautam has joined the cast of the upcoming Ayushmann Khurrana and Bhumi Pednekar starrer \\'Bala\\'. \"I\\'m excited to be working on [the film]. It\\'s a great script, and a relevant concept and an amazing team working on it,\" Yami said. Directed by Amar Kaushik, shooting for the film commenced this week.',\n",
       "  'category': 'entertainment'},\n",
       " {'title': 'Jared Leto carries replica of his own head on Met Gala red carpet',\n",
       "  'content': \"Hollywood actor Jared Leto was seen carrying a prosthetic replica of his own head as an accessory on the 2019 Met Gala red carpet. The actor wore a red high-neck gown with shoulder pads and a jewel-encrusted body chain by luxury fashion house Gucci. Gucci's Fall/Winter 2018 runway show saw models walking the ramp with similar prosthetic heads as accessories.\",\n",
       "  'category': 'entertainment'},\n",
       " {'title': \"Nick compares his Met Gala look to GoT's Littlefinger, shares pic\",\n",
       "  'content': 'American singer Nick Jonas took to Instagram to share a collage comparing his look from the 2019 Met Gala to the character of Lord Petyr Baelish, also known as Littlefinger from \\'Game Of Thrones\\'. \"Sansa...We must protect the vale,\" Nick captioned the image. Sansa\\'s character in the television show is played by Nick\\'s sister-in-law Sophie Turner.',\n",
       "  'category': 'entertainment'}]"
      ]
     },
     "execution_count": 3,
     "metadata": {},
     "output_type": "execute_result"
    }
   ],
   "source": [
    "articles"
   ]
  },
  {
   "cell_type": "markdown",
   "metadata": {},
   "source": [
    "### Look at the first article first..."
   ]
  },
  {
   "cell_type": "code",
   "execution_count": 4,
   "metadata": {},
   "outputs": [],
   "source": [
    "tesla = articles[0]"
   ]
  },
  {
   "cell_type": "code",
   "execution_count": 5,
   "metadata": {},
   "outputs": [
    {
     "data": {
      "text/plain": [
       "{'title': \"4th richest man Buffett says Tesla can't sell insurance, Musk responds\",\n",
       " 'content': 'After world\\'s fourth-richest person Warren Buffett claimed carmaker Tesla cannot sell insurance, Tesla\\'s CEO Elon Musk responded with a series of tweets on Sunday. In his first tweet, Musk urged users to buy Tesla Model 3, claiming it\\'s cheaper than a Honda Accord. \"Also 1000 times more fun!\" and \"That\\'s a direct quote from Warren Buffett,\" his next tweets read.',\n",
       " 'category': 'business'}"
      ]
     },
     "execution_count": 5,
     "metadata": {},
     "output_type": "execute_result"
    }
   ],
   "source": [
    "tesla"
   ]
  },
  {
   "cell_type": "markdown",
   "metadata": {},
   "source": [
    "### Create a Bag of Words (BOW) also known as term frequency list... This is the raw count."
   ]
  },
  {
   "cell_type": "code",
   "execution_count": 6,
   "metadata": {
    "scrolled": true
   },
   "outputs": [
    {
     "data": {
      "text/plain": [
       "a                 3\n",
       "Musk              2\n",
       "tweets            2\n",
       "Tesla             2\n",
       "his               2\n",
       "Warren            2\n",
       "with              1\n",
       "1000              1\n",
       "on                1\n",
       "cannot            1\n",
       "Accord.           1\n",
       "claiming          1\n",
       "direct            1\n",
       "first             1\n",
       "fourth-richest    1\n",
       "from              1\n",
       "Buffett           1\n",
       "Buffett,\"         1\n",
       "cheaper           1\n",
       "Model             1\n",
       "CEO               1\n",
       "next              1\n",
       "responded         1\n",
       "read.             1\n",
       "sell              1\n",
       "and               1\n",
       "Elon              1\n",
       "tweet,            1\n",
       "claimed           1\n",
       "it's              1\n",
       "person            1\n",
       "insurance,        1\n",
       "world's           1\n",
       "In                1\n",
       "Sunday.           1\n",
       "Tesla's           1\n",
       "Honda             1\n",
       "series            1\n",
       "\"That's           1\n",
       "to                1\n",
       "urged             1\n",
       "of                1\n",
       "\"Also             1\n",
       "fun!\"             1\n",
       "users             1\n",
       "quote             1\n",
       "times             1\n",
       "buy               1\n",
       "than              1\n",
       "3,                1\n",
       "more              1\n",
       "carmaker          1\n",
       "After             1\n",
       "dtype: int64"
      ]
     },
     "execution_count": 6,
     "metadata": {},
     "output_type": "execute_result"
    }
   ],
   "source": [
    "tf = pd.Series(tesla['content'].split()).value_counts()\n",
    "tf"
   ]
  },
  {
   "cell_type": "markdown",
   "metadata": {},
   "source": [
    "### This is the normalized or relative frequency, which is calculated by the number of times each word appears divided by the total number of words."
   ]
  },
  {
   "cell_type": "code",
   "execution_count": 7,
   "metadata": {
    "scrolled": true
   },
   "outputs": [
    {
     "data": {
      "text/plain": [
       "a                 0.050000\n",
       "Musk              0.033333\n",
       "tweets            0.033333\n",
       "Tesla             0.033333\n",
       "his               0.033333\n",
       "Warren            0.033333\n",
       "with              0.016667\n",
       "1000              0.016667\n",
       "on                0.016667\n",
       "cannot            0.016667\n",
       "Accord.           0.016667\n",
       "claiming          0.016667\n",
       "direct            0.016667\n",
       "first             0.016667\n",
       "fourth-richest    0.016667\n",
       "from              0.016667\n",
       "Buffett           0.016667\n",
       "Buffett,\"         0.016667\n",
       "cheaper           0.016667\n",
       "Model             0.016667\n",
       "CEO               0.016667\n",
       "next              0.016667\n",
       "responded         0.016667\n",
       "read.             0.016667\n",
       "sell              0.016667\n",
       "and               0.016667\n",
       "Elon              0.016667\n",
       "tweet,            0.016667\n",
       "claimed           0.016667\n",
       "it's              0.016667\n",
       "person            0.016667\n",
       "insurance,        0.016667\n",
       "world's           0.016667\n",
       "In                0.016667\n",
       "Sunday.           0.016667\n",
       "Tesla's           0.016667\n",
       "Honda             0.016667\n",
       "series            0.016667\n",
       "\"That's           0.016667\n",
       "to                0.016667\n",
       "urged             0.016667\n",
       "of                0.016667\n",
       "\"Also             0.016667\n",
       "fun!\"             0.016667\n",
       "users             0.016667\n",
       "quote             0.016667\n",
       "times             0.016667\n",
       "buy               0.016667\n",
       "than              0.016667\n",
       "3,                0.016667\n",
       "more              0.016667\n",
       "carmaker          0.016667\n",
       "After             0.016667\n",
       "dtype: float64"
      ]
     },
     "execution_count": 7,
     "metadata": {},
     "output_type": "execute_result"
    }
   ],
   "source": [
    "pd.Series(tesla['content'].split()).value_counts(normalize=True)"
   ]
  },
  {
   "cell_type": "code",
   "execution_count": 8,
   "metadata": {
    "scrolled": true
   },
   "outputs": [
    {
     "data": {
      "text/plain": [
       "364"
      ]
     },
     "execution_count": 8,
     "metadata": {},
     "output_type": "execute_result"
    }
   ],
   "source": [
    "len(tesla['content'])"
   ]
  },
  {
   "cell_type": "markdown",
   "metadata": {
    "scrolled": true
   },
   "source": [
    "### Make a frequency table to compare these measures of the words."
   ]
  },
  {
   "cell_type": "code",
   "execution_count": 9,
   "metadata": {},
   "outputs": [],
   "source": [
    "freq_df = (pd.DataFrame({'raw_count': pd.Series(tesla['content'].split()).value_counts()})\n",
    " .assign(frequency=lambda df: df.raw_count / df.raw_count.sum())\n",
    " .assign(augmented_frequency=lambda df: df.frequency / df.frequency.max()))"
   ]
  },
  {
   "cell_type": "code",
   "execution_count": 10,
   "metadata": {
    "scrolled": true
   },
   "outputs": [
    {
     "data": {
      "text/html": [
       "<div>\n",
       "<style scoped>\n",
       "    .dataframe tbody tr th:only-of-type {\n",
       "        vertical-align: middle;\n",
       "    }\n",
       "\n",
       "    .dataframe tbody tr th {\n",
       "        vertical-align: top;\n",
       "    }\n",
       "\n",
       "    .dataframe thead th {\n",
       "        text-align: right;\n",
       "    }\n",
       "</style>\n",
       "<table border=\"1\" class=\"dataframe\">\n",
       "  <thead>\n",
       "    <tr style=\"text-align: right;\">\n",
       "      <th></th>\n",
       "      <th>raw_count</th>\n",
       "      <th>frequency</th>\n",
       "      <th>augmented_frequency</th>\n",
       "    </tr>\n",
       "  </thead>\n",
       "  <tbody>\n",
       "    <tr>\n",
       "      <th>a</th>\n",
       "      <td>3</td>\n",
       "      <td>0.050000</td>\n",
       "      <td>1.000000</td>\n",
       "    </tr>\n",
       "    <tr>\n",
       "      <th>Musk</th>\n",
       "      <td>2</td>\n",
       "      <td>0.033333</td>\n",
       "      <td>0.666667</td>\n",
       "    </tr>\n",
       "    <tr>\n",
       "      <th>tweets</th>\n",
       "      <td>2</td>\n",
       "      <td>0.033333</td>\n",
       "      <td>0.666667</td>\n",
       "    </tr>\n",
       "    <tr>\n",
       "      <th>Tesla</th>\n",
       "      <td>2</td>\n",
       "      <td>0.033333</td>\n",
       "      <td>0.666667</td>\n",
       "    </tr>\n",
       "    <tr>\n",
       "      <th>his</th>\n",
       "      <td>2</td>\n",
       "      <td>0.033333</td>\n",
       "      <td>0.666667</td>\n",
       "    </tr>\n",
       "    <tr>\n",
       "      <th>Warren</th>\n",
       "      <td>2</td>\n",
       "      <td>0.033333</td>\n",
       "      <td>0.666667</td>\n",
       "    </tr>\n",
       "    <tr>\n",
       "      <th>with</th>\n",
       "      <td>1</td>\n",
       "      <td>0.016667</td>\n",
       "      <td>0.333333</td>\n",
       "    </tr>\n",
       "    <tr>\n",
       "      <th>1000</th>\n",
       "      <td>1</td>\n",
       "      <td>0.016667</td>\n",
       "      <td>0.333333</td>\n",
       "    </tr>\n",
       "    <tr>\n",
       "      <th>on</th>\n",
       "      <td>1</td>\n",
       "      <td>0.016667</td>\n",
       "      <td>0.333333</td>\n",
       "    </tr>\n",
       "    <tr>\n",
       "      <th>cannot</th>\n",
       "      <td>1</td>\n",
       "      <td>0.016667</td>\n",
       "      <td>0.333333</td>\n",
       "    </tr>\n",
       "    <tr>\n",
       "      <th>Accord.</th>\n",
       "      <td>1</td>\n",
       "      <td>0.016667</td>\n",
       "      <td>0.333333</td>\n",
       "    </tr>\n",
       "    <tr>\n",
       "      <th>claiming</th>\n",
       "      <td>1</td>\n",
       "      <td>0.016667</td>\n",
       "      <td>0.333333</td>\n",
       "    </tr>\n",
       "    <tr>\n",
       "      <th>direct</th>\n",
       "      <td>1</td>\n",
       "      <td>0.016667</td>\n",
       "      <td>0.333333</td>\n",
       "    </tr>\n",
       "    <tr>\n",
       "      <th>first</th>\n",
       "      <td>1</td>\n",
       "      <td>0.016667</td>\n",
       "      <td>0.333333</td>\n",
       "    </tr>\n",
       "    <tr>\n",
       "      <th>fourth-richest</th>\n",
       "      <td>1</td>\n",
       "      <td>0.016667</td>\n",
       "      <td>0.333333</td>\n",
       "    </tr>\n",
       "    <tr>\n",
       "      <th>from</th>\n",
       "      <td>1</td>\n",
       "      <td>0.016667</td>\n",
       "      <td>0.333333</td>\n",
       "    </tr>\n",
       "    <tr>\n",
       "      <th>Buffett</th>\n",
       "      <td>1</td>\n",
       "      <td>0.016667</td>\n",
       "      <td>0.333333</td>\n",
       "    </tr>\n",
       "    <tr>\n",
       "      <th>Buffett,\"</th>\n",
       "      <td>1</td>\n",
       "      <td>0.016667</td>\n",
       "      <td>0.333333</td>\n",
       "    </tr>\n",
       "    <tr>\n",
       "      <th>cheaper</th>\n",
       "      <td>1</td>\n",
       "      <td>0.016667</td>\n",
       "      <td>0.333333</td>\n",
       "    </tr>\n",
       "    <tr>\n",
       "      <th>Model</th>\n",
       "      <td>1</td>\n",
       "      <td>0.016667</td>\n",
       "      <td>0.333333</td>\n",
       "    </tr>\n",
       "    <tr>\n",
       "      <th>CEO</th>\n",
       "      <td>1</td>\n",
       "      <td>0.016667</td>\n",
       "      <td>0.333333</td>\n",
       "    </tr>\n",
       "    <tr>\n",
       "      <th>next</th>\n",
       "      <td>1</td>\n",
       "      <td>0.016667</td>\n",
       "      <td>0.333333</td>\n",
       "    </tr>\n",
       "    <tr>\n",
       "      <th>responded</th>\n",
       "      <td>1</td>\n",
       "      <td>0.016667</td>\n",
       "      <td>0.333333</td>\n",
       "    </tr>\n",
       "    <tr>\n",
       "      <th>read.</th>\n",
       "      <td>1</td>\n",
       "      <td>0.016667</td>\n",
       "      <td>0.333333</td>\n",
       "    </tr>\n",
       "    <tr>\n",
       "      <th>sell</th>\n",
       "      <td>1</td>\n",
       "      <td>0.016667</td>\n",
       "      <td>0.333333</td>\n",
       "    </tr>\n",
       "    <tr>\n",
       "      <th>and</th>\n",
       "      <td>1</td>\n",
       "      <td>0.016667</td>\n",
       "      <td>0.333333</td>\n",
       "    </tr>\n",
       "    <tr>\n",
       "      <th>Elon</th>\n",
       "      <td>1</td>\n",
       "      <td>0.016667</td>\n",
       "      <td>0.333333</td>\n",
       "    </tr>\n",
       "    <tr>\n",
       "      <th>tweet,</th>\n",
       "      <td>1</td>\n",
       "      <td>0.016667</td>\n",
       "      <td>0.333333</td>\n",
       "    </tr>\n",
       "    <tr>\n",
       "      <th>claimed</th>\n",
       "      <td>1</td>\n",
       "      <td>0.016667</td>\n",
       "      <td>0.333333</td>\n",
       "    </tr>\n",
       "    <tr>\n",
       "      <th>it's</th>\n",
       "      <td>1</td>\n",
       "      <td>0.016667</td>\n",
       "      <td>0.333333</td>\n",
       "    </tr>\n",
       "    <tr>\n",
       "      <th>person</th>\n",
       "      <td>1</td>\n",
       "      <td>0.016667</td>\n",
       "      <td>0.333333</td>\n",
       "    </tr>\n",
       "    <tr>\n",
       "      <th>insurance,</th>\n",
       "      <td>1</td>\n",
       "      <td>0.016667</td>\n",
       "      <td>0.333333</td>\n",
       "    </tr>\n",
       "    <tr>\n",
       "      <th>world's</th>\n",
       "      <td>1</td>\n",
       "      <td>0.016667</td>\n",
       "      <td>0.333333</td>\n",
       "    </tr>\n",
       "    <tr>\n",
       "      <th>In</th>\n",
       "      <td>1</td>\n",
       "      <td>0.016667</td>\n",
       "      <td>0.333333</td>\n",
       "    </tr>\n",
       "    <tr>\n",
       "      <th>Sunday.</th>\n",
       "      <td>1</td>\n",
       "      <td>0.016667</td>\n",
       "      <td>0.333333</td>\n",
       "    </tr>\n",
       "    <tr>\n",
       "      <th>Tesla's</th>\n",
       "      <td>1</td>\n",
       "      <td>0.016667</td>\n",
       "      <td>0.333333</td>\n",
       "    </tr>\n",
       "    <tr>\n",
       "      <th>Honda</th>\n",
       "      <td>1</td>\n",
       "      <td>0.016667</td>\n",
       "      <td>0.333333</td>\n",
       "    </tr>\n",
       "    <tr>\n",
       "      <th>series</th>\n",
       "      <td>1</td>\n",
       "      <td>0.016667</td>\n",
       "      <td>0.333333</td>\n",
       "    </tr>\n",
       "    <tr>\n",
       "      <th>\"That's</th>\n",
       "      <td>1</td>\n",
       "      <td>0.016667</td>\n",
       "      <td>0.333333</td>\n",
       "    </tr>\n",
       "    <tr>\n",
       "      <th>to</th>\n",
       "      <td>1</td>\n",
       "      <td>0.016667</td>\n",
       "      <td>0.333333</td>\n",
       "    </tr>\n",
       "    <tr>\n",
       "      <th>urged</th>\n",
       "      <td>1</td>\n",
       "      <td>0.016667</td>\n",
       "      <td>0.333333</td>\n",
       "    </tr>\n",
       "    <tr>\n",
       "      <th>of</th>\n",
       "      <td>1</td>\n",
       "      <td>0.016667</td>\n",
       "      <td>0.333333</td>\n",
       "    </tr>\n",
       "    <tr>\n",
       "      <th>\"Also</th>\n",
       "      <td>1</td>\n",
       "      <td>0.016667</td>\n",
       "      <td>0.333333</td>\n",
       "    </tr>\n",
       "    <tr>\n",
       "      <th>fun!\"</th>\n",
       "      <td>1</td>\n",
       "      <td>0.016667</td>\n",
       "      <td>0.333333</td>\n",
       "    </tr>\n",
       "    <tr>\n",
       "      <th>users</th>\n",
       "      <td>1</td>\n",
       "      <td>0.016667</td>\n",
       "      <td>0.333333</td>\n",
       "    </tr>\n",
       "    <tr>\n",
       "      <th>quote</th>\n",
       "      <td>1</td>\n",
       "      <td>0.016667</td>\n",
       "      <td>0.333333</td>\n",
       "    </tr>\n",
       "    <tr>\n",
       "      <th>times</th>\n",
       "      <td>1</td>\n",
       "      <td>0.016667</td>\n",
       "      <td>0.333333</td>\n",
       "    </tr>\n",
       "    <tr>\n",
       "      <th>buy</th>\n",
       "      <td>1</td>\n",
       "      <td>0.016667</td>\n",
       "      <td>0.333333</td>\n",
       "    </tr>\n",
       "    <tr>\n",
       "      <th>than</th>\n",
       "      <td>1</td>\n",
       "      <td>0.016667</td>\n",
       "      <td>0.333333</td>\n",
       "    </tr>\n",
       "    <tr>\n",
       "      <th>3,</th>\n",
       "      <td>1</td>\n",
       "      <td>0.016667</td>\n",
       "      <td>0.333333</td>\n",
       "    </tr>\n",
       "    <tr>\n",
       "      <th>more</th>\n",
       "      <td>1</td>\n",
       "      <td>0.016667</td>\n",
       "      <td>0.333333</td>\n",
       "    </tr>\n",
       "    <tr>\n",
       "      <th>carmaker</th>\n",
       "      <td>1</td>\n",
       "      <td>0.016667</td>\n",
       "      <td>0.333333</td>\n",
       "    </tr>\n",
       "    <tr>\n",
       "      <th>After</th>\n",
       "      <td>1</td>\n",
       "      <td>0.016667</td>\n",
       "      <td>0.333333</td>\n",
       "    </tr>\n",
       "  </tbody>\n",
       "</table>\n",
       "</div>"
      ],
      "text/plain": [
       "                raw_count  frequency  augmented_frequency\n",
       "a                       3   0.050000             1.000000\n",
       "Musk                    2   0.033333             0.666667\n",
       "tweets                  2   0.033333             0.666667\n",
       "Tesla                   2   0.033333             0.666667\n",
       "his                     2   0.033333             0.666667\n",
       "Warren                  2   0.033333             0.666667\n",
       "with                    1   0.016667             0.333333\n",
       "1000                    1   0.016667             0.333333\n",
       "on                      1   0.016667             0.333333\n",
       "cannot                  1   0.016667             0.333333\n",
       "Accord.                 1   0.016667             0.333333\n",
       "claiming                1   0.016667             0.333333\n",
       "direct                  1   0.016667             0.333333\n",
       "first                   1   0.016667             0.333333\n",
       "fourth-richest          1   0.016667             0.333333\n",
       "from                    1   0.016667             0.333333\n",
       "Buffett                 1   0.016667             0.333333\n",
       "Buffett,\"               1   0.016667             0.333333\n",
       "cheaper                 1   0.016667             0.333333\n",
       "Model                   1   0.016667             0.333333\n",
       "CEO                     1   0.016667             0.333333\n",
       "next                    1   0.016667             0.333333\n",
       "responded               1   0.016667             0.333333\n",
       "read.                   1   0.016667             0.333333\n",
       "sell                    1   0.016667             0.333333\n",
       "and                     1   0.016667             0.333333\n",
       "Elon                    1   0.016667             0.333333\n",
       "tweet,                  1   0.016667             0.333333\n",
       "claimed                 1   0.016667             0.333333\n",
       "it's                    1   0.016667             0.333333\n",
       "person                  1   0.016667             0.333333\n",
       "insurance,              1   0.016667             0.333333\n",
       "world's                 1   0.016667             0.333333\n",
       "In                      1   0.016667             0.333333\n",
       "Sunday.                 1   0.016667             0.333333\n",
       "Tesla's                 1   0.016667             0.333333\n",
       "Honda                   1   0.016667             0.333333\n",
       "series                  1   0.016667             0.333333\n",
       "\"That's                 1   0.016667             0.333333\n",
       "to                      1   0.016667             0.333333\n",
       "urged                   1   0.016667             0.333333\n",
       "of                      1   0.016667             0.333333\n",
       "\"Also                   1   0.016667             0.333333\n",
       "fun!\"                   1   0.016667             0.333333\n",
       "users                   1   0.016667             0.333333\n",
       "quote                   1   0.016667             0.333333\n",
       "times                   1   0.016667             0.333333\n",
       "buy                     1   0.016667             0.333333\n",
       "than                    1   0.016667             0.333333\n",
       "3,                      1   0.016667             0.333333\n",
       "more                    1   0.016667             0.333333\n",
       "carmaker                1   0.016667             0.333333\n",
       "After                   1   0.016667             0.333333"
      ]
     },
     "execution_count": 10,
     "metadata": {},
     "output_type": "execute_result"
    }
   ],
   "source": [
    "freq_df"
   ]
  },
  {
   "cell_type": "code",
   "execution_count": 11,
   "metadata": {},
   "outputs": [
    {
     "data": {
      "text/plain": [
       "list"
      ]
     },
     "execution_count": 11,
     "metadata": {},
     "output_type": "execute_result"
    }
   ],
   "source": [
    "type(articles)"
   ]
  },
  {
   "cell_type": "code",
   "execution_count": 12,
   "metadata": {},
   "outputs": [
    {
     "name": "stdout",
     "output_type": "stream",
     "text": [
      "After world's fourth-richest person Warren Buffett claimed carmaker Tesla cannot sell insurance, Tesla's CEO Elon Musk responded with a series of tweets on Sunday. In his first tweet, Musk urged users to buy Tesla Model 3, claiming it's cheaper than a Honda Accord. \"Also 1000 times more fun!\" and \"That's a direct quote from Warren Buffett,\" his next tweets read.\n",
      "Gujarat-based diamond trader Savji Dholakia, who's known for gifting cars to his employees, has said he'll remove a 'kutcha' road built by him across the dry Narmada river to reach his farmhouse. This comes after government officials visited the spot on learning about the illegal structure. Meanwhile, Dholakia said his only intention was to enable people to reach the island.\n",
      "World's fourth-richest person, Warren Buffett, has said that he will \"never hesitate even for a second to fly on a Boeing 737 MAX plane\" which was involved in two crashes that claimed the lives of 346 people. He was responding to a question about damage to Boeing's reputation after the crashes. \"Planes have never been so safe,\" Buffett added.\n",
      "Activists in Hyderabad have claimed that Infosys deducting parking charges from employees' salary is illegal. Infosys charges ₹500 for four-wheelers and ₹250 for two-wheelers per month to park on the campus located in the Pocharam Special Economic Zone in city's outskirts. The management reportedly responded to employee complaints by saying the fee was being collected to maintain the parking lot.\n",
      "US Commerce Secretary Wilbur Ross on Monday said that his country cannot ensure the sale of oil to India at cheaper rates to compensate for the loss of Iranian oil. \"Oil is owned by private people, so the government cannot force people to make concessionary prices,\" Ross said. The latest US sanctions barred India from importing oil from Iran.\n",
      "Proxy advisory firm InGovern has alleged that Britannia Industries violated listing regulations by not reporting the arrest of its promoter and director Ness Wadia. It added that Wadia must step down in the interest of larger corporate governance. Wadia received a two-year suspended prison term for possessing drugs during a skiing holiday in March in Japan.\n",
      "China's Xiaomi has released a statement disputing the estimated smartphone shipment numbers for the first quarter of 2019 mentioned in media reports quoting \"certain market research institutions\". Calling the information \"inaccurate\" and \"unfair\", Xiaomi said it shipped over 27.5 million smartphones globally in the period. Market research firm IDC had pegged it at 25 million units.\n",
      "E-commerce conglomerate Infibeam Avenues' board recommended terminating services of its auditor SRBC & Co, affiliated to Ernst & Young. Infibeam alleged that the auditor had shared its Unpublished Price Sensitive Information (UPSI) with personal email accounts of their team and third party multiple times. However, the auditor refuted all allegations and said it is open to regulatory inspection.\n",
      "Online travel website EaseMyTrip has reportedly engaged Axis Capital and JM Financial as merchant bankers for its proposed IPO, through which it plans to raise between ₹500 crore-₹750 crore. The final call on the issue size is yet to be taken, the report added. Founded in 2008, EaseMyTrip may reportedly become the first online travel aggregator to list in India.\n",
      "PepsiCo India withdrew its lawsuit against two farmers at Gujarat's Deesa on Monday, nearly a month after they were filed. The maker of Lay's chips had sued the brothers, over \"issues around its seed protection\" and sought ₹20 lakh in damages. Notably, the farmers are on the board of a Deesa-based potato chips company, Tirupati Balaji Chips Potato.\n",
      "World's fourth-richest person Warren Buffett on Monday said a trade war between the US and China would be \"bad for the whole world\". His statement comes after US President Donald Trump tweeted that he will raise tariffs on $200 billion worth Chinese imports. Major stock markets fell worldwide following this, which Buffett said was a \"rational\" response to Trump's tweet.\n",
      "India has warned the World Trade Organisation (WTO) against the proposal made by the European Union to create new e-commerce rules. India said the high standards being proposed could affect the goods and services tariff rules under the WTO, impacting the country's domestic industry and job creation. Most developing countries are not ready for binding rules in e-commerce, it added.\n",
      "India's largest drugmaker Sun Pharma is looking for a partner to facilitate expansion in China. \"There is a big opportunity for us [in China],\" Founder Dilip Shanghvi said, adding that the company will start scaling up its China business in six to nine months. The unit is expected to contribute significantly to Sun Pharma's $4-billion overall sales within three years.\n",
      "French telco Orange's ex-CEO Didier Lombard, along with six other former executives, will go on trial on Monday over a series of staff suicides between 2008-2010. Prosecutors listed around 18 suicides and 13 suicide attempts by employees, including an incident where a worker stabbed himself during a meeting. Job cuts and stressful working conditions led to the suicides, prosecutors said.\n",
      "Infrastructure major Larsen & Toubro (L&T) on Monday bought shares of Mindtree worth about ₹113 crore through open market transactions. It purchased over 11.52 lakh shares, or 0.75% stake, with the average price being ₹979.94 per share. L&T had last week purchased around 20% stake of VG Siddhartha and Coffee Day in Mindtree through block deal for about ₹3,210 crore.\n",
      "The government has said India and the US will \"engage regularly\" to resolve outstanding trade issues after Commerce Minister Suresh Prabhu met US Commerce Secretary Wilbur Ross on Monday. The two countries have been engaged in disputes over tariffs and price caps on imported US medical devices. Ross earlier said he planned to hold discussions on India's new e-commerce rules.\n",
      "The Central Board of Direct Taxes (CBDT) has refuted media reports which claimed that income tax e-filings dropped by more than 6.6 lakh in FY19. It further said the figures for ITRs e-filed during FY19 are \"not directly comparable\" with those in FY18. It also clarified that the total number of ITRs e-filed increased by nearly 19% in FY19.\n",
      "Air India has decided not to pursue its plan to take five Boeing 777s from Jet Airways. \"The engineering unit has done their work around the B777s and found no merit in taking them,\" an airline official said. The national carrier's proposal to take the aircraft was earlier discussed between Air India Chairman Ashwani Lohani and SBI Chairman Rajnish Kumar.\n",
      "Boeing on Sunday revealed some of its 737 MAX planes were accidentally delivered with a cockpit safety alert as an optional addition, rather than a standard feature. The planemaker added it didn't inform the US aviation regulator FAA about this for 13 months despite being aware of the situation. Boeing further insisted that the missing display represented no safety risk.\n",
      "American IT giant Cognizant announced it is considering job cuts, after the company nearly halved its 2019 revenue expectations from the 7-9% range to around 3.6-5%. The company's headcount growth had outstripped revenue growth in the past two quarters, it said. The job cuts are most likely to hit employees working at the middle level, as per reports.\n",
      "Global personal healthcare firm Procter & Gamble (P&G) on Tuesday announced it has renamed India-listed pharmaceutical firm Merck as Procter & Gamble Health. This follows the completion of P&G's global acquisition of the consumer health business of Germany-based Merck KGaA in December 2018. Procter & Gamble Health will be part of P&G's personal healthcare business unit led by Uta Kemmerich-Keil.\n",
      "Telecom major Bharti Airtel on Monday posted a nearly 30% year-on-year rise in profit at ₹107 crore for the quarter ended March 31, 2019. The Sunil Mittal-led company's profit was boosted by an exceptional gain worth ₹2,022 crore during the quarter. The company's revenue during the quarter stood at ₹20,656 crore, a 6% rise from the year-ago period.\n",
      "Global card payments major MasterCard has said it will invest $1 billion (₹7,000 crore) in India in the next five years. India will also become the first country outside the US to have a global technology node for the company's platforms, it added. The move would enable MasterCard's processing, authentication, tokenisation and all other services to have an India presence.\n",
      "ICICI Bank on Tuesday said it has classified loans to the temporarily grounded Jet Airways as bad loans in the March quarter. However, the lender clarified it had made sufficient provisions against the same. The bank has further classified the exposure of ₹276 crore towards IL&FS as bad loans and made provision of ₹146 crore against the same.\n",
      "Private lender ICICI Bank on Monday posted a profit of ₹969 crore for the March quarter, a 5% decline from the corresponding quarter last year. Total expenses jumped 18% to ₹14,680 crore, led by a 17% rise in interest paid by the lender on deposits. ICICI Bank said it has classified exposure worth ₹276 crore to IL&FS as bad loans.\n",
      "RR pacer Jaydev Unadkat took to Twitter to respond to a cricket fan, who asked him to enrol into an academy and learn how to bowl. \"Yes boss...already enrolled into one and will forever be enrolled, till the time I keep playing this game passionately. Because learning never stops....Hope you guys learnt something from hurling abuses to me,\" he wrote.\n",
      "A day after featuring in the Chennai Super Kings-Kings XI Punjab IPL 2019 match in Punjab's Mohali, former India captain MS Dhoni cast his vote along with his family in Jharkhand's Ranchi. The 37-year-old later shared a video of his daughter Ziva urging Indian citizens to vote, saying, \"Go and vote just like Mumma and Papa did.\"\n",
      "Mumbai Indians and Chennai Super Kings finished as top two teams on the IPL 2019 points table and will play the Qualifier 1 on Tuesday. The winner will reach the final while the loser will play the winner of the Eliminator between Delhi Capitals and SunRisers Hyderabad. The winner of the Qualifier 2 will qualify for the final.\n",
      "In a coincidence, Chennai Super Kings batsman Ambati Rayudu and SunRisers Hyderabad all-rounder Vijay Shankar ended IPL 2019 league stage with identical batting statistics. Both the players scored 219 runs in 14 matches. Notably, Shankar was included in India's squad for the upcoming World Cup as a number four batting probable instead of Rayudu.\n",
      "Umpire Nigel Llong damaged the door to umpires' room at Bengaluru's Chinnaswamy Stadium by kicking it after a spat with Virat Kohli and Umesh Yadav over a no-ball call during RCB-SRH match on Saturday. Llong wrongly declared a no-ball despite Umesh Yadav not overstepping and said, \"My call\" when confronted. He paid ₹5,000 to KSCA officials for damaging the door.\n",
      "The ICC took to Twitter to share a picture of a question paper of IIT Madras, wherein it was asked what should CSK captain MS Dhoni do if he wins the toss in IPL Qualifier. The question included multiple references to dew factor and humidity. \"Shout out to Professor Vignesh...for making exams relevant to important, real-life issues!\" ICC wrote.\n",
      "Mumbai Indians defeated Kolkata Knight Riders by nine wickets on Sunday to finish the league stage of an IPL edition on top of the points table for the third time. With the defeat, Kolkata Knight Riders got eliminated from IPL 2019, while SunRisers Hyderabad became the first ever team to advance to playoffs in an IPL edition with 12 points.\n",
      "MI captain Rohit Sharma dedicated his fifty against KKR on Sunday to his daughter Samaira after celebrating it by rocking his bat in his arms. \"My daughter has been coming here every day to watch me play, but I didn't get lot of runs earlier. It was nice to get some runs today, but she was sleeping!\" he later said.\n",
      "Commentator Harsha Bhogle took to Twitter to clarify after mistakenly snubbing MI all-rounder Hardik Pandya's handshake during post-match presentation on Sunday. \"Was good to chat with Hardik at post-game presentation. I find him very easy to talk to. I had to turn to camera at the end and completely missed his handshake. Hope it didn't look too odd!\" he wrote.\n",
      "Smriti Mandhana-led Trailblazers defeated Harmanpreet Kaur-led Supernovas on the last ball of the first match of Women's T20 Challenge in Jaipur on Monday. Requiring 19 runs off the last over, Supernovas' captain Harmanpreet Kaur slammed four boundaries off the first five deliveries before Lea Tahuhu got run-out off the last ball. Trailblazers will next face Velocity on Wednesday.\n",
      "Former India captain Sunil Gavaskar has said that England are the favourites to win the 2019 World Cup, which will take place in England and Wales from May 30 to July 14. \"Simply because of the way they are playing cricket, the complete turnaround in their cricketing attitude and approach after their disastrous 2015 World Cup,\" he added.\n",
      "Sachin Tendulkar has rejected BCCI's observation that his alleged conflict of interest falls under \"tractable category\", saying the board is \"responsible for the current situation\". Sachin requested BCCI Ethics Officer to call CoA chief and BCCI CEO to \"clarify their position\". Sachin added it was unfortunate he had to clarify questions regarding his role as CAC member and MI mentor.\n",
      "Former Pakistan captain Shahid Afridi, in his book, said that he has given permission to his four daughters to play any sport as long as they are indoors. \"Cricket is not for my girls,\" he added. \"The feminists can say what they want; as a conservative Pakistani father, I have made my decision,\" he further said.\n",
      "Windies' John Campbell and Shai Hope recorded ODI cricket history's first-ever 350-plus run opening stand after sharing 365 runs for the first wicket against Ireland on Sunday. The previous highest opening stand in ODI cricket of 304 runs was recorded by Pakistan's Fakhar Zaman and Imam-ul-Haq against Zimbabwe last year. Overall, it was ODI cricket's second-highest partnership for any wicket.\n",
      "Cricketer-turned-politician Gautam Gambhir has said ex-Pakistan captain Shahid Afridi may be 36, 37 years old but he is 16 mentally. Further, reacting to Afridi's remarks that he doesn't have any great records, Gambhir said, \"My records are in open. People will decide what I've done for India.\" Earlier, Gambhir had said he would take Afridi to a psychiatrist in India.\n",
      "Delhi Capitals' assistant coach Mohammad Kaif said that pacer Ishant Sharma has been a 'big' factor in the side's success this year and that he was picked based on his 'tremendous' Test form for India. Sharma had gone unsold last season after having managed to pick a total of seven wickets in his last four IPL seasons.\n",
      "Royal Challengers Bangalore's Windies cricketer Shimron Hetmyer, who hit a match-winning 75 runs off 47 balls against SunRisers Hyderabad, said that he has learnt a lot from Virat Kohli and AB de Villiers. \"I am just trying to take my game one step at a time and just try to move up in whatever way I can,\" Hetmyer added.\n",
      "Chennai Super Kings all-rounder Kedar Jadhav is likely to miss the rest of the IPL 2019 due to a shoulder injury he picked up in the side's match against Kings XI Punjab. \"He’s getting an X-Ray and a scan tomorrow, so we’re hopeful for him. I don’t think we’ll see him again in this tournament,\" CSK coach Stephen Fleming said.\n",
      "After England opener Alex Hales was dropped from the World Cup squad for failing drug test twice, ex-England captain Michael Vaughan said it will be a long road back for Hales especially as a person. \"I believe there's a way back for everyone...He needs good people around him to get his life back on track,\" he added.\n",
      "After making his England debut Jofra Archer said that his England teammates have been very welcoming and that he is not focusing on making it to England's World Cup squad. \"I’ll just try to play well and hope, I guess. I’ll try not to set my heart on it... I won’t feel too bad if I’m left out,\" Archer said.\n",
      "Mariano Diaz scored a brace in Real Madrid's 3-2 win over Villarreal in the La Liga on Sunday. The match also witnessed Jesus Vallejo score his first goal for Real Madrid, who were playing without Karim Benzema. Real Madrid have now registered five wins in a row at their home stadium.\n",
      "Arsenal midfielder Aaron Ramsey, who spent eleven years at the London-based club broke down at his farewell, saying, \"It's been hell of a journey, 11 years of my life, so much of happened in that.\" Ramsey, who scored 64 goals for Arsenal and will join Juventus, was given a guard of honour by his teammates after the match against Brighton.\n",
      "Former Pakistan captain Younis Khan has rejected the offer to coach Pakistan's U-19 team. Khan, the only Pakistan batsman to score 10,000-plus Test runs, reportedly wanted the dual role of head coach and chief selector of U-19 side, which PCB declined citing 'conflict of interest'. \"The idea was to have a high-profile cricketer work with the juniors,\" an official said.\n",
      "Chelsea reached the third spot in the Premier League table after beating Watford 3-0 at the Stamford Bridge on Sunday. The win came after goals from Ruben Loftus-Cheek, David Luiz, and Gonzalo Higuain, with assists for the first two goals coming from Eden Hazard. Chelsea are a place and point above Tottenham Hotspur.\n",
      "OnePlus has revealed the OnePlus 7 Pro will feature HDR10+ display, which makes the screen compatible with high resolution content from streaming services like Youtube and Netflix. HDR10+ technology produces 4000 nits of peak brightness, an increase of about 3000 nits compared to HDR10. It also delivers frame-by-frame adjustments for better representation of contrast from the HDR source content.\n",
      "Several people are locating East Delhi's Ghazipur's 'Mountain of Garbage' on Google Maps and leaving 5-star reviews, bringing its average rating to 4.1 stars. In 2018, the landfill stood at a height of 65 metres, eight metres less than the Qutub Minar. \"This place has a beautiful aroma which you can only find here,\" one of the sarcastic reviews read.\n",
      "Iron Ox has said it has started selling lettuce and basil grown by its robots at a nearby California-based store. The startup, which launched last October, said robot farms can be located nearer to customers and save transportation cost because of their smaller physical footprint. Iron Ox uses AI-powered robot arms to tend crops, however, seeds are sown by humans.\n",
      "Bengaluru-based biotech startup Pandorum Technologies, the first Indian company to 3D print human liver tissue, has bio-engineered human cornea tissue to enable scarless healing of corneal wounds. Pandorum was founded in 2011 by IISc researchers Arun Chandru and Dr Tuhin Bhowmick. Its investors include Flipkart co-founders Sachin Bansal and Binny Bansal and Hero Group's Sunil Munjal among others.\n",
      "Facebook was criticised after it banned Breast Cancer Network Australia's fundraising ads featuring topless cancer survivors covering themselves with baked goods, citing nudity rules. Facebook said it rejected the ads because they didn't contain messages like educating people about the disease. \"It's not nudity...it's a reality for so many...I will never be ashamed of my scars,\" said a survivor.\n",
      "Berkshire Hathaway Vice Chairman Charlie Munger said not buying Google shares was one of his and Warren Buffett's biggest regrets. Munger said he and Buffett saw how great search engine optimization was used in a Berkshire company and \"we just sat there sucking our thumbs\". \"I feel like a horse's ass for not identifying Google earlier...We screwed up,\" Munger added.\n",
      "A former Google employee has revealed how a group of engineers plotted to kill Internet Explorer 6 in 2009. YouTube started displaying a banner to IE6 users, warning that support for Microsoft's browser would be \"phasing out\" soon. \"Within one month, 10% of global IE6 traffic had dropped off... while all other browsers increased in corresponding amounts,\" Chris Zacharias said.\n",
      "Tesla's security team warned staff against leaking sensitive information in an e-mail, leaked to CNBC. It read that outsiders, who would do anything to see Tesla fail, were targeting staff via social media and other methods to gain information. Employees were reminded of confidentiality agreements and warned that leaking proprietary business information will result in action against them.\n",
      "Austin Jones, a 26-year-old YouTuber from the US, has been jailed for 10 years for asking minor girls to send him sexually explicit videos. Jones had pleaded guilty to child pornography, having asked the girls for the videos to prove that they're his fans. He also told some of his victims that the videos were part of a modelling opportunity.\n",
      "Facebook has announced it is shutting down its test group video chat app 'Bonfire', adding, \"In May we'll be ending support for the Bonfire tests.\" \"We'll incorporate elements of what we learned into other current and future products,\" it said. The social media giant had begun testing the app in 2017 in Denmark.\n",
      "Facebook has announced it has opened applications for the second edition of the 'India Innovation Accelerator' programme, which will focus especially on startups leveraging Artificial Intelligence (AI). The program runs in partnership with Hyderabad-based startup accelerator T-Hub. The call for application to participate in the program closes on June 2, 2019, the social media giant added.\n",
      "Apple overstated its iPhones' battery life, UK consumer advocacy group 'Which?' said after conducting its own tests on nine iPhone models, all falling short of time claims. The iPhone XR battery lasted over 16 hours, while Apple claimed it would last 51% more at 25 hours, Which? found. As per the group, Nokia, Samsung and Sony underestimated their talk time.\n",
      "Over the past year, up to 260 Facebook contract workers in Hyderabad analysed millions of Facebook photos, status updates and other content posted since 2014, Reuters reported. The team labels both publicly and privately shared posts to help Facebook develop new features. The posts are reportedly categorised as per five \"dimensions\" including subject of the post, occasion and author's intention.\n",
      "Facebook has appointed three roughly eight-year veteran executives as head of Instagram's engineering, design and communications teams. Nam Nguyen, Luke Woods and Elisabeth Diana are now leading the respective divisions. Notably, Facebook had appointed veteran executive Adam Mosseri as the Head of Instagram last year after Instagram co-founders Kevin Systrom and Mike Krieger had quit.\n",
      "Uber is barring Co-founder Travis Kalanick from the opening bell ceremony at NYSE on May 10, the day Uber shares are set to begin trading, the New York Times reported. The 42-year-old resigned as the ride-hailing company's CEO in 2017 following pressure from investors. Kalanick, a current board member, remains one of the biggest Uber shareholders with an 8.6% stake.\n",
      "Google is testing a new feature to include shopping links to products under videos and also display recommended products and their prices on its video-sharing platform YouTube, The Information reported. Clicking on links reportedly takes users to Google Express shopping service, which is presently available in the US. Google is also reportedly planning to rebrand the service to Google Shopping.\n",
      "China's Xiaomi has released a statement disputing the estimated smartphone shipment numbers for the first quarter of 2019 mentioned in media reports quoting \"certain market research institutions\". Calling the information \"inaccurate\" and \"unfair\", Xiaomi said it shipped over 27.5 million smartphones globally in the period. Market research firm IDC had pegged it at 25 million units.\n",
      "The US Air Force in a test has successfully shot down air-launched missiles in flight with a ground-based laser system. Called the Self-Protect High Energy Laser Demonstrator (SHiELD), it's intended to eventually be mounted on an aircraft. In 2017, the US Air Force Research Lab awarded Lockheed Martin $26.3 million for design, development and production of high power fibre laser.\n",
      "Microsoft has unveiled its own fully-managed blockchain service Azure Blockchain Service that allows for consortium blockchain networks' formation, management and governance. Unrelated to cryptocurrency, it'll let businesses build applications on top of blockchain technology. Microsoft partnered with JP Morgan to make Ethereum-based open source blockchain platform Quorum its first support ledger.\n",
      "Microsoft has unveiled a free open-source software development kit, 'ElectionGuard', which can be incorporated into voting systems, aimed at making voting more secure. It enables end-to-end election verification, opens results to third-party organisations for validation, and lets voters confirm their votes were correctly counted. It'll be ready for testing during the 2020 elections in the US.\n",
      "Photo and video-sharing platform Instagram said it will test-use fact-checking partners contracted by its parent firm Facebook. Instagram said the posts that are deemed false won't be removed, but they won't appear in the Explore tab or in the hashtag result pages. It added it is also considering adding pop-ups that appear when people search for misinformation, like anti-vaccine content.\n",
      "GT Advanced Technologies and its ex-CEO Thomas Gutierrez were charged with misleading investors about the company's ability to supply \"sapphire glass\" for Apple's iPhones and misclassifying over $300 million-debt to Apple. In 2013, Apple agreed to give GT $578 million in four instalments for sapphire glass that met certain standards. In 2014, GT filed for bankruptcy and later exited it.\n",
      "Project OWL, which won IBM-hosted Call for Code competition last year, has created a network of WiFi-enabled IoT devices in rubber casings to help connect victims with first responders during natural disasters. In March, they tested their devices in Puerto Rico. They hope to get their network ready in small capacity for hurricane season in America's East Coast, beginning July.\n",
      "The British police has said the leak of information from UK's National Security Council that recently led to defence secretary Gavin Williamson's firing didn't constitute a crime, and declined to investigate the matter. The leak claimed that China's Huawei had been allowed to develop UK's 5G network. Williamson denied leaking discussions and had sought police investigation to clear his name.\n",
      "Berkshire Hathaway CEO Warren Buffett, while talking about Bitcoin said, \"It doesn't do anything. It just sits there. It's like a seashell or something, and that is not an investment to me.\" Buffett also called Bitcoin a \"gambling device\", which has many frauds connected with it. However, he acknowledged that blockchain technology holds promise, adding that it didn't need Bitcoin.\n",
      "A video of director Anurag Kashyap has surfaced online, showing him asking the media outside a doctor's clinic, \"Why are you here? Don't you have a job?\" He added, \"Yeh koi kaam hai? Look at yourself in the mirror.\" A photographer posted the video and wrote, \"A humble request to Anurag Kashyap on not guiding us on our jobs.\"\n",
      "Hollywood actor Michael Urie wore a half-tuxedo and half-dress outfit by American designer Christian Siriano at the Met Gala 2019 red carpet. He also sported two different make-up looks, with one side of his face featuring a bearded look and another side showing a feminine look. Other celebrities who attended the event included Kim Kardashian, Cardi B and Priyanka Chopra.\n",
      "Ahead of Met Gala 2019, Priyanka Chopra shared on Instagram story a picture of herself with husband Nick Jonas from the 2017 Met Gala. \"The story I'll definitely tell our future kids...How I MET your father,\" she wrote. Priyanka and Nick, who weren't dating each other at that time, had made their first public appearance together at Met Gala 2017.\n",
      "Actor Abhay Deol on Monday shared a collage of his photoshopped and real pictures on Instagram. He wrote, \"On the right - the real deal. On the left - the photoshopped fantasy. God bless technology but know the real from the reel!\" Commenting on the picture, a user wrote, \"Real looks so much better than photoshop version.\"\n",
      "Actress Divya Dutta responded to an Instagram troll who commented on her photo, \"Big t*ts.\" \"Yes man!! Big t*ts!! So?? Shut up. N stop being obsessed n objectifying women...there's so much more to a woman,\" she wrote. Speaking about the incident, Divya said, \"Respecting women and treating them right is something that needs to be taught at home and school.\"\n",
      "Australian DJ Adam Neat, aged 42, passed away in Bali after reportedly crashing through a glass door while trying to help an injured friend on Saturday. The female friend had fallen from the balcony of the resort they were staying at, reports added. Local police said alcohol was involved, reports further wrote.\n",
      "Actress Katrina Kaif has revealed that her rumoured ex-boyfriend Ranbir Kapoor has a secret Instagram account to stalk people. \"And, Ranbir, by the way, was the person who showed me how Instagram works,\" she added. She further denied having a secret account of herself on the platform. The actress had officially joined Instagram in 2017.\n",
      "Kris Jenner, while defending her daughter Kylie Jenner for being named the youngest 'self-made billionaire' by Forbes in 2018, said, \"She saved up her own money and built this amazing business.\" \"My girls, you can say that certain things have been handed to them. But it takes a lot of work to do what they're all doing,\" she added.\n",
      "Actress Archana Puran Singh revealed on 'The Kapil Sharma Show' that Jackie Shroff once borrowed ₹5 from her to give to a beggar. \"This is when we were struggling...Jaggu Dada was the kind of person who'd never let anyone asking for alms go...empty-handed,\" she added. Archana revealed this during an episode where Jackie's son Tiger had come as a guest.\n",
      "Many Twitter users have claimed they spotted a Starbucks coffee cup in the latest episode of 'Game of Thrones'. \"Starbucks has opened up a branch in #Winterfell,\" a user commented. \"Before a long day of conquering Westeros and defeating Cersei, Dany needs a morning Starbucks,\" read another comment. Users also joked the makers missed it because of the dark lighting.\n",
      "Singer Lady Gaga changed four different outfits and stripped down in front of photographers at Met Gala 2019 red carpet. She walked in a fuchsia pink gown by Brandon Maxwell, changed to a black gown and a hot pink body fitted gown, before finally stripping down to just black lingerie. She reportedly also wore diamond jewellery worth nearly $2 million.\n",
      "Marvel's superhero film 'Avengers: Endgame' became the first Hollywood film to cross the ₹300 crore mark in India on Sunday. The film has earned a total of ₹312.95 crore in India so far. It is the highest weekend opener in history and also the fastest movie to gross $2 billion worldwide, achieving the feat in 11 days.\n",
      "Actor Karan Oberoi has been arrested for allegedly raping a female astrologer on the pretext of marriage. \"Oberoi not only raped the woman and filmed the act but also demanded money...threatening to release the video if she didn't pay up,\" said police. He is known for being part of 'A Band of Boys' and working in 'Jassi Jaisi Koi Nahin'.\n",
      "To prepare for his role as former Indian cricket team captain Kapil Dev in the upcoming film '83, Ranveer Singh will reportedly live with the former cricketer for 10 days in Delhi. The actor will train with Kapil Dev before going to London for the film's shooting. The film is based on India's first victory at the Cricket World Cup.\n",
      "Bollywood actor Arjun Kapoor has co-invested an undisclosed amount in homemade food delivery startup FoodCloud that aims to empower women. \"My aim...is to contribute towards a larger societal purpose...of empowering the homemakers to contribute towards their family income,\" the 33-year-old actor said. Delhi-based FoodCloud was founded by Sanjhi Rajgarhia, Shamit Khemka and Vedant Kanoi.\n",
      "Kendall Jenner and Kylie Jenner were seen wearing coordinated feathered gowns by Versace on the 2019 Met Gala red carpet. While Kim Kardashian wore a latex Thierry Mugler dress with beading that looked like water droplets, Katy Perry was seen in a chandelier costume by Moschino. Ezra Miller, who was dressed in Burberry, had five eyes painted on his face.\n",
      "Actress Deepika Padukone will star opposite Salman Khan in the upcoming sequel to the 2014 film 'Kick', as per reports. The film's producer Sajid Nadiadwala is working on developing Deepika's role in the forthcoming film, reports further suggested. The first installation of the film series saw actress Jacqueline Fernandez in a lead role with Salman.\n",
      "Priyanka Chopra and her husband American singer Nick Jonas, as well as actress Deepika Padukone were seen walking the carpet at the 2019 Met Gala in New York. The theme of this year's event was 'Camp: Notes on Fashion'. While Priyanka and Nick wore outfits by Dior, Deepika was seen in a pink strapless gown by Zac Posen.\n",
      "Akshay Kumar donated ₹1 crore to the Chief Minister's Relief Fund for the victims of Cyclone Fani in Odisha, as per reports. Over 34 people were killed in the cyclone, which hit the Odisha coast on May 3. Several actors including Abhishek Bachchan and Madhuri Dixit took to social media to urge people to donate towards relief efforts in Odisha.\n",
      "Speaking about his upcoming film 'Student Of The Year 2', Tiger Shroff said that it was very different from the action films he usually stars in. \"Working on this one was like being stripped...of my powers,\" he added. \"[T]he film has humanised me. [My character is] a normal college going boy, he is not a one-man army,\" Tiger further said.\n",
      "Indian Film and Television Directors' Association (IFTDA) issued a statement urging Godrej Properties to build a museum to honour late actor Raj Kapoor on the site of RK Studio in Mumbai. This comes after Godrej Properties announced that it had acquired the studio, which was founded by Kapoor in 1948. The studio will soon be converted into a residential complex.\n",
      "Actress Yami Gautam has joined the cast of the upcoming Ayushmann Khurrana and Bhumi Pednekar starrer 'Bala'. \"I'm excited to be working on [the film]. It's a great script, and a relevant concept and an amazing team working on it,\" Yami said. Directed by Amar Kaushik, shooting for the film commenced this week.\n",
      "Hollywood actor Jared Leto was seen carrying a prosthetic replica of his own head as an accessory on the 2019 Met Gala red carpet. The actor wore a red high-neck gown with shoulder pads and a jewel-encrusted body chain by luxury fashion house Gucci. Gucci's Fall/Winter 2018 runway show saw models walking the ramp with similar prosthetic heads as accessories.\n",
      "American singer Nick Jonas took to Instagram to share a collage comparing his look from the 2019 Met Gala to the character of Lord Petyr Baelish, also known as Littlefinger from 'Game Of Thrones'. \"Sansa...We must protect the vale,\" Nick captioned the image. Sansa's character in the television show is played by Nick's sister-in-law Sophie Turner.\n"
     ]
    }
   ],
   "source": [
    "for element in articles:\n",
    "    print(element['content'])"
   ]
  },
  {
   "cell_type": "code",
   "execution_count": 13,
   "metadata": {},
   "outputs": [
    {
     "data": {
      "text/plain": [
       "{'title': \"4th richest man Buffett says Tesla can't sell insurance, Musk responds\",\n",
       " 'content': 'After world\\'s fourth-richest person Warren Buffett claimed carmaker Tesla cannot sell insurance, Tesla\\'s CEO Elon Musk responded with a series of tweets on Sunday. In his first tweet, Musk urged users to buy Tesla Model 3, claiming it\\'s cheaper than a Honda Accord. \"Also 1000 times more fun!\" and \"That\\'s a direct quote from Warren Buffett,\" his next tweets read.',\n",
       " 'category': 'business'}"
      ]
     },
     "execution_count": 13,
     "metadata": {},
     "output_type": "execute_result"
    }
   ],
   "source": [
    "tesla"
   ]
  },
  {
   "cell_type": "markdown",
   "metadata": {},
   "source": [
    "### Find the unique words only..."
   ]
  },
  {
   "cell_type": "code",
   "execution_count": 14,
   "metadata": {
    "scrolled": true
   },
   "outputs": [
    {
     "name": "stdout",
     "output_type": "stream",
     "text": [
      "4th richest man Buffett says Tesla can't sell insurance, Musk responds After world's fourth-richest person Warren Buffett claimed carmaker Tesla cannot sell insurance, Tesla's CEO Elon Musk responded with a series of tweets on Sunday. In his first tweet, Musk urged users to buy Tesla Model 3, claiming it's cheaper than a Honda Accord. \"Also 1000 times more fun!\" and \"That's a direct quote from Warren Buffett,\" his next tweets read. business\n"
     ]
    },
    {
     "data": {
      "text/plain": [
       "['a',\n",
       " 'model',\n",
       " 'and',\n",
       " 'cant',\n",
       " 'warren',\n",
       " 'sell',\n",
       " 'responds',\n",
       " '4th',\n",
       " 'responded',\n",
       " 'next',\n",
       " 'musk',\n",
       " 'tweet',\n",
       " 'its',\n",
       " 'buffett',\n",
       " 'cheaper',\n",
       " 'his',\n",
       " 'fun',\n",
       " 'with',\n",
       " 'from',\n",
       " 'first',\n",
       " 'cannot',\n",
       " 'times',\n",
       " 'direct',\n",
       " 'claiming',\n",
       " 'man',\n",
       " 'business',\n",
       " 'tesla',\n",
       " 'says',\n",
       " 'richest',\n",
       " 'on',\n",
       " '1000',\n",
       " 'buy',\n",
       " 'of',\n",
       " 'carmaker',\n",
       " 'teslas',\n",
       " 'honda',\n",
       " 'more',\n",
       " 'than',\n",
       " 'in',\n",
       " '3',\n",
       " 'quote',\n",
       " 'users',\n",
       " 'thats',\n",
       " 'sunday',\n",
       " 'also',\n",
       " 'urged',\n",
       " 'read',\n",
       " 'worlds',\n",
       " 'to',\n",
       " 'insurance',\n",
       " 'ceo',\n",
       " 'series',\n",
       " 'after',\n",
       " 'elon',\n",
       " 'tweets',\n",
       " 'fourthrichest',\n",
       " 'accord',\n",
       " 'person',\n",
       " 'claimed']"
      ]
     },
     "execution_count": 14,
     "metadata": {},
     "output_type": "execute_result"
    }
   ],
   "source": [
    "entire_text = ' '.join(list(tesla.values()))\n",
    "print(entire_text)\n",
    "\n",
    "words = re.sub(r'[^\\w\\s]', '', entire_text.lower()).split()\n",
    "\n",
    "unique_words = list(set(words))\n",
    "unique_words"
   ]
  },
  {
   "cell_type": "markdown",
   "metadata": {},
   "source": [
    "## IDF, Inverse Document Frequency\n"
   ]
  },
  {
   "cell_type": "markdown",
   "metadata": {},
   "source": [
    "### IDF tells us how much information a word provides."
   ]
  },
  {
   "cell_type": "code",
   "execution_count": 15,
   "metadata": {
    "scrolled": true
   },
   "outputs": [
    {
     "name": "stdout",
     "output_type": "stream",
     "text": [
      "a 0.3566749439387324\n",
      "model 1.0033021088637848\n",
      "and 1.0033021088637848\n",
      "cant 3.4011973816621555\n",
      "warren 1.0033021088637848\n",
      "sell 0.3566749439387324\n",
      "responds 1.0033021088637848\n",
      "4th 1.0033021088637848\n",
      "responded 1.0033021088637848\n",
      "next 1.0033021088637848\n",
      "musk 0.3566749439387324\n",
      "tweet 1.0033021088637848\n",
      "its 3.4011973816621555\n",
      "buffett 0.3566749439387324\n",
      "cheaper 1.0033021088637848\n",
      "his 1.0033021088637848\n",
      "fun 1.0033021088637848\n",
      "with 1.0033021088637848\n",
      "from 1.0033021088637848\n",
      "first 1.0033021088637848\n",
      "cannot 1.0033021088637848\n",
      "times 1.0033021088637848\n",
      "direct 1.0033021088637848\n",
      "claiming 1.0033021088637848\n",
      "man 1.0033021088637848\n",
      "business 1.0033021088637848\n",
      "tesla 0.3566749439387324\n",
      "says 1.0033021088637848\n",
      "richest 0.3566749439387324\n",
      "on 0.3566749439387324\n",
      "1000 1.0033021088637848\n",
      "buy 1.0033021088637848\n",
      "of 1.0033021088637848\n",
      "carmaker 1.0033021088637848\n",
      "teslas 3.4011973816621555\n",
      "honda 1.0033021088637848\n",
      "more 1.0033021088637848\n",
      "than 1.0033021088637848\n",
      "in -0.032789822822990956\n",
      "3 1.0033021088637848\n",
      "quote 1.0033021088637848\n",
      "users 1.0033021088637848\n",
      "thats 3.4011973816621555\n",
      "sunday 1.0033021088637848\n",
      "also 1.0033021088637848\n",
      "urged 1.0033021088637848\n",
      "read 1.0033021088637848\n",
      "worlds 3.4011973816621555\n",
      "to 1.0033021088637848\n",
      "insurance 0.3566749439387324\n",
      "ceo 1.0033021088637848\n",
      "series 1.0033021088637848\n",
      "after 1.0033021088637848\n",
      "elon 1.0033021088637848\n",
      "tweets 1.0033021088637848\n",
      "fourthrichest 3.4011973816621555\n",
      "accord 1.0033021088637848\n",
      "person 1.0033021088637848\n",
      "claimed 1.0033021088637848\n"
     ]
    }
   ],
   "source": [
    "for word in unique_words:\n",
    "    n_documents_this_word_appears_in = 0\n",
    "    for doc in tesla.values():\n",
    "        if word in doc.lower():\n",
    "            n_documents_this_word_appears_in += 1\n",
    "    document_frequency = n_documents_this_word_appears_in\n",
    "    idf = log(len(tesla) / (document_frequency + .1))\n",
    "    print(word, idf)"
   ]
  },
  {
   "cell_type": "code",
   "execution_count": 16,
   "metadata": {
    "scrolled": true
   },
   "outputs": [
    {
     "data": {
      "text/plain": [
       "dict_values([\"4th richest man Buffett says Tesla can't sell insurance, Musk responds\", 'After world\\'s fourth-richest person Warren Buffett claimed carmaker Tesla cannot sell insurance, Tesla\\'s CEO Elon Musk responded with a series of tweets on Sunday. In his first tweet, Musk urged users to buy Tesla Model 3, claiming it\\'s cheaper than a Honda Accord. \"Also 1000 times more fun!\" and \"That\\'s a direct quote from Warren Buffett,\" his next tweets read.', 'business'])"
      ]
     },
     "execution_count": 16,
     "metadata": {},
     "output_type": "execute_result"
    }
   ],
   "source": [
    "tesla.values()"
   ]
  },
  {
   "cell_type": "code",
   "execution_count": 17,
   "metadata": {
    "scrolled": true
   },
   "outputs": [
    {
     "data": {
      "text/plain": [
       "{'title': \"4th richest man Buffett says Tesla can't sell insurance, Musk responds\",\n",
       " 'content': 'After world\\'s fourth-richest person Warren Buffett claimed carmaker Tesla cannot sell insurance, Tesla\\'s CEO Elon Musk responded with a series of tweets on Sunday. In his first tweet, Musk urged users to buy Tesla Model 3, claiming it\\'s cheaper than a Honda Accord. \"Also 1000 times more fun!\" and \"That\\'s a direct quote from Warren Buffett,\" his next tweets read.',\n",
       " 'category': 'business'}"
      ]
     },
     "execution_count": 17,
     "metadata": {},
     "output_type": "execute_result"
    }
   ],
   "source": [
    "tesla"
   ]
  },
  {
   "cell_type": "code",
   "execution_count": 18,
   "metadata": {},
   "outputs": [
    {
     "name": "stdout",
     "output_type": "stream",
     "text": [
      "4th richest man Buffett says Tesla can't sell insurance, Musk responds\n",
      "\n",
      "After world's fourth-richest person Warren Buffett claimed carmaker Tesla cannot sell insurance, Tesla's CEO Elon Musk responded with a series of tweets on Sunday. In his first tweet, Musk urged users to buy Tesla Model 3, claiming it's cheaper than a Honda Accord. \"Also 1000 times more fun!\" and \"That's a direct quote from Warren Buffett,\" his next tweets read.\n",
      "\n",
      "business\n",
      "\n"
     ]
    }
   ],
   "source": [
    "for doc in tesla.values():\n",
    "    print(doc)\n",
    "    print()"
   ]
  },
  {
   "cell_type": "code",
   "execution_count": 19,
   "metadata": {},
   "outputs": [],
   "source": [
    "# A simple way to calculate idf for demonstration. Note that this\n",
    "# function relies on the globally defined documents variable.\n",
    "def idf(word):\n",
    "    n_occurences = sum([1 for doc in documents if word in doc])+0.01\n",
    "    return len(documents) / n_occurences\n"
   ]
  },
  {
   "cell_type": "code",
   "execution_count": 20,
   "metadata": {},
   "outputs": [],
   "source": [
    "documents = tesla.values()"
   ]
  },
  {
   "cell_type": "code",
   "execution_count": 21,
   "metadata": {},
   "outputs": [
    {
     "data": {
      "text/plain": [
       "1.492537313432836"
      ]
     },
     "execution_count": 21,
     "metadata": {},
     "output_type": "execute_result"
    }
   ],
   "source": [
    "idf('a')"
   ]
  },
  {
   "cell_type": "code",
   "execution_count": null,
   "metadata": {},
   "outputs": [],
   "source": []
  },
  {
   "cell_type": "code",
   "execution_count": null,
   "metadata": {},
   "outputs": [],
   "source": []
  },
  {
   "cell_type": "markdown",
   "metadata": {},
   "source": [
    "## TFIDF, Term Frequency Inverse Document Frequency"
   ]
  },
  {
   "cell_type": "markdown",
   "metadata": {},
   "source": [
    "## Using sklearn to create a TFIDF, which basically takes TF and IDF and multiplies them togther."
   ]
  },
  {
   "cell_type": "code",
   "execution_count": 22,
   "metadata": {},
   "outputs": [
    {
     "data": {
      "text/plain": [
       "<3x56 sparse matrix of type '<class 'numpy.float64'>'\n",
       "\twith 62 stored elements in Compressed Sparse Row format>"
      ]
     },
     "execution_count": 22,
     "metadata": {},
     "output_type": "execute_result"
    }
   ],
   "source": [
    "from sklearn.feature_extraction.text import TfidfVectorizer\n",
    "\n",
    "tfidf = TfidfVectorizer()\n",
    "tfidf.fit(tesla.values())\n",
    "sparse_matrix = tfidf.transform(tesla.values())\n",
    "tfidf_values = sparse_matrix.todense()\n",
    "sparse_matrix"
   ]
  },
  {
   "cell_type": "markdown",
   "metadata": {},
   "source": [
    "### Output is a sparse matrix... with this sparse matrix we can see the unique TF-IDF score for every word."
   ]
  },
  {
   "cell_type": "code",
   "execution_count": 23,
   "metadata": {},
   "outputs": [
    {
     "data": {
      "text/plain": [
       "matrix([[0.        , 0.34359602, 0.        , 0.        , 0.        ,\n",
       "         0.        , 0.26131363, 0.        , 0.        , 0.34359602,\n",
       "         0.        , 0.        , 0.        , 0.        , 0.        ,\n",
       "         0.        , 0.        , 0.        , 0.        , 0.        ,\n",
       "         0.        , 0.        , 0.        , 0.        , 0.        ,\n",
       "         0.26131363, 0.        , 0.34359602, 0.        , 0.        ,\n",
       "         0.26131363, 0.        , 0.        , 0.        , 0.        ,\n",
       "         0.        , 0.        , 0.        , 0.34359602, 0.26131363,\n",
       "         0.34359602, 0.26131363, 0.        , 0.        , 0.26131363,\n",
       "         0.        , 0.        , 0.        , 0.        , 0.        ,\n",
       "         0.        , 0.        , 0.        , 0.        , 0.        ,\n",
       "         0.        ],\n",
       "        [0.12444899, 0.        , 0.12444899, 0.12444899, 0.12444899,\n",
       "         0.12444899, 0.18929333, 0.        , 0.12444899, 0.        ,\n",
       "         0.12444899, 0.12444899, 0.12444899, 0.12444899, 0.12444899,\n",
       "         0.12444899, 0.12444899, 0.12444899, 0.12444899, 0.12444899,\n",
       "         0.12444899, 0.12444899, 0.24889798, 0.12444899, 0.12444899,\n",
       "         0.09464666, 0.12444899, 0.        , 0.12444899, 0.12444899,\n",
       "         0.18929333, 0.12444899, 0.12444899, 0.12444899, 0.12444899,\n",
       "         0.12444899, 0.12444899, 0.12444899, 0.        , 0.09464666,\n",
       "         0.        , 0.09464666, 0.12444899, 0.12444899, 0.28393999,\n",
       "         0.12444899, 0.12444899, 0.12444899, 0.12444899, 0.12444899,\n",
       "         0.24889798, 0.12444899, 0.12444899, 0.24889798, 0.12444899,\n",
       "         0.12444899],\n",
       "        [0.        , 0.        , 0.        , 0.        , 0.        ,\n",
       "         0.        , 0.        , 1.        , 0.        , 0.        ,\n",
       "         0.        , 0.        , 0.        , 0.        , 0.        ,\n",
       "         0.        , 0.        , 0.        , 0.        , 0.        ,\n",
       "         0.        , 0.        , 0.        , 0.        , 0.        ,\n",
       "         0.        , 0.        , 0.        , 0.        , 0.        ,\n",
       "         0.        , 0.        , 0.        , 0.        , 0.        ,\n",
       "         0.        , 0.        , 0.        , 0.        , 0.        ,\n",
       "         0.        , 0.        , 0.        , 0.        , 0.        ,\n",
       "         0.        , 0.        , 0.        , 0.        , 0.        ,\n",
       "         0.        , 0.        , 0.        , 0.        , 0.        ,\n",
       "         0.        ]])"
      ]
     },
     "execution_count": 23,
     "metadata": {},
     "output_type": "execute_result"
    }
   ],
   "source": [
    "sparse_matrix.todense()"
   ]
  },
  {
   "cell_type": "markdown",
   "metadata": {},
   "source": [
    "### If we want, we can turn this sparse matrix to a dense matrix. The dense matrix has a lot more non-zero entries than zero entries. Opposite of the sparse matrix."
   ]
  },
  {
   "cell_type": "code",
   "execution_count": 24,
   "metadata": {},
   "outputs": [
    {
     "data": {
      "text/html": [
       "<div>\n",
       "<style scoped>\n",
       "    .dataframe tbody tr th:only-of-type {\n",
       "        vertical-align: middle;\n",
       "    }\n",
       "\n",
       "    .dataframe tbody tr th {\n",
       "        vertical-align: top;\n",
       "    }\n",
       "\n",
       "    .dataframe thead th {\n",
       "        text-align: right;\n",
       "    }\n",
       "</style>\n",
       "<table border=\"1\" class=\"dataframe\">\n",
       "  <thead>\n",
       "    <tr style=\"text-align: right;\">\n",
       "      <th></th>\n",
       "      <th>1000</th>\n",
       "      <th>4th</th>\n",
       "      <th>accord</th>\n",
       "      <th>after</th>\n",
       "      <th>also</th>\n",
       "      <th>and</th>\n",
       "      <th>buffett</th>\n",
       "      <th>business</th>\n",
       "      <th>buy</th>\n",
       "      <th>can</th>\n",
       "      <th>...</th>\n",
       "      <th>that</th>\n",
       "      <th>times</th>\n",
       "      <th>to</th>\n",
       "      <th>tweet</th>\n",
       "      <th>tweets</th>\n",
       "      <th>urged</th>\n",
       "      <th>users</th>\n",
       "      <th>warren</th>\n",
       "      <th>with</th>\n",
       "      <th>world</th>\n",
       "    </tr>\n",
       "  </thead>\n",
       "  <tbody>\n",
       "    <tr>\n",
       "      <th>0</th>\n",
       "      <td>0.000000</td>\n",
       "      <td>0.343596</td>\n",
       "      <td>0.000000</td>\n",
       "      <td>0.000000</td>\n",
       "      <td>0.000000</td>\n",
       "      <td>0.000000</td>\n",
       "      <td>0.261314</td>\n",
       "      <td>0.0</td>\n",
       "      <td>0.000000</td>\n",
       "      <td>0.343596</td>\n",
       "      <td>...</td>\n",
       "      <td>0.000000</td>\n",
       "      <td>0.000000</td>\n",
       "      <td>0.000000</td>\n",
       "      <td>0.000000</td>\n",
       "      <td>0.000000</td>\n",
       "      <td>0.000000</td>\n",
       "      <td>0.000000</td>\n",
       "      <td>0.000000</td>\n",
       "      <td>0.000000</td>\n",
       "      <td>0.000000</td>\n",
       "    </tr>\n",
       "    <tr>\n",
       "      <th>1</th>\n",
       "      <td>0.124449</td>\n",
       "      <td>0.000000</td>\n",
       "      <td>0.124449</td>\n",
       "      <td>0.124449</td>\n",
       "      <td>0.124449</td>\n",
       "      <td>0.124449</td>\n",
       "      <td>0.189293</td>\n",
       "      <td>0.0</td>\n",
       "      <td>0.124449</td>\n",
       "      <td>0.000000</td>\n",
       "      <td>...</td>\n",
       "      <td>0.124449</td>\n",
       "      <td>0.124449</td>\n",
       "      <td>0.124449</td>\n",
       "      <td>0.124449</td>\n",
       "      <td>0.248898</td>\n",
       "      <td>0.124449</td>\n",
       "      <td>0.124449</td>\n",
       "      <td>0.248898</td>\n",
       "      <td>0.124449</td>\n",
       "      <td>0.124449</td>\n",
       "    </tr>\n",
       "    <tr>\n",
       "      <th>2</th>\n",
       "      <td>0.000000</td>\n",
       "      <td>0.000000</td>\n",
       "      <td>0.000000</td>\n",
       "      <td>0.000000</td>\n",
       "      <td>0.000000</td>\n",
       "      <td>0.000000</td>\n",
       "      <td>0.000000</td>\n",
       "      <td>1.0</td>\n",
       "      <td>0.000000</td>\n",
       "      <td>0.000000</td>\n",
       "      <td>...</td>\n",
       "      <td>0.000000</td>\n",
       "      <td>0.000000</td>\n",
       "      <td>0.000000</td>\n",
       "      <td>0.000000</td>\n",
       "      <td>0.000000</td>\n",
       "      <td>0.000000</td>\n",
       "      <td>0.000000</td>\n",
       "      <td>0.000000</td>\n",
       "      <td>0.000000</td>\n",
       "      <td>0.000000</td>\n",
       "    </tr>\n",
       "  </tbody>\n",
       "</table>\n",
       "<p>3 rows × 56 columns</p>\n",
       "</div>"
      ],
      "text/plain": [
       "       1000       4th    accord     after      also       and   buffett  \\\n",
       "0  0.000000  0.343596  0.000000  0.000000  0.000000  0.000000  0.261314   \n",
       "1  0.124449  0.000000  0.124449  0.124449  0.124449  0.124449  0.189293   \n",
       "2  0.000000  0.000000  0.000000  0.000000  0.000000  0.000000  0.000000   \n",
       "\n",
       "   business       buy       can    ...         that     times        to  \\\n",
       "0       0.0  0.000000  0.343596    ...     0.000000  0.000000  0.000000   \n",
       "1       0.0  0.124449  0.000000    ...     0.124449  0.124449  0.124449   \n",
       "2       1.0  0.000000  0.000000    ...     0.000000  0.000000  0.000000   \n",
       "\n",
       "      tweet    tweets     urged     users    warren      with     world  \n",
       "0  0.000000  0.000000  0.000000  0.000000  0.000000  0.000000  0.000000  \n",
       "1  0.124449  0.248898  0.124449  0.124449  0.248898  0.124449  0.124449  \n",
       "2  0.000000  0.000000  0.000000  0.000000  0.000000  0.000000  0.000000  \n",
       "\n",
       "[3 rows x 56 columns]"
      ]
     },
     "execution_count": 24,
     "metadata": {},
     "output_type": "execute_result"
    }
   ],
   "source": [
    "pd.DataFrame(tfidf_values, columns=tfidf.get_feature_names())"
   ]
  },
  {
   "cell_type": "markdown",
   "metadata": {},
   "source": [
    "### We can extract the words using .get_feature_names and see what the scores are for the words. This usually can't be seen very well because it is a really really big matrix."
   ]
  },
  {
   "cell_type": "markdown",
   "metadata": {},
   "source": [
    "# Text Messages Spam Data"
   ]
  },
  {
   "cell_type": "markdown",
   "metadata": {},
   "source": [
    "## TFIDF"
   ]
  },
  {
   "cell_type": "markdown",
   "metadata": {},
   "source": [
    "### We split the data into train and test because we have a simple classification problem where we want to predict if something is spam or not spam."
   ]
  },
  {
   "cell_type": "code",
   "execution_count": 25,
   "metadata": {},
   "outputs": [],
   "source": [
    "from sklearn.model_selection import train_test_split\n",
    "\n",
    "spam = pd.read_csv('./spam_clean.csv')\n",
    "spam\n",
    "\n",
    "X_train, X_test, y_train, y_test = train_test_split(spam.text, spam.label, stratify=spam.label, random_state=123)"
   ]
  },
  {
   "cell_type": "markdown",
   "metadata": {},
   "source": [
    "### Use a logistic regression model to train on data and make predictions..."
   ]
  },
  {
   "cell_type": "code",
   "execution_count": 26,
   "metadata": {},
   "outputs": [],
   "source": [
    "from sklearn.linear_model import LogisticRegression\n",
    "\n",
    "tfidf = TfidfVectorizer()\n",
    "tfidf.fit(X_train)\n",
    "train_tfidf_values = tfidf.transform(X_train)\n",
    "\n",
    "model = LogisticRegression()\n",
    "model.fit(train_tfidf_values, y_train)\n",
    "\n",
    "predictions = model.predict(train_tfidf_values)"
   ]
  },
  {
   "cell_type": "markdown",
   "metadata": {},
   "source": [
    "### Look at a confusion matrix to see how the model performed. "
   ]
  },
  {
   "cell_type": "code",
   "execution_count": 27,
   "metadata": {},
   "outputs": [
    {
     "data": {
      "text/html": [
       "<div>\n",
       "<style scoped>\n",
       "    .dataframe tbody tr th:only-of-type {\n",
       "        vertical-align: middle;\n",
       "    }\n",
       "\n",
       "    .dataframe tbody tr th {\n",
       "        vertical-align: top;\n",
       "    }\n",
       "\n",
       "    .dataframe thead th {\n",
       "        text-align: right;\n",
       "    }\n",
       "</style>\n",
       "<table border=\"1\" class=\"dataframe\">\n",
       "  <thead>\n",
       "    <tr style=\"text-align: right;\">\n",
       "      <th>actual</th>\n",
       "      <th>ham</th>\n",
       "      <th>spam</th>\n",
       "    </tr>\n",
       "    <tr>\n",
       "      <th>predicted</th>\n",
       "      <th></th>\n",
       "      <th></th>\n",
       "    </tr>\n",
       "  </thead>\n",
       "  <tbody>\n",
       "    <tr>\n",
       "      <th>ham</th>\n",
       "      <td>3618</td>\n",
       "      <td>110</td>\n",
       "    </tr>\n",
       "    <tr>\n",
       "      <th>spam</th>\n",
       "      <td>1</td>\n",
       "      <td>450</td>\n",
       "    </tr>\n",
       "  </tbody>\n",
       "</table>\n",
       "</div>"
      ],
      "text/plain": [
       "actual      ham  spam\n",
       "predicted            \n",
       "ham        3618   110\n",
       "spam          1   450"
      ]
     },
     "execution_count": 27,
     "metadata": {},
     "output_type": "execute_result"
    }
   ],
   "source": [
    "df = pd.DataFrame(dict(actual=y_train, predicted=predictions))\n",
    "\n",
    "pd.crosstab(df.predicted, df.actual)"
   ]
  },
  {
   "cell_type": "markdown",
   "metadata": {},
   "source": [
    "### Use a classification report to see the stats..."
   ]
  },
  {
   "cell_type": "code",
   "execution_count": 28,
   "metadata": {},
   "outputs": [
    {
     "name": "stdout",
     "output_type": "stream",
     "text": [
      "              precision    recall  f1-score   support\n",
      "\n",
      "         ham       0.97      1.00      0.98      3619\n",
      "        spam       1.00      0.80      0.89       560\n",
      "\n",
      "   micro avg       0.97      0.97      0.97      4179\n",
      "   macro avg       0.98      0.90      0.94      4179\n",
      "weighted avg       0.97      0.97      0.97      4179\n",
      "\n"
     ]
    }
   ],
   "source": [
    "from sklearn.metrics import classification_report\n",
    "\n",
    "print(classification_report(df.actual, df.predicted))"
   ]
  },
  {
   "cell_type": "markdown",
   "metadata": {},
   "source": [
    "### Now evaluate the model by using the test data..."
   ]
  },
  {
   "cell_type": "code",
   "execution_count": 29,
   "metadata": {},
   "outputs": [
    {
     "name": "stdout",
     "output_type": "stream",
     "text": [
      "              precision    recall  f1-score   support\n",
      "\n",
      "         ham       0.98      1.00      0.99      1206\n",
      "        spam       0.98      0.85      0.91       187\n",
      "\n",
      "   micro avg       0.98      0.98      0.98      1393\n",
      "   macro avg       0.98      0.92      0.95      1393\n",
      "weighted avg       0.98      0.98      0.98      1393\n",
      "\n"
     ]
    }
   ],
   "source": [
    "test_tfidf_values = tfidf.transform(X_test)\n",
    "test_predictions = model.predict(test_tfidf_values)\n",
    "\n",
    "print(classification_report(y_test, test_predictions))"
   ]
  },
  {
   "cell_type": "markdown",
   "metadata": {},
   "source": [
    "### Create a little function to predict whether some unknown text is spam or not spam."
   ]
  },
  {
   "cell_type": "code",
   "execution_count": 30,
   "metadata": {},
   "outputs": [],
   "source": [
    "def predict(unknown_text):\n",
    "    return model.predict(tfidf.transform([unknown_text]))[0]"
   ]
  },
  {
   "cell_type": "code",
   "execution_count": 31,
   "metadata": {},
   "outputs": [
    {
     "data": {
      "text/plain": [
       "'spam'"
      ]
     },
     "execution_count": 31,
     "metadata": {},
     "output_type": "execute_result"
    }
   ],
   "source": [
    "predict('free cash prize')\n"
   ]
  },
  {
   "cell_type": "code",
   "execution_count": 32,
   "metadata": {},
   "outputs": [
    {
     "data": {
      "text/plain": [
       "'ham'"
      ]
     },
     "execution_count": 32,
     "metadata": {},
     "output_type": "execute_result"
    }
   ],
   "source": [
    "predict('lovely cows')\n"
   ]
  },
  {
   "cell_type": "markdown",
   "metadata": {},
   "source": [
    "# Additional Modeling"
   ]
  },
  {
   "cell_type": "code",
   "execution_count": 33,
   "metadata": {},
   "outputs": [],
   "source": [
    "import logging\n",
    "import pandas as pd\n",
    "import numpy as np\n",
    "from numpy import random\n",
    "import matplotlib.pyplot as plt\n",
    "\n",
    "import gensim\n",
    "import nltk\n",
    "from sklearn.model_selection import train_test_split\n",
    "from sklearn.feature_extraction.text import CountVectorizer, TfidfVectorizer\n",
    "from sklearn.metrics import accuracy_score, confusion_matrix\n",
    "from nltk.corpus import stopwords\n",
    "\n",
    "import re\n",
    "from bs4 import BeautifulSoup\n",
    "%matplotlib inline\n",
    "import unicodedata"
   ]
  },
  {
   "cell_type": "markdown",
   "metadata": {},
   "source": [
    "#### Some safety imports again"
   ]
  },
  {
   "cell_type": "code",
   "execution_count": 34,
   "metadata": {},
   "outputs": [
    {
     "data": {
      "text/html": [
       "<div>\n",
       "<style scoped>\n",
       "    .dataframe tbody tr th:only-of-type {\n",
       "        vertical-align: middle;\n",
       "    }\n",
       "\n",
       "    .dataframe tbody tr th {\n",
       "        vertical-align: top;\n",
       "    }\n",
       "\n",
       "    .dataframe thead th {\n",
       "        text-align: right;\n",
       "    }\n",
       "</style>\n",
       "<table border=\"1\" class=\"dataframe\">\n",
       "  <thead>\n",
       "    <tr style=\"text-align: right;\">\n",
       "      <th></th>\n",
       "      <th>label</th>\n",
       "      <th>text</th>\n",
       "    </tr>\n",
       "  </thead>\n",
       "  <tbody>\n",
       "    <tr>\n",
       "      <th>0</th>\n",
       "      <td>ham</td>\n",
       "      <td>Go until jurong point, crazy.. Available only ...</td>\n",
       "    </tr>\n",
       "    <tr>\n",
       "      <th>1</th>\n",
       "      <td>ham</td>\n",
       "      <td>Ok lar... Joking wif u oni...</td>\n",
       "    </tr>\n",
       "    <tr>\n",
       "      <th>2</th>\n",
       "      <td>spam</td>\n",
       "      <td>Free entry in 2 a wkly comp to win FA Cup fina...</td>\n",
       "    </tr>\n",
       "    <tr>\n",
       "      <th>3</th>\n",
       "      <td>ham</td>\n",
       "      <td>U dun say so early hor... U c already then say...</td>\n",
       "    </tr>\n",
       "    <tr>\n",
       "      <th>4</th>\n",
       "      <td>ham</td>\n",
       "      <td>Nah I don't think he goes to usf, he lives aro...</td>\n",
       "    </tr>\n",
       "  </tbody>\n",
       "</table>\n",
       "</div>"
      ],
      "text/plain": [
       "  label                                               text\n",
       "0   ham  Go until jurong point, crazy.. Available only ...\n",
       "1   ham                      Ok lar... Joking wif u oni...\n",
       "2  spam  Free entry in 2 a wkly comp to win FA Cup fina...\n",
       "3   ham  U dun say so early hor... U c already then say...\n",
       "4   ham  Nah I don't think he goes to usf, he lives aro..."
      ]
     },
     "execution_count": 34,
     "metadata": {},
     "output_type": "execute_result"
    }
   ],
   "source": [
    "spam.head()"
   ]
  },
  {
   "cell_type": "code",
   "execution_count": 35,
   "metadata": {},
   "outputs": [
    {
     "data": {
      "text/plain": [
       "(5572, 2)"
      ]
     },
     "execution_count": 35,
     "metadata": {},
     "output_type": "execute_result"
    }
   ],
   "source": [
    "spam.shape"
   ]
  },
  {
   "cell_type": "markdown",
   "metadata": {},
   "source": [
    "### Some basic data preparation..."
   ]
  },
  {
   "cell_type": "code",
   "execution_count": 36,
   "metadata": {},
   "outputs": [],
   "source": [
    "def clean(text):\n",
    "    'A simple function to cleanup text data'\n",
    "    wnl = nltk.stem.WordNetLemmatizer()\n",
    "    stopwords = nltk.corpus.stopwords.words('english')\n",
    "    text = (unicodedata.normalize('NFKD', text)\n",
    "             .encode('ascii', 'ignore')\n",
    "             .decode('utf-8', 'ignore')\n",
    "             .lower())\n",
    "    words = re.sub(r'[^\\w\\s]', '', text).split()\n",
    "    return [wnl.lemmatize(word) for word in words if word not in stopwords]\n"
   ]
  },
  {
   "cell_type": "markdown",
   "metadata": {},
   "source": [
    "### Apply this clean function to the Text column..."
   ]
  },
  {
   "cell_type": "code",
   "execution_count": 37,
   "metadata": {},
   "outputs": [],
   "source": [
    "spam['text'] = spam['text'].apply(clean)"
   ]
  },
  {
   "cell_type": "code",
   "execution_count": 38,
   "metadata": {},
   "outputs": [
    {
     "data": {
      "text/html": [
       "<div>\n",
       "<style scoped>\n",
       "    .dataframe tbody tr th:only-of-type {\n",
       "        vertical-align: middle;\n",
       "    }\n",
       "\n",
       "    .dataframe tbody tr th {\n",
       "        vertical-align: top;\n",
       "    }\n",
       "\n",
       "    .dataframe thead th {\n",
       "        text-align: right;\n",
       "    }\n",
       "</style>\n",
       "<table border=\"1\" class=\"dataframe\">\n",
       "  <thead>\n",
       "    <tr style=\"text-align: right;\">\n",
       "      <th></th>\n",
       "      <th>label</th>\n",
       "      <th>text</th>\n",
       "    </tr>\n",
       "  </thead>\n",
       "  <tbody>\n",
       "    <tr>\n",
       "      <th>0</th>\n",
       "      <td>ham</td>\n",
       "      <td>[go, jurong, point, crazy, available, bugis, n...</td>\n",
       "    </tr>\n",
       "    <tr>\n",
       "      <th>1</th>\n",
       "      <td>ham</td>\n",
       "      <td>[ok, lar, joking, wif, u, oni]</td>\n",
       "    </tr>\n",
       "    <tr>\n",
       "      <th>2</th>\n",
       "      <td>spam</td>\n",
       "      <td>[free, entry, 2, wkly, comp, win, fa, cup, fin...</td>\n",
       "    </tr>\n",
       "    <tr>\n",
       "      <th>3</th>\n",
       "      <td>ham</td>\n",
       "      <td>[u, dun, say, early, hor, u, c, already, say]</td>\n",
       "    </tr>\n",
       "    <tr>\n",
       "      <th>4</th>\n",
       "      <td>ham</td>\n",
       "      <td>[nah, dont, think, go, usf, life, around, though]</td>\n",
       "    </tr>\n",
       "  </tbody>\n",
       "</table>\n",
       "</div>"
      ],
      "text/plain": [
       "  label                                               text\n",
       "0   ham  [go, jurong, point, crazy, available, bugis, n...\n",
       "1   ham                     [ok, lar, joking, wif, u, oni]\n",
       "2  spam  [free, entry, 2, wkly, comp, win, fa, cup, fin...\n",
       "3   ham      [u, dun, say, early, hor, u, c, already, say]\n",
       "4   ham  [nah, dont, think, go, usf, life, around, though]"
      ]
     },
     "execution_count": 38,
     "metadata": {},
     "output_type": "execute_result"
    }
   ],
   "source": [
    "spam.head()"
   ]
  },
  {
   "cell_type": "code",
   "execution_count": 39,
   "metadata": {},
   "outputs": [
    {
     "data": {
      "text/plain": [
       "'go jurong point crazy available bugis n great world la e buffet cine got amore wat'"
      ]
     },
     "execution_count": 39,
     "metadata": {},
     "output_type": "execute_result"
    }
   ],
   "source": [
    "' '.join(spam.text[0])"
   ]
  },
  {
   "cell_type": "markdown",
   "metadata": {},
   "source": [
    "### Make sure the dataframe is in the right format. Change the Text column to a string. Not a list of string elements."
   ]
  },
  {
   "cell_type": "code",
   "execution_count": 40,
   "metadata": {},
   "outputs": [],
   "source": [
    "def join(list):\n",
    "    return ' '.join(list)"
   ]
  },
  {
   "cell_type": "code",
   "execution_count": 41,
   "metadata": {},
   "outputs": [
    {
     "name": "stdout",
     "output_type": "stream",
     "text": [
      "ok\n",
      "lar\n",
      "joking\n",
      "wif\n",
      "u\n",
      "oni\n"
     ]
    }
   ],
   "source": [
    "for element in spam.text[1]:\n",
    "    print(element)"
   ]
  },
  {
   "cell_type": "code",
   "execution_count": 42,
   "metadata": {},
   "outputs": [
    {
     "data": {
      "text/plain": [
       "'ok lar joking wif u oni'"
      ]
     },
     "execution_count": 42,
     "metadata": {},
     "output_type": "execute_result"
    }
   ],
   "source": [
    "join(spam.text[1])"
   ]
  },
  {
   "cell_type": "markdown",
   "metadata": {},
   "source": [
    "### Apply this join function to the Text column..."
   ]
  },
  {
   "cell_type": "code",
   "execution_count": 43,
   "metadata": {},
   "outputs": [],
   "source": [
    "spam['text'] = spam['text'].apply(join)"
   ]
  },
  {
   "cell_type": "code",
   "execution_count": 44,
   "metadata": {},
   "outputs": [
    {
     "data": {
      "text/html": [
       "<div>\n",
       "<style scoped>\n",
       "    .dataframe tbody tr th:only-of-type {\n",
       "        vertical-align: middle;\n",
       "    }\n",
       "\n",
       "    .dataframe tbody tr th {\n",
       "        vertical-align: top;\n",
       "    }\n",
       "\n",
       "    .dataframe thead th {\n",
       "        text-align: right;\n",
       "    }\n",
       "</style>\n",
       "<table border=\"1\" class=\"dataframe\">\n",
       "  <thead>\n",
       "    <tr style=\"text-align: right;\">\n",
       "      <th></th>\n",
       "      <th>label</th>\n",
       "      <th>text</th>\n",
       "    </tr>\n",
       "  </thead>\n",
       "  <tbody>\n",
       "    <tr>\n",
       "      <th>0</th>\n",
       "      <td>ham</td>\n",
       "      <td>go jurong point crazy available bugis n great ...</td>\n",
       "    </tr>\n",
       "    <tr>\n",
       "      <th>1</th>\n",
       "      <td>ham</td>\n",
       "      <td>ok lar joking wif u oni</td>\n",
       "    </tr>\n",
       "    <tr>\n",
       "      <th>2</th>\n",
       "      <td>spam</td>\n",
       "      <td>free entry 2 wkly comp win fa cup final tkts 2...</td>\n",
       "    </tr>\n",
       "    <tr>\n",
       "      <th>3</th>\n",
       "      <td>ham</td>\n",
       "      <td>u dun say early hor u c already say</td>\n",
       "    </tr>\n",
       "    <tr>\n",
       "      <th>4</th>\n",
       "      <td>ham</td>\n",
       "      <td>nah dont think go usf life around though</td>\n",
       "    </tr>\n",
       "  </tbody>\n",
       "</table>\n",
       "</div>"
      ],
      "text/plain": [
       "  label                                               text\n",
       "0   ham  go jurong point crazy available bugis n great ...\n",
       "1   ham                            ok lar joking wif u oni\n",
       "2  spam  free entry 2 wkly comp win fa cup final tkts 2...\n",
       "3   ham                u dun say early hor u c already say\n",
       "4   ham           nah dont think go usf life around though"
      ]
     },
     "execution_count": 44,
     "metadata": {},
     "output_type": "execute_result"
    }
   ],
   "source": [
    "spam.head()"
   ]
  },
  {
   "cell_type": "markdown",
   "metadata": {},
   "source": [
    "### Now we have a dataframe we can work with..."
   ]
  },
  {
   "cell_type": "markdown",
   "metadata": {},
   "source": [
    "### Split Train/Test"
   ]
  },
  {
   "cell_type": "code",
   "execution_count": 45,
   "metadata": {},
   "outputs": [],
   "source": [
    "X = spam.text\n",
    "y = spam.label\n",
    "X_train, X_test, y_train, y_test = train_test_split(X, y, test_size=0.3, random_state = 42)"
   ]
  },
  {
   "cell_type": "markdown",
   "metadata": {},
   "source": [
    "# Naive Bayes Model"
   ]
  },
  {
   "cell_type": "code",
   "execution_count": 46,
   "metadata": {},
   "outputs": [],
   "source": [
    "my_tags = ['spam', 'ham']"
   ]
  },
  {
   "cell_type": "code",
   "execution_count": 47,
   "metadata": {},
   "outputs": [
    {
     "name": "stdout",
     "output_type": "stream",
     "text": [
      "CPU times: user 7 µs, sys: 2 µs, total: 9 µs\n",
      "Wall time: 18.1 µs\n",
      "accuracy 0.9599282296650717\n",
      "              precision    recall  f1-score   support\n",
      "\n",
      "        spam       0.96      1.00      0.98      1453\n",
      "         ham       1.00      0.69      0.82       219\n",
      "\n",
      "   micro avg       0.96      0.96      0.96      1672\n",
      "   macro avg       0.98      0.85      0.90      1672\n",
      "weighted avg       0.96      0.96      0.96      1672\n",
      "\n"
     ]
    }
   ],
   "source": [
    "from sklearn.naive_bayes import MultinomialNB\n",
    "from sklearn.pipeline import Pipeline\n",
    "from sklearn.feature_extraction.text import TfidfTransformer\n",
    "\n",
    "nb = Pipeline([('vect', CountVectorizer()),\n",
    "               ('tfidf', TfidfTransformer()),\n",
    "               ('clf', MultinomialNB()),\n",
    "              ])\n",
    "nb.fit(X_train, y_train)\n",
    "\n",
    "%time\n",
    "from sklearn.metrics import classification_report\n",
    "y_pred = nb.predict(X_test)\n",
    "\n",
    "print('accuracy %s' % accuracy_score(y_pred, y_test))\n",
    "print(classification_report(y_test, y_pred,target_names=my_tags))"
   ]
  },
  {
   "cell_type": "markdown",
   "metadata": {},
   "source": [
    "# Linear Support Vector Machine"
   ]
  },
  {
   "cell_type": "code",
   "execution_count": 48,
   "metadata": {},
   "outputs": [
    {
     "name": "stdout",
     "output_type": "stream",
     "text": [
      "CPU times: user 5 µs, sys: 1 µs, total: 6 µs\n",
      "Wall time: 12.2 µs\n",
      "accuracy 0.9569377990430622\n",
      "              precision    recall  f1-score   support\n",
      "\n",
      "        spam       0.95      1.00      0.98      1453\n",
      "         ham       0.98      0.68      0.81       219\n",
      "\n",
      "   micro avg       0.96      0.96      0.96      1672\n",
      "   macro avg       0.97      0.84      0.89      1672\n",
      "weighted avg       0.96      0.96      0.95      1672\n",
      "\n"
     ]
    }
   ],
   "source": [
    "from sklearn.linear_model import SGDClassifier\n",
    "\n",
    "sgd = Pipeline([('vect', CountVectorizer()),\n",
    "                ('tfidf', TfidfTransformer()),\n",
    "                ('clf', SGDClassifier(loss='hinge', penalty='l2',alpha=1e-3, random_state=42, max_iter=5, tol=None)),\n",
    "               ])\n",
    "sgd.fit(X_train, y_train)\n",
    "\n",
    "%time\n",
    "\n",
    "y_pred = sgd.predict(X_test)\n",
    "\n",
    "print('accuracy %s' % accuracy_score(y_pred, y_test))\n",
    "print(classification_report(y_test, y_pred,target_names=my_tags))"
   ]
  },
  {
   "cell_type": "markdown",
   "metadata": {},
   "source": [
    "# Logistic Regression"
   ]
  },
  {
   "cell_type": "code",
   "execution_count": 49,
   "metadata": {},
   "outputs": [
    {
     "name": "stdout",
     "output_type": "stream",
     "text": [
      "CPU times: user 4 µs, sys: 1e+03 ns, total: 5 µs\n",
      "Wall time: 9.06 µs\n",
      "accuracy 0.9796650717703349\n",
      "              precision    recall  f1-score   support\n",
      "\n",
      "        spam       0.98      1.00      0.99      1453\n",
      "         ham       0.98      0.86      0.92       219\n",
      "\n",
      "   micro avg       0.98      0.98      0.98      1672\n",
      "   macro avg       0.98      0.93      0.95      1672\n",
      "weighted avg       0.98      0.98      0.98      1672\n",
      "\n"
     ]
    }
   ],
   "source": [
    "from sklearn.linear_model import LogisticRegression\n",
    "\n",
    "logreg = Pipeline([('vect', CountVectorizer()),\n",
    "                ('tfidf', TfidfTransformer()),\n",
    "                ('clf', LogisticRegression(n_jobs=1, C=1e5)),\n",
    "               ])\n",
    "logreg.fit(X_train, y_train)\n",
    "\n",
    "%time\n",
    "\n",
    "y_pred = logreg.predict(X_test)\n",
    "\n",
    "print('accuracy %s' % accuracy_score(y_pred, y_test))\n",
    "print(classification_report(y_test, y_pred,target_names=my_tags))"
   ]
  },
  {
   "cell_type": "markdown",
   "metadata": {},
   "source": [
    "# Word2vec and Logistic Regression\n"
   ]
  },
  {
   "cell_type": "code",
   "execution_count": 50,
   "metadata": {},
   "outputs": [
    {
     "name": "stdout",
     "output_type": "stream",
     "text": [
      "3.7.3\n"
     ]
    }
   ],
   "source": [
    "print(gensim.__version__)"
   ]
  },
  {
   "cell_type": "markdown",
   "metadata": {},
   "source": [
    "### Use gensim to load a word2vec model pretrained on google news and perform some simple actions with the word vectors."
   ]
  },
  {
   "cell_type": "code",
   "execution_count": 51,
   "metadata": {},
   "outputs": [],
   "source": [
    "from gensim.models import Word2Vec\n",
    "wv = gensim.models.KeyedVectors.load_word2vec_format(\"GoogleNews-vectors-negative300.bin.gz\", binary=True)\n",
    "wv.init_sims(replace=True)"
   ]
  },
  {
   "cell_type": "markdown",
   "metadata": {},
   "source": [
    "###  Normalize the word2vec vectors first, so they all have equal length. "
   ]
  },
  {
   "cell_type": "markdown",
   "metadata": {},
   "source": [
    "### Load up a Google News model. "
   ]
  },
  {
   "cell_type": "code",
   "execution_count": 52,
   "metadata": {},
   "outputs": [
    {
     "data": {
      "text/plain": [
       "['Memorial_Hospital',\n",
       " 'Seniors',\n",
       " 'memorandum',\n",
       " 'elephant',\n",
       " 'Trump',\n",
       " 'Census',\n",
       " 'pilgrims',\n",
       " 'De',\n",
       " 'Dogs',\n",
       " '###-####_ext',\n",
       " 'chaotic',\n",
       " 'forgive',\n",
       " 'scholar',\n",
       " 'Lottery',\n",
       " 'decreasing',\n",
       " 'Supervisor',\n",
       " 'fundamentally',\n",
       " 'Fitness',\n",
       " 'abundance',\n",
       " 'Hold']"
      ]
     },
     "execution_count": 52,
     "metadata": {},
     "output_type": "execute_result"
    }
   ],
   "source": [
    "from itertools import islice\n",
    "list(islice(wv.vocab, 13030, 13050))"
   ]
  },
  {
   "cell_type": "markdown",
   "metadata": {},
   "source": [
    "### Define some functions to perform Bag of Words analysis on the word vectors. Simple stuff like word averaging, summation, and weighted addition."
   ]
  },
  {
   "cell_type": "code",
   "execution_count": 53,
   "metadata": {},
   "outputs": [],
   "source": [
    "def word_averaging(wv, words):\n",
    "    all_words, mean = set(), []\n",
    "    \n",
    "    for word in words:\n",
    "        if isinstance(word, np.ndarray):\n",
    "            mean.append(word)\n",
    "        elif word in wv.vocab:\n",
    "            mean.append(wv.syn0norm[wv.vocab[word].index])\n",
    "            all_words.add(wv.vocab[word].index)\n",
    "\n",
    "    if not mean:\n",
    "        logging.warning(\"cannot compute similarity with no input %s\", words)\n",
    "        # FIXME: remove these examples in pre-processing\n",
    "        return np.zeros(wv.vector_size,)\n",
    "\n",
    "    mean = gensim.matutils.unitvec(np.array(mean).mean(axis=0)).astype(np.float32)\n",
    "    return mean\n",
    "\n",
    "def  word_averaging_list(wv, text_list):\n",
    "    return np.vstack([word_averaging(wv, post) for post in text_list ])"
   ]
  },
  {
   "cell_type": "code",
   "execution_count": 54,
   "metadata": {},
   "outputs": [],
   "source": [
    "import nltk\n",
    "from nltk.tokenize.toktok import ToktokTokenizer"
   ]
  },
  {
   "cell_type": "markdown",
   "metadata": {},
   "source": [
    "### Tokenize the text, Train/Test split..."
   ]
  },
  {
   "cell_type": "code",
   "execution_count": 55,
   "metadata": {
    "scrolled": true
   },
   "outputs": [
    {
     "name": "stderr",
     "output_type": "stream",
     "text": [
      "WARNING:root:cannot compute similarity with no input []\n",
      "WARNING:root:cannot compute similarity with no input ['lmaonice']\n",
      "WARNING:root:cannot compute similarity with no input ['kkyesterday', 'cbe']\n",
      "WARNING:root:cannot compute similarity with no input ['beerage']\n",
      "WARNING:root:cannot compute similarity with no input []\n",
      "WARNING:root:cannot compute similarity with no input ['alrite']\n",
      "WARNING:root:cannot compute similarity with no input ['gwr']\n",
      "WARNING:root:cannot compute similarity with no input ['erutupalam', 'thandiyachu']\n",
      "WARNING:root:cannot compute similarity with no input ['httptms', 'widelivecomindex', 'wmlid820554ad0a1705572711firsttrueaac', 'ringtoneaa']\n",
      "WARNING:root:cannot compute similarity with no input ['latebut', 'kwish']\n",
      "WARNING:root:cannot compute similarity with no input ['lunchyou', 'onlinewhy']\n",
      "WARNING:root:cannot compute similarity with no input []\n",
      "WARNING:root:cannot compute similarity with no input ['neshanthtel']\n",
      "WARNING:root:cannot compute similarity with no input []\n",
      "WARNING:root:cannot compute similarity with no input []\n",
      "WARNING:root:cannot compute similarity with no input ['doinghow']\n",
      "WARNING:root:cannot compute similarity with no input []\n",
      "WARNING:root:cannot compute similarity with no input ['nonenowhere', 'ikno', 'doesdiscountshitinnit']\n",
      "WARNING:root:cannot compute similarity with no input ['staffsciencenusedusgphyhcmkteachingpc1323']\n",
      "WARNING:root:cannot compute similarity with no input ['ringtoneking', '84484']\n",
      "WARNING:root:cannot compute similarity with no input []\n",
      "WARNING:root:cannot compute similarity with no input ['ssnervous', 'ltgt']\n",
      "WARNING:root:cannot compute similarity with no input ['645']\n",
      "WARNING:root:cannot compute similarity with no input ['oktake', 'careumma']\n",
      "WARNING:root:cannot compute similarity with no input []\n",
      "WARNING:root:cannot compute similarity with no input ['doinghow']\n",
      "WARNING:root:cannot compute similarity with no input ['22', '146tf150p']\n",
      "WARNING:root:cannot compute similarity with no input ['kall', 'bestcongrats']\n",
      "WARNING:root:cannot compute similarity with no input ['kkcongratulation']\n",
      "WARNING:root:cannot compute similarity with no input ['6times']\n"
     ]
    }
   ],
   "source": [
    "def w2v_tokenize_text(text):\n",
    "    tokens = []\n",
    "    for sent in nltk.sent_tokenize(text, language='english'):\n",
    "        for word in nltk.word_tokenize(sent, language='english'):\n",
    "            if len(word) < 2:\n",
    "                continue\n",
    "            tokens.append(word)\n",
    "    return tokens\n",
    "    \n",
    "train, test = train_test_split(spam, test_size=0.3, random_state = 42)\n",
    "\n",
    "test_tokenized = test.apply(lambda r: w2v_tokenize_text(r['text']), axis=1).values\n",
    "train_tokenized = train.apply(lambda r: w2v_tokenize_text(r['text']), axis=1).values\n",
    "\n",
    "X_train_word_average = word_averaging_list(wv,train_tokenized)\n",
    "X_test_word_average = word_averaging_list(wv,test_tokenized)"
   ]
  },
  {
   "cell_type": "code",
   "execution_count": 56,
   "metadata": {
    "scrolled": true
   },
   "outputs": [
    {
     "name": "stdout",
     "output_type": "stream",
     "text": [
      "accuracy 0.9473684210526315\n",
      "              precision    recall  f1-score   support\n",
      "\n",
      "        spam       0.98      0.96      0.97      1453\n",
      "         ham       0.77      0.85      0.81       219\n",
      "\n",
      "   micro avg       0.95      0.95      0.95      1672\n",
      "   macro avg       0.87      0.91      0.89      1672\n",
      "weighted avg       0.95      0.95      0.95      1672\n",
      "\n"
     ]
    }
   ],
   "source": [
    "from sklearn.linear_model import LogisticRegression\n",
    "logreg = LogisticRegression(n_jobs=1, C=1e5)\n",
    "logreg = logreg.fit(X_train_word_average, train['label'])\n",
    "y_pred = logreg.predict(X_test_word_average)\n",
    "print('accuracy %s' % accuracy_score(y_pred, test.label))\n",
    "print(classification_report(test.label, y_pred,target_names=my_tags))"
   ]
  },
  {
   "cell_type": "markdown",
   "metadata": {},
   "source": [
    "# BOW with Keras\n"
   ]
  },
  {
   "cell_type": "code",
   "execution_count": null,
   "metadata": {},
   "outputs": [],
   "source": []
  },
  {
   "cell_type": "code",
   "execution_count": 57,
   "metadata": {},
   "outputs": [
    {
     "name": "stderr",
     "output_type": "stream",
     "text": [
      "Using TensorFlow backend.\n"
     ]
    }
   ],
   "source": [
    "import itertools\n",
    "import os\n",
    "\n",
    "%matplotlib inline\n",
    "import matplotlib.pyplot as plt\n",
    "import numpy as np\n",
    "import pandas as pd\n",
    "\n",
    "from sklearn.preprocessing import LabelBinarizer, LabelEncoder\n",
    "from sklearn.metrics import confusion_matrix\n",
    "\n",
    "from keras.layers import Dense, Activation, Dropout\n",
    "from keras.preprocessing import text, sequence\n",
    "from keras import utils\n",
    "from keras.models import Sequential\n",
    "\n",
    "import keras\n",
    "from keras import models\n",
    "from keras.layers import Dense, Dropout\n",
    "from keras.utils import to_categorical\n",
    "from keras.datasets import mnist\n",
    "from keras.utils.vis_utils import model_to_dot"
   ]
  },
  {
   "cell_type": "code",
   "execution_count": null,
   "metadata": {},
   "outputs": [],
   "source": []
  },
  {
   "cell_type": "code",
   "execution_count": 58,
   "metadata": {},
   "outputs": [
    {
     "name": "stdout",
     "output_type": "stream",
     "text": [
      "2.2.4\n"
     ]
    }
   ],
   "source": [
    "print(keras.__version__)"
   ]
  },
  {
   "cell_type": "code",
   "execution_count": 59,
   "metadata": {
    "scrolled": true
   },
   "outputs": [
    {
     "data": {
      "text/html": [
       "<div>\n",
       "<style scoped>\n",
       "    .dataframe tbody tr th:only-of-type {\n",
       "        vertical-align: middle;\n",
       "    }\n",
       "\n",
       "    .dataframe tbody tr th {\n",
       "        vertical-align: top;\n",
       "    }\n",
       "\n",
       "    .dataframe thead th {\n",
       "        text-align: right;\n",
       "    }\n",
       "</style>\n",
       "<table border=\"1\" class=\"dataframe\">\n",
       "  <thead>\n",
       "    <tr style=\"text-align: right;\">\n",
       "      <th></th>\n",
       "      <th>label</th>\n",
       "      <th>text</th>\n",
       "    </tr>\n",
       "  </thead>\n",
       "  <tbody>\n",
       "    <tr>\n",
       "      <th>0</th>\n",
       "      <td>ham</td>\n",
       "      <td>go jurong point crazy available bugis n great ...</td>\n",
       "    </tr>\n",
       "    <tr>\n",
       "      <th>1</th>\n",
       "      <td>ham</td>\n",
       "      <td>ok lar joking wif u oni</td>\n",
       "    </tr>\n",
       "    <tr>\n",
       "      <th>2</th>\n",
       "      <td>spam</td>\n",
       "      <td>free entry 2 wkly comp win fa cup final tkts 2...</td>\n",
       "    </tr>\n",
       "    <tr>\n",
       "      <th>3</th>\n",
       "      <td>ham</td>\n",
       "      <td>u dun say early hor u c already say</td>\n",
       "    </tr>\n",
       "    <tr>\n",
       "      <th>4</th>\n",
       "      <td>ham</td>\n",
       "      <td>nah dont think go usf life around though</td>\n",
       "    </tr>\n",
       "  </tbody>\n",
       "</table>\n",
       "</div>"
      ],
      "text/plain": [
       "  label                                               text\n",
       "0   ham  go jurong point crazy available bugis n great ...\n",
       "1   ham                            ok lar joking wif u oni\n",
       "2  spam  free entry 2 wkly comp win fa cup final tkts 2...\n",
       "3   ham                u dun say early hor u c already say\n",
       "4   ham           nah dont think go usf life around though"
      ]
     },
     "execution_count": 59,
     "metadata": {},
     "output_type": "execute_result"
    }
   ],
   "source": [
    "spam.head()"
   ]
  },
  {
   "cell_type": "code",
   "execution_count": 60,
   "metadata": {},
   "outputs": [
    {
     "data": {
      "text/plain": [
       "(5572, 2)"
      ]
     },
     "execution_count": 60,
     "metadata": {},
     "output_type": "execute_result"
    }
   ],
   "source": [
    "spam.shape"
   ]
  },
  {
   "cell_type": "markdown",
   "metadata": {},
   "source": [
    "### Split Train/Test... \n",
    "\n",
    "### Tokenize and then turn texts to matrix."
   ]
  },
  {
   "cell_type": "code",
   "execution_count": 72,
   "metadata": {},
   "outputs": [],
   "source": [
    "train_size = int(len(spam) * .7)\n",
    "train_text = spam['text'][:train_size]\n",
    "train_label = spam['label'][:train_size]\n",
    "\n",
    "test_text = spam['text'][train_size:]\n",
    "test_label = spam['label'][train_size:]\n",
    "\n",
    "max_words = 1000\n",
    "tokenize = text.Tokenizer(num_words=max_words, char_level=False)\n",
    "tokenize.fit_on_texts(train_text) # only fit on train\n",
    "\n",
    "x_train = tokenize.texts_to_matrix(train_text)\n",
    "x_test = tokenize.texts_to_matrix(test_text)\n"
   ]
  },
  {
   "cell_type": "code",
   "execution_count": 73,
   "metadata": {},
   "outputs": [
    {
     "name": "stdout",
     "output_type": "stream",
     "text": [
      "3900\n",
      "0       go jurong point crazy available bugis n great ...\n",
      "1                                 ok lar joking wif u oni\n",
      "2       free entry 2 wkly comp win fa cup final tkts 2...\n",
      "3                     u dun say early hor u c already say\n",
      "4                nah dont think go usf life around though\n",
      "5       freemsg hey darling 3 week word back id like f...\n",
      "6           even brother like speak treat like aid patent\n",
      "7       per request melle melle oru minnaminunginte nu...\n",
      "8       winner valued network customer selected receiv...\n",
      "9       mobile 11 month u r entitled update latest col...\n",
      "10      im gonna home soon dont want talk stuff anymor...\n",
      "11      six chance win cash 100 20000 pound txt csh11 ...\n",
      "12      urgent 1 week free membership a100000 prize ja...\n",
      "13      ive searching right word thank breather promis...\n",
      "14                                            date sunday\n",
      "15      xxxmobilemovieclub use credit click wap link n...\n",
      "16                                        oh kim watching\n",
      "17      eh u remember 2 spell name yes v naughty make ...\n",
      "18             fine thataos way u feel thataos way gota b\n",
      "19      england v macedonia dont miss goalsteam news t...\n",
      "20                                   seriously spell name\n",
      "21                     ium going try 2 month ha ha joking\n",
      "22                        i_ pay first lar da stock comin\n",
      "23      aft finish lunch go str lor ard 3 smth lor u f...\n",
      "24                     ffffffffff alright way meet sooner\n",
      "25      forced eat slice im really hungry tho suck mar...\n",
      "26                                  lol always convincing\n",
      "27      catch bus frying egg make tea eating mom left ...\n",
      "28        im back amp packing car ill let know there room\n",
      "29               ahhh work vaguely remember feel like lol\n",
      "                              ...                        \n",
      "3870    yeah usual guy town therere definitely people ...\n",
      "3871    joining today formallypls keep prayingwill tal...\n",
      "3872                happy sad one thing past good morning\n",
      "3873                             multimedia message email\n",
      "3874              okie scared u say fat u dun wan already\n",
      "3875                                        u get message\n",
      "3876                  sorry sir call tomorrow senthilhsbc\n",
      "3877                                  need person give na\n",
      "3878    left vague said would inform person accounting...\n",
      "3879    hi juan im coming home fri hey course expect w...\n",
      "3880             plz tell an bslvyl sent via fullonsmscom\n",
      "3881                               short cute good person\n",
      "3882    gumbys special ltgt cheese pizza 2 know doin t...\n",
      "3883    link picture sent also use httpalto18coukwavew...\n",
      "3884                                  like personal sized\n",
      "3885        im great aunt anniversary party tarpon spring\n",
      "3886                cab availablethey pick drop door step\n",
      "3887                                      oktake careumma\n",
      "3888                        unlimited text limited minute\n",
      "3889    double min 1000 txts orange tariff latest moto...\n",
      "3890           problem spending lot quality time together\n",
      "3891    urgent 2nd attempt contact u a900 prize yester...\n",
      "3892                                           heard week\n",
      "3893    dear dave final notice collect 4 tenerife holi...\n",
      "3894                                    yes last practice\n",
      "3895    tell u 2 call 09066358152 claim a5000 prize u ...\n",
      "3896                                thank youve wonderful\n",
      "3897                    otherwise part time job natuition\n",
      "3898                 ii mean confirmed tot juz say oni ok\n",
      "3899                                                 okie\n",
      "Name: text, Length: 3900, dtype: object\n",
      "0        ham\n",
      "1        ham\n",
      "2       spam\n",
      "3        ham\n",
      "4        ham\n",
      "5       spam\n",
      "6        ham\n",
      "7        ham\n",
      "8       spam\n",
      "9       spam\n",
      "10       ham\n",
      "11      spam\n",
      "12      spam\n",
      "13       ham\n",
      "14       ham\n",
      "15      spam\n",
      "16       ham\n",
      "17       ham\n",
      "18       ham\n",
      "19      spam\n",
      "20       ham\n",
      "21       ham\n",
      "22       ham\n",
      "23       ham\n",
      "24       ham\n",
      "25       ham\n",
      "26       ham\n",
      "27       ham\n",
      "28       ham\n",
      "29       ham\n",
      "        ... \n",
      "3870     ham\n",
      "3871     ham\n",
      "3872     ham\n",
      "3873     ham\n",
      "3874     ham\n",
      "3875     ham\n",
      "3876     ham\n",
      "3877     ham\n",
      "3878     ham\n",
      "3879     ham\n",
      "3880     ham\n",
      "3881     ham\n",
      "3882     ham\n",
      "3883    spam\n",
      "3884     ham\n",
      "3885     ham\n",
      "3886     ham\n",
      "3887     ham\n",
      "3888     ham\n",
      "3889    spam\n",
      "3890     ham\n",
      "3891    spam\n",
      "3892     ham\n",
      "3893    spam\n",
      "3894     ham\n",
      "3895    spam\n",
      "3896     ham\n",
      "3897     ham\n",
      "3898     ham\n",
      "3899     ham\n",
      "Name: label, Length: 3900, dtype: object\n",
      "3900                           depends would like treated\n",
      "3901                                 right brah see later\n",
      "3902     waiting e car 4 mum lor u leh reach home already\n",
      "3903    2004 account 07xxxxxxxxx show 786 unredeemed p...\n",
      "3904    want new video handset 750 anytime network min...\n",
      "3905                       went fast asleep deartake care\n",
      "3906                                        mean fat head\n",
      "3907    sound like plan cardiff still still cold im si...\n",
      "3908                          serious like proper tongued\n",
      "3909    shes good wondering wont say hi shes smiling c...\n",
      "3910         noe shes da car later c lar im wearing short\n",
      "3911    important customer service announcement call f...\n",
      "3912                                    yeah whatever lol\n",
      "3913    today accept dayu accept brother sister lover ...\n",
      "3914                        ard 530 lor ok message i_ lor\n",
      "3915                                               ok c u\n",
      "3916    eh ur laptop got stock lei say mon muz come ta...\n",
      "3917               need ke qi ii bored izzit suddenly thk\n",
      "3918    wish dont think gonna snow much flurry usually...\n",
      "3919    freeringtone reply real poly eg real1 1 pushbu...\n",
      "3920    1 thing change sentence want 2 concentrate edu...\n",
      "3921    oh really perform write paper go movie home mi...\n",
      "3922    okay lor still let u go ah coz know later drop...\n",
      "3923                                  izzit still raining\n",
      "3924                        wasnt enough trouble sleeping\n",
      "3925                              havent add i_ yet right\n",
      "3926    lol really need remember eat im drinking appre...\n",
      "3927                              babe lost try rebooting\n",
      "3928                                    yes nigh cant aha\n",
      "3929    thk i_ gotta go home urself co ill b going sho...\n",
      "                              ...                        \n",
      "5542                            armand say get as epsilon\n",
      "5543                  u still havent got urself jacket ah\n",
      "5544    im taking derek amp taylor walmart im back tim...\n",
      "5545                               hi durban still number\n",
      "5546                               ic lotta childporn car\n",
      "5547    contract mobile 11 mnths latest motorola nokia...\n",
      "5548                                     trying weekend v\n",
      "5549    know wot people wear shirt jumper hat belt kno...\n",
      "5550                                  cool time think get\n",
      "5551                   wen get spiritual deep thats great\n",
      "5552    safe trip nigeria wish happiness soon company ...\n",
      "5553                                 hahahause brain dear\n",
      "5554    well keep mind ive got enough gas one round tr...\n",
      "5555    yeh indian nice tho kane bit shud go 4 drink s...\n",
      "5556                 yes thats u texted pshewmissing much\n",
      "5557    meant calculation ltgt unit ltgt school really...\n",
      "5558                                 sorry ill call later\n",
      "5559                  arent next ltgt hour imma flip shit\n",
      "5560                               anything lor juz u lor\n",
      "5561          get dump heap mom decided come lowes boring\n",
      "5562    ok lor sony ericsson salesman ask shuhui say q...\n",
      "5563                                   ard 6 like dat lor\n",
      "5564                dont wait til least wednesday see get\n",
      "5565                                              huh lei\n",
      "5566    reminder o2 get 250 pound free call credit det...\n",
      "5567    2nd time tried 2 contact u u a750 pound prize ...\n",
      "5568                         i_ b going esplanade fr home\n",
      "5569                           pity mood soany suggestion\n",
      "5570    guy bitching acted like id interested buying s...\n",
      "5571                                       rofl true name\n",
      "Name: text, Length: 1672, dtype: object\n",
      "3900     ham\n",
      "3901     ham\n",
      "3902     ham\n",
      "3903    spam\n",
      "3904    spam\n",
      "3905     ham\n",
      "3906     ham\n",
      "3907     ham\n",
      "3908     ham\n",
      "3909     ham\n",
      "3910     ham\n",
      "3911    spam\n",
      "3912     ham\n",
      "3913     ham\n",
      "3914     ham\n",
      "3915     ham\n",
      "3916     ham\n",
      "3917     ham\n",
      "3918     ham\n",
      "3919    spam\n",
      "3920     ham\n",
      "3921     ham\n",
      "3922     ham\n",
      "3923     ham\n",
      "3924     ham\n",
      "3925     ham\n",
      "3926     ham\n",
      "3927     ham\n",
      "3928     ham\n",
      "3929     ham\n",
      "        ... \n",
      "5542     ham\n",
      "5543     ham\n",
      "5544     ham\n",
      "5545     ham\n",
      "5546     ham\n",
      "5547    spam\n",
      "5548     ham\n",
      "5549     ham\n",
      "5550     ham\n",
      "5551     ham\n",
      "5552     ham\n",
      "5553     ham\n",
      "5554     ham\n",
      "5555     ham\n",
      "5556     ham\n",
      "5557     ham\n",
      "5558     ham\n",
      "5559     ham\n",
      "5560     ham\n",
      "5561     ham\n",
      "5562     ham\n",
      "5563     ham\n",
      "5564     ham\n",
      "5565     ham\n",
      "5566    spam\n",
      "5567    spam\n",
      "5568     ham\n",
      "5569     ham\n",
      "5570     ham\n",
      "5571     ham\n",
      "Name: label, Length: 1672, dtype: object\n",
      "<class 'keras_preprocessing.text.Tokenizer'>\n",
      "[[0. 0. 0. ... 0. 0. 0.]\n",
      " [0. 1. 0. ... 0. 0. 0.]\n",
      " [0. 0. 0. ... 0. 0. 0.]\n",
      " ...\n",
      " [0. 0. 0. ... 0. 0. 0.]\n",
      " [0. 0. 0. ... 0. 0. 0.]\n",
      " [0. 0. 0. ... 0. 0. 0.]]\n",
      "3900\n",
      "[[0. 0. 0. ... 0. 0. 0.]\n",
      " [0. 0. 0. ... 0. 0. 0.]\n",
      " [0. 1. 0. ... 0. 0. 0.]\n",
      " ...\n",
      " [0. 0. 0. ... 0. 0. 0.]\n",
      " [0. 1. 0. ... 0. 0. 0.]\n",
      " [0. 0. 0. ... 0. 0. 0.]]\n",
      "1672\n"
     ]
    }
   ],
   "source": [
    "print(train_size)\n",
    "print(train_text)\n",
    "print(train_label)\n",
    "print(test_text)\n",
    "print(test_label)\n",
    "\n",
    "print(type(tokenize))\n",
    "\n",
    "print(x_train)\n",
    "print(len(x_train))\n",
    "print(x_test)\n",
    "print(len(x_test))"
   ]
  },
  {
   "cell_type": "code",
   "execution_count": 74,
   "metadata": {},
   "outputs": [],
   "source": [
    "encoder = LabelEncoder()\n",
    "encoder.fit(train_label)\n",
    "y_train = encoder.transform(train_label)\n",
    "y_test = encoder.transform(test_label)"
   ]
  },
  {
   "cell_type": "code",
   "execution_count": 75,
   "metadata": {},
   "outputs": [
    {
     "name": "stdout",
     "output_type": "stream",
     "text": [
      "[0 0 1 ... 0 0 0]\n",
      "3900\n",
      "[0 0 0 ... 0 0 0]\n",
      "1672\n"
     ]
    }
   ],
   "source": [
    "print(y_train)\n",
    "print(len(y_train))\n",
    "print(y_test)\n",
    "print(len(y_test))"
   ]
  },
  {
   "cell_type": "code",
   "execution_count": 76,
   "metadata": {},
   "outputs": [
    {
     "data": {
      "text/plain": [
       "array([0, 0, 0, ..., 0, 0, 0])"
      ]
     },
     "execution_count": 76,
     "metadata": {},
     "output_type": "execute_result"
    }
   ],
   "source": [
    "y_test"
   ]
  },
  {
   "cell_type": "code",
   "execution_count": 77,
   "metadata": {},
   "outputs": [
    {
     "data": {
      "text/plain": [
       "1"
      ]
     },
     "execution_count": 77,
     "metadata": {},
     "output_type": "execute_result"
    }
   ],
   "source": [
    "np.max(y_train)"
   ]
  },
  {
   "cell_type": "code",
   "execution_count": 78,
   "metadata": {},
   "outputs": [
    {
     "data": {
      "text/plain": [
       "(3900,)"
      ]
     },
     "execution_count": 78,
     "metadata": {},
     "output_type": "execute_result"
    }
   ],
   "source": [
    "y_train.shape"
   ]
  },
  {
   "cell_type": "code",
   "execution_count": 79,
   "metadata": {},
   "outputs": [],
   "source": [
    "num_classes = int(np.max(y_train)) + 1\n",
    "y_train = utils.to_categorical(y_train, num_classes)\n",
    "y_test = utils.to_categorical(y_test, num_classes)\n"
   ]
  },
  {
   "cell_type": "code",
   "execution_count": 80,
   "metadata": {},
   "outputs": [
    {
     "data": {
      "text/plain": [
       "(3900, 2)"
      ]
     },
     "execution_count": 80,
     "metadata": {},
     "output_type": "execute_result"
    }
   ],
   "source": [
    "y_train.shape"
   ]
  },
  {
   "cell_type": "code",
   "execution_count": 81,
   "metadata": {
    "scrolled": true
   },
   "outputs": [
    {
     "name": "stderr",
     "output_type": "stream",
     "text": [
      "WARNING:tensorflow:From /usr/local/anaconda3/lib/python3.7/site-packages/tensorflow/python/ops/math_ops.py:3066: to_int32 (from tensorflow.python.ops.math_ops) is deprecated and will be removed in a future version.\n",
      "Instructions for updating:\n",
      "Use tf.cast instead.\n"
     ]
    },
    {
     "name": "stdout",
     "output_type": "stream",
     "text": [
      "Train on 3510 samples, validate on 390 samples\n",
      "Epoch 1/2\n",
      "3510/3510 [==============================] - 2s 530us/step - loss: 0.2606 - acc: 0.9165 - val_loss: 0.1081 - val_acc: 0.9692\n",
      "Epoch 2/2\n",
      "3510/3510 [==============================] - 1s 390us/step - loss: 0.0659 - acc: 0.9812 - val_loss: 0.0831 - val_acc: 0.9795\n"
     ]
    }
   ],
   "source": [
    "\n",
    "\n",
    "batch_size = 32\n",
    "epochs = 2\n",
    "\n",
    "# Build the model\n",
    "model = Sequential()\n",
    "# print(type(model))\n",
    "model.add(Dense(512, input_shape=(max_words,)))\n",
    "model.add(Activation('relu'))\n",
    "model.add(Dropout(0.5))\n",
    "model.add(Dense(num_classes))\n",
    "model.add(Activation('softmax'))\n",
    "\n",
    "\n",
    "model.compile(loss='categorical_crossentropy',\n",
    "              optimizer='adam',\n",
    "              metrics=['accuracy'])\n",
    "              \n",
    "history = model.fit(x_train, y_train,\n",
    "                    batch_size=batch_size,\n",
    "                    epochs=epochs,\n",
    "                    verbose=1,\n",
    "                    validation_split=0.1)"
   ]
  },
  {
   "cell_type": "markdown",
   "metadata": {},
   "source": [
    "## Achieved accuracy of 97.95% in 2 epochs"
   ]
  },
  {
   "cell_type": "markdown",
   "metadata": {},
   "source": [
    "### Evaluate the accuracy of our trained model\n"
   ]
  },
  {
   "cell_type": "code",
   "execution_count": 82,
   "metadata": {},
   "outputs": [
    {
     "name": "stdout",
     "output_type": "stream",
     "text": [
      "1672/1672 [==============================] - 0s 70us/step\n",
      "Test score: 0.07539504077552893\n",
      "Test accuracy: 0.9784688995215312\n"
     ]
    }
   ],
   "source": [
    "score = model.evaluate(x_test, y_test,\n",
    "                       batch_size=batch_size, verbose=1)\n",
    "print('Test score:', score[0])\n",
    "print('Test accuracy:', score[1])\n"
   ]
  },
  {
   "cell_type": "markdown",
   "metadata": {},
   "source": [
    "### Make predictions"
   ]
  },
  {
   "cell_type": "code",
   "execution_count": 83,
   "metadata": {},
   "outputs": [
    {
     "name": "stdout",
     "output_type": "stream",
     "text": [
      "depends would like treated ...\n",
      "Actual label:ham\n",
      "Predicted label: ham\n",
      "\n",
      "right brah see later ...\n",
      "Actual label:ham\n",
      "Predicted label: ham\n",
      "\n",
      "waiting e car 4 mum lor u leh reach home already ...\n",
      "Actual label:ham\n",
      "Predicted label: ham\n",
      "\n",
      "2004 account 07xxxxxxxxx show 786 unredeemed point ...\n",
      "Actual label:spam\n",
      "Predicted label: spam\n",
      "\n",
      "want new video handset 750 anytime network min hal ...\n",
      "Actual label:spam\n",
      "Predicted label: spam\n",
      "\n",
      "went fast asleep deartake care ...\n",
      "Actual label:ham\n",
      "Predicted label: ham\n",
      "\n",
      "mean fat head ...\n",
      "Actual label:ham\n",
      "Predicted label: ham\n",
      "\n",
      "sound like plan cardiff still still cold im sittin ...\n",
      "Actual label:ham\n",
      "Predicted label: ham\n",
      "\n",
      "serious like proper tongued ...\n",
      "Actual label:ham\n",
      "Predicted label: ham\n",
      "\n",
      "shes good wondering wont say hi shes smiling copin ...\n",
      "Actual label:ham\n",
      "Predicted label: ham\n",
      "\n"
     ]
    }
   ],
   "source": [
    "\n",
    "# Here's how to generate a prediction on individual examples\n",
    "text_labels = encoder.classes_ \n",
    "\n",
    "for i in range(10):\n",
    "    prediction = model.predict(np.array([x_test[i]]))\n",
    "    predicted_label = text_labels[np.argmax(prediction)]\n",
    "    print(test_text.iloc[i][:50], \"...\")\n",
    "    print('Actual label:' + test_label.iloc[i])\n",
    "    print(\"Predicted label: \" + predicted_label + \"\\n\")"
   ]
  },
  {
   "cell_type": "code",
   "execution_count": 84,
   "metadata": {},
   "outputs": [],
   "source": [
    "y_softmax = model.predict(x_test)\n",
    "\n",
    "y_test_1d = []\n",
    "y_pred_1d = []\n",
    "\n",
    "for i in range(len(y_test)):\n",
    "    probs = y_test[i]\n",
    "    index_arr = np.nonzero(probs)\n",
    "    one_hot_index = index_arr[0].item(0)\n",
    "    y_test_1d.append(one_hot_index)\n",
    "\n",
    "for i in range(0, len(y_softmax)):\n",
    "    probs = y_softmax[i]\n",
    "    predicted_index = np.argmax(probs)\n",
    "    y_pred_1d.append(predicted_index)"
   ]
  },
  {
   "cell_type": "code",
   "execution_count": 85,
   "metadata": {},
   "outputs": [],
   "source": [
    "# This utility function is from the sklearn docs: http://scikit-learn.org/stable/auto_examples/model_selection/plot_confusion_matrix.html\n",
    "def plot_confusion_matrix(cm, classes,\n",
    "                          title='Confusion matrix',\n",
    "                          cmap=plt.cm.Blues):\n",
    "    \"\"\"\n",
    "    This function prints and plots the confusion matrix.\n",
    "    Normalization can be applied by setting `normalize=True`.\n",
    "    \"\"\"\n",
    "\n",
    "    cm = cm.astype('float') / cm.sum(axis=1)[:, np.newaxis]\n",
    "\n",
    "    plt.imshow(cm, interpolation='nearest', cmap=cmap)\n",
    "    plt.title(title, fontsize=30)\n",
    "    plt.colorbar()\n",
    "    tick_marks = np.arange(len(classes))\n",
    "    plt.xticks(tick_marks, classes, rotation=45, fontsize=22)\n",
    "    plt.yticks(tick_marks, classes, fontsize=22)\n",
    "\n",
    "    fmt = '.2f'\n",
    "    thresh = cm.max() / 2.\n",
    "    for i, j in itertools.product(range(cm.shape[0]), range(cm.shape[1])):\n",
    "        plt.text(j, i, format(cm[i, j], fmt),\n",
    "                 horizontalalignment=\"center\",\n",
    "                 color=\"white\" if cm[i, j] > thresh else \"black\")\n",
    "\n",
    "    plt.ylabel('True label', fontsize=25)\n",
    "    plt.xlabel('Predicted label', fontsize=25)"
   ]
  },
  {
   "cell_type": "code",
   "execution_count": 87,
   "metadata": {},
   "outputs": [
    {
     "data": {
      "image/png": "[encoded data removed]",
      "text/plain": [
       "<Figure size 576x576 with 2 Axes>"
      ]
     },
     "metadata": {
      "needs_background": "light"
     },
     "output_type": "display_data"
    }
   ],
   "source": [
    "cnf_matrix = confusion_matrix(y_test_1d, y_pred_1d)\n",
    "plt.figure(figsize=(8,8))\n",
    "plot_confusion_matrix(cnf_matrix, classes=text_labels, title=\"Confusion matrix\")\n",
    "plt.show()"
   ]
  },
  {
   "cell_type": "code",
   "execution_count": null,
   "metadata": {},
   "outputs": [],
   "source": []
  },
  {
   "cell_type": "markdown",
   "metadata": {},
   "source": [
    "### References:\n",
    "\n",
    "#### https://github.com/tensorflow/workshops/blob/master/extras/keras-bag-of-words/keras-bow-model.ipynb\n",
    "#### https://towardsdatascience.com/multi-class-text-classification-model-comparison-and-selection-5eb066197568"
   ]
  },
  {
   "cell_type": "code",
   "execution_count": null,
   "metadata": {},
   "outputs": [],
   "source": []
  },
  {
   "cell_type": "code",
   "execution_count": null,
   "metadata": {},
   "outputs": [],
   "source": []
  }
 ],
 "metadata": {
  "kernelspec": {
   "display_name": "Python 3",
   "language": "python",
   "name": "python3"
  },
  "language_info": {
   "codemirror_mode": {
    "name": "ipython",
    "version": 3
   },
   "file_extension": ".py",
   "mimetype": "text/x-python",
   "name": "python",
   "nbconvert_exporter": "python",
   "pygments_lexer": "ipython3",
   "version": "3.7.1"
  }
 },
 "nbformat": 4,
 "nbformat_minor": 2
}
