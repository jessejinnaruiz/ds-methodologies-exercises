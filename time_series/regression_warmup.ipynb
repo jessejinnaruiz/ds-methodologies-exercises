{
 "cells": [
  {
   "cell_type": "code",
   "execution_count": 73,
   "metadata": {},
   "outputs": [],
   "source": [
    "from pydataset import data\n",
    "import io\n",
    "from helper_functions import df_print_metadata\n",
    "from helper_functions import df_peek\n",
    "from helper_functions import df_print_summary\n",
    "from helper_functions import series_is_whole_nums\n",
    "from helper_functions import df_print_missing_vals\n",
    "from helper_functions import df_percent_missing_vals\n",
    "\n",
    "from helper_functions import evaluate_model_train\n",
    "from helper_functions import df_print_r_and_p_values\n",
    "\n",
    "# ignore warnings\n",
    "import warnings\n",
    "warnings.filterwarnings(\"ignore\")\n",
    "\n",
    "# Wrangling\n",
    "import pandas as pd\n",
    "\n",
    "# Exploring\n",
    "import scipy.stats as stats\n",
    "\n",
    "# Visualizing\n",
    "%matplotlib inline\n",
    "import matplotlib.pyplot as plt\n",
    "import seaborn as sns\n",
    "plt.style.use('classic')\n",
    "\n",
    "# Modeling\n",
    "import statsmodels.api as sm\n",
    "\n",
    "from scipy.stats import pearsonr\n",
    "\n",
    "from sklearn.model_selection import train_test_split\n",
    "from sklearn.linear_model import LinearRegression\n",
    "from sklearn.metrics import mean_squared_error, r2_score, mean_absolute_error, median_absolute_error\n",
    "from sklearn.feature_selection import f_regression"
   ]
  },
  {
   "cell_type": "code",
   "execution_count": 40,
   "metadata": {},
   "outputs": [],
   "source": [
    "df = data('swiss')"
   ]
  },
  {
   "cell_type": "code",
   "execution_count": 41,
   "metadata": {
    "scrolled": true
   },
   "outputs": [
    {
     "name": "stdout",
     "output_type": "stream",
     "text": [
      "swiss\n",
      "\n",
      "PyDataset Documentation (adopted from R Documentation. The displayed examples are in R)\n",
      "\n",
      "## Swiss Fertility and Socioeconomic Indicators (1888) Data\n",
      "\n",
      "### Description\n",
      "\n",
      "Standardized fertility measure and socio-economic indicators for each of 47\n",
      "French-speaking provinces of Switzerland at about 1888.\n",
      "\n",
      "### Usage\n",
      "\n",
      "    data(swiss)\n",
      "\n",
      "### Format\n",
      "\n",
      "A data frame with 47 observations on 6 variables, each of which is in percent,\n",
      "i.e., in [0,100].\n",
      "\n",
      "[,1] Fertility Ig, \"common standardized fertility measure\" [,2] Agriculture\n",
      "[,3] Examination nation [,4] Education [,5] Catholic [,6] Infant.Mortality\n",
      "live births who live less than 1 year.\n",
      "\n",
      "All variables but 'Fert' give proportions of the population.\n",
      "\n",
      "### Source\n",
      "\n",
      "Project \"16P5\", pages 549-551 in\n",
      "\n",
      "Mosteller, F. and Tukey, J. W. (1977) “Data Analysis and Regression: A Second\n",
      "Course in Statistics”. Addison-Wesley, Reading Mass.\n",
      "\n",
      "indicating their source as \"Data used by permission of Franice van de Walle.\n",
      "Office of Population Research, Princeton University, 1976\\. Unpublished data\n",
      "assembled under NICHD contract number No 1-HD-O-2077.\"\n",
      "\n",
      "### References\n",
      "\n",
      "Becker, R. A., Chambers, J. M. and Wilks, A. R. (1988) “The New S Language”.\n",
      "Wadsworth & Brooks/Cole.\n",
      "\n",
      "\n"
     ]
    }
   ],
   "source": [
    "data('swiss', show_doc=True)"
   ]
  },
  {
   "cell_type": "code",
   "execution_count": 42,
   "metadata": {},
   "outputs": [
    {
     "name": "stdout",
     "output_type": "stream",
     "text": [
      "\n",
      "Missing Values:\n",
      "\n",
      "No missing values\n"
     ]
    }
   ],
   "source": [
    "df_print_missing_vals(df)"
   ]
  },
  {
   "cell_type": "code",
   "execution_count": 43,
   "metadata": {
    "scrolled": true
   },
   "outputs": [
    {
     "data": {
      "text/plain": [
       "Courtelary      80.2\n",
       "Delemont        83.1\n",
       "Franches-Mnt    92.5\n",
       "Moutier         85.8\n",
       "Neuveville      76.9\n",
       "Porrentruy      76.1\n",
       "Broye           83.8\n",
       "Glane           92.4\n",
       "Gruyere         82.4\n",
       "Sarine          82.9\n",
       "Veveyse         87.1\n",
       "Aigle           64.1\n",
       "Aubonne         66.9\n",
       "Avenches        68.9\n",
       "Cossonay        61.7\n",
       "Echallens       68.3\n",
       "Grandson        71.7\n",
       "Lausanne        55.7\n",
       "La Vallee       54.3\n",
       "Lavaux          65.1\n",
       "Morges          65.5\n",
       "Moudon          65.0\n",
       "Nyone           56.6\n",
       "Orbe            57.4\n",
       "Oron            72.5\n",
       "Payerne         74.2\n",
       "Paysd'enhaut    72.0\n",
       "Rolle           60.5\n",
       "Vevey           58.3\n",
       "Yverdon         65.4\n",
       "Conthey         75.5\n",
       "Entremont       69.3\n",
       "Herens          77.3\n",
       "Martigwy        70.5\n",
       "Monthey         79.4\n",
       "St Maurice      65.0\n",
       "Sierre          92.2\n",
       "Sion            79.3\n",
       "Boudry          70.4\n",
       "La Chauxdfnd    65.7\n",
       "Le Locle        72.7\n",
       "Neuchatel       64.4\n",
       "Val de Ruz      77.6\n",
       "ValdeTravers    67.6\n",
       "V. De Geneve    35.0\n",
       "Rive Droite     44.7\n",
       "Rive Gauche     42.8\n",
       "Name: Fertility, dtype: float64"
      ]
     },
     "execution_count": 43,
     "metadata": {},
     "output_type": "execute_result"
    }
   ],
   "source": [
    "target = df.Fertility\n",
    "target"
   ]
  },
  {
   "cell_type": "code",
   "execution_count": 44,
   "metadata": {
    "scrolled": true
   },
   "outputs": [
    {
     "data": {
      "text/html": [
       "<div>\n",
       "<style scoped>\n",
       "    .dataframe tbody tr th:only-of-type {\n",
       "        vertical-align: middle;\n",
       "    }\n",
       "\n",
       "    .dataframe tbody tr th {\n",
       "        vertical-align: top;\n",
       "    }\n",
       "\n",
       "    .dataframe thead th {\n",
       "        text-align: right;\n",
       "    }\n",
       "</style>\n",
       "<table border=\"1\" class=\"dataframe\">\n",
       "  <thead>\n",
       "    <tr style=\"text-align: right;\">\n",
       "      <th></th>\n",
       "      <th>Agriculture</th>\n",
       "      <th>Examination</th>\n",
       "      <th>Education</th>\n",
       "      <th>Catholic</th>\n",
       "      <th>Infant.Mortality</th>\n",
       "    </tr>\n",
       "  </thead>\n",
       "  <tbody>\n",
       "    <tr>\n",
       "      <th>Courtelary</th>\n",
       "      <td>17.0</td>\n",
       "      <td>15</td>\n",
       "      <td>12</td>\n",
       "      <td>9.96</td>\n",
       "      <td>22.2</td>\n",
       "    </tr>\n",
       "    <tr>\n",
       "      <th>Delemont</th>\n",
       "      <td>45.1</td>\n",
       "      <td>6</td>\n",
       "      <td>9</td>\n",
       "      <td>84.84</td>\n",
       "      <td>22.2</td>\n",
       "    </tr>\n",
       "    <tr>\n",
       "      <th>Franches-Mnt</th>\n",
       "      <td>39.7</td>\n",
       "      <td>5</td>\n",
       "      <td>5</td>\n",
       "      <td>93.40</td>\n",
       "      <td>20.2</td>\n",
       "    </tr>\n",
       "    <tr>\n",
       "      <th>Moutier</th>\n",
       "      <td>36.5</td>\n",
       "      <td>12</td>\n",
       "      <td>7</td>\n",
       "      <td>33.77</td>\n",
       "      <td>20.3</td>\n",
       "    </tr>\n",
       "    <tr>\n",
       "      <th>Neuveville</th>\n",
       "      <td>43.5</td>\n",
       "      <td>17</td>\n",
       "      <td>15</td>\n",
       "      <td>5.16</td>\n",
       "      <td>20.6</td>\n",
       "    </tr>\n",
       "    <tr>\n",
       "      <th>Porrentruy</th>\n",
       "      <td>35.3</td>\n",
       "      <td>9</td>\n",
       "      <td>7</td>\n",
       "      <td>90.57</td>\n",
       "      <td>26.6</td>\n",
       "    </tr>\n",
       "    <tr>\n",
       "      <th>Broye</th>\n",
       "      <td>70.2</td>\n",
       "      <td>16</td>\n",
       "      <td>7</td>\n",
       "      <td>92.85</td>\n",
       "      <td>23.6</td>\n",
       "    </tr>\n",
       "    <tr>\n",
       "      <th>Glane</th>\n",
       "      <td>67.8</td>\n",
       "      <td>14</td>\n",
       "      <td>8</td>\n",
       "      <td>97.16</td>\n",
       "      <td>24.9</td>\n",
       "    </tr>\n",
       "    <tr>\n",
       "      <th>Gruyere</th>\n",
       "      <td>53.3</td>\n",
       "      <td>12</td>\n",
       "      <td>7</td>\n",
       "      <td>97.67</td>\n",
       "      <td>21.0</td>\n",
       "    </tr>\n",
       "    <tr>\n",
       "      <th>Sarine</th>\n",
       "      <td>45.2</td>\n",
       "      <td>16</td>\n",
       "      <td>13</td>\n",
       "      <td>91.38</td>\n",
       "      <td>24.4</td>\n",
       "    </tr>\n",
       "    <tr>\n",
       "      <th>Veveyse</th>\n",
       "      <td>64.5</td>\n",
       "      <td>14</td>\n",
       "      <td>6</td>\n",
       "      <td>98.61</td>\n",
       "      <td>24.5</td>\n",
       "    </tr>\n",
       "    <tr>\n",
       "      <th>Aigle</th>\n",
       "      <td>62.0</td>\n",
       "      <td>21</td>\n",
       "      <td>12</td>\n",
       "      <td>8.52</td>\n",
       "      <td>16.5</td>\n",
       "    </tr>\n",
       "    <tr>\n",
       "      <th>Aubonne</th>\n",
       "      <td>67.5</td>\n",
       "      <td>14</td>\n",
       "      <td>7</td>\n",
       "      <td>2.27</td>\n",
       "      <td>19.1</td>\n",
       "    </tr>\n",
       "    <tr>\n",
       "      <th>Avenches</th>\n",
       "      <td>60.7</td>\n",
       "      <td>19</td>\n",
       "      <td>12</td>\n",
       "      <td>4.43</td>\n",
       "      <td>22.7</td>\n",
       "    </tr>\n",
       "    <tr>\n",
       "      <th>Cossonay</th>\n",
       "      <td>69.3</td>\n",
       "      <td>22</td>\n",
       "      <td>5</td>\n",
       "      <td>2.82</td>\n",
       "      <td>18.7</td>\n",
       "    </tr>\n",
       "    <tr>\n",
       "      <th>Echallens</th>\n",
       "      <td>72.6</td>\n",
       "      <td>18</td>\n",
       "      <td>2</td>\n",
       "      <td>24.20</td>\n",
       "      <td>21.2</td>\n",
       "    </tr>\n",
       "    <tr>\n",
       "      <th>Grandson</th>\n",
       "      <td>34.0</td>\n",
       "      <td>17</td>\n",
       "      <td>8</td>\n",
       "      <td>3.30</td>\n",
       "      <td>20.0</td>\n",
       "    </tr>\n",
       "    <tr>\n",
       "      <th>Lausanne</th>\n",
       "      <td>19.4</td>\n",
       "      <td>26</td>\n",
       "      <td>28</td>\n",
       "      <td>12.11</td>\n",
       "      <td>20.2</td>\n",
       "    </tr>\n",
       "    <tr>\n",
       "      <th>La Vallee</th>\n",
       "      <td>15.2</td>\n",
       "      <td>31</td>\n",
       "      <td>20</td>\n",
       "      <td>2.15</td>\n",
       "      <td>10.8</td>\n",
       "    </tr>\n",
       "    <tr>\n",
       "      <th>Lavaux</th>\n",
       "      <td>73.0</td>\n",
       "      <td>19</td>\n",
       "      <td>9</td>\n",
       "      <td>2.84</td>\n",
       "      <td>20.0</td>\n",
       "    </tr>\n",
       "    <tr>\n",
       "      <th>Morges</th>\n",
       "      <td>59.8</td>\n",
       "      <td>22</td>\n",
       "      <td>10</td>\n",
       "      <td>5.23</td>\n",
       "      <td>18.0</td>\n",
       "    </tr>\n",
       "    <tr>\n",
       "      <th>Moudon</th>\n",
       "      <td>55.1</td>\n",
       "      <td>14</td>\n",
       "      <td>3</td>\n",
       "      <td>4.52</td>\n",
       "      <td>22.4</td>\n",
       "    </tr>\n",
       "    <tr>\n",
       "      <th>Nyone</th>\n",
       "      <td>50.9</td>\n",
       "      <td>22</td>\n",
       "      <td>12</td>\n",
       "      <td>15.14</td>\n",
       "      <td>16.7</td>\n",
       "    </tr>\n",
       "    <tr>\n",
       "      <th>Orbe</th>\n",
       "      <td>54.1</td>\n",
       "      <td>20</td>\n",
       "      <td>6</td>\n",
       "      <td>4.20</td>\n",
       "      <td>15.3</td>\n",
       "    </tr>\n",
       "    <tr>\n",
       "      <th>Oron</th>\n",
       "      <td>71.2</td>\n",
       "      <td>12</td>\n",
       "      <td>1</td>\n",
       "      <td>2.40</td>\n",
       "      <td>21.0</td>\n",
       "    </tr>\n",
       "    <tr>\n",
       "      <th>Payerne</th>\n",
       "      <td>58.1</td>\n",
       "      <td>14</td>\n",
       "      <td>8</td>\n",
       "      <td>5.23</td>\n",
       "      <td>23.8</td>\n",
       "    </tr>\n",
       "    <tr>\n",
       "      <th>Paysd'enhaut</th>\n",
       "      <td>63.5</td>\n",
       "      <td>6</td>\n",
       "      <td>3</td>\n",
       "      <td>2.56</td>\n",
       "      <td>18.0</td>\n",
       "    </tr>\n",
       "    <tr>\n",
       "      <th>Rolle</th>\n",
       "      <td>60.8</td>\n",
       "      <td>16</td>\n",
       "      <td>10</td>\n",
       "      <td>7.72</td>\n",
       "      <td>16.3</td>\n",
       "    </tr>\n",
       "    <tr>\n",
       "      <th>Vevey</th>\n",
       "      <td>26.8</td>\n",
       "      <td>25</td>\n",
       "      <td>19</td>\n",
       "      <td>18.46</td>\n",
       "      <td>20.9</td>\n",
       "    </tr>\n",
       "    <tr>\n",
       "      <th>Yverdon</th>\n",
       "      <td>49.5</td>\n",
       "      <td>15</td>\n",
       "      <td>8</td>\n",
       "      <td>6.10</td>\n",
       "      <td>22.5</td>\n",
       "    </tr>\n",
       "    <tr>\n",
       "      <th>Conthey</th>\n",
       "      <td>85.9</td>\n",
       "      <td>3</td>\n",
       "      <td>2</td>\n",
       "      <td>99.71</td>\n",
       "      <td>15.1</td>\n",
       "    </tr>\n",
       "    <tr>\n",
       "      <th>Entremont</th>\n",
       "      <td>84.9</td>\n",
       "      <td>7</td>\n",
       "      <td>6</td>\n",
       "      <td>99.68</td>\n",
       "      <td>19.8</td>\n",
       "    </tr>\n",
       "    <tr>\n",
       "      <th>Herens</th>\n",
       "      <td>89.7</td>\n",
       "      <td>5</td>\n",
       "      <td>2</td>\n",
       "      <td>100.00</td>\n",
       "      <td>18.3</td>\n",
       "    </tr>\n",
       "    <tr>\n",
       "      <th>Martigwy</th>\n",
       "      <td>78.2</td>\n",
       "      <td>12</td>\n",
       "      <td>6</td>\n",
       "      <td>98.96</td>\n",
       "      <td>19.4</td>\n",
       "    </tr>\n",
       "    <tr>\n",
       "      <th>Monthey</th>\n",
       "      <td>64.9</td>\n",
       "      <td>7</td>\n",
       "      <td>3</td>\n",
       "      <td>98.22</td>\n",
       "      <td>20.2</td>\n",
       "    </tr>\n",
       "    <tr>\n",
       "      <th>St Maurice</th>\n",
       "      <td>75.9</td>\n",
       "      <td>9</td>\n",
       "      <td>9</td>\n",
       "      <td>99.06</td>\n",
       "      <td>17.8</td>\n",
       "    </tr>\n",
       "    <tr>\n",
       "      <th>Sierre</th>\n",
       "      <td>84.6</td>\n",
       "      <td>3</td>\n",
       "      <td>3</td>\n",
       "      <td>99.46</td>\n",
       "      <td>16.3</td>\n",
       "    </tr>\n",
       "    <tr>\n",
       "      <th>Sion</th>\n",
       "      <td>63.1</td>\n",
       "      <td>13</td>\n",
       "      <td>13</td>\n",
       "      <td>96.83</td>\n",
       "      <td>18.1</td>\n",
       "    </tr>\n",
       "    <tr>\n",
       "      <th>Boudry</th>\n",
       "      <td>38.4</td>\n",
       "      <td>26</td>\n",
       "      <td>12</td>\n",
       "      <td>5.62</td>\n",
       "      <td>20.3</td>\n",
       "    </tr>\n",
       "    <tr>\n",
       "      <th>La Chauxdfnd</th>\n",
       "      <td>7.7</td>\n",
       "      <td>29</td>\n",
       "      <td>11</td>\n",
       "      <td>13.79</td>\n",
       "      <td>20.5</td>\n",
       "    </tr>\n",
       "    <tr>\n",
       "      <th>Le Locle</th>\n",
       "      <td>16.7</td>\n",
       "      <td>22</td>\n",
       "      <td>13</td>\n",
       "      <td>11.22</td>\n",
       "      <td>18.9</td>\n",
       "    </tr>\n",
       "    <tr>\n",
       "      <th>Neuchatel</th>\n",
       "      <td>17.6</td>\n",
       "      <td>35</td>\n",
       "      <td>32</td>\n",
       "      <td>16.92</td>\n",
       "      <td>23.0</td>\n",
       "    </tr>\n",
       "    <tr>\n",
       "      <th>Val de Ruz</th>\n",
       "      <td>37.6</td>\n",
       "      <td>15</td>\n",
       "      <td>7</td>\n",
       "      <td>4.97</td>\n",
       "      <td>20.0</td>\n",
       "    </tr>\n",
       "    <tr>\n",
       "      <th>ValdeTravers</th>\n",
       "      <td>18.7</td>\n",
       "      <td>25</td>\n",
       "      <td>7</td>\n",
       "      <td>8.65</td>\n",
       "      <td>19.5</td>\n",
       "    </tr>\n",
       "    <tr>\n",
       "      <th>V. De Geneve</th>\n",
       "      <td>1.2</td>\n",
       "      <td>37</td>\n",
       "      <td>53</td>\n",
       "      <td>42.34</td>\n",
       "      <td>18.0</td>\n",
       "    </tr>\n",
       "    <tr>\n",
       "      <th>Rive Droite</th>\n",
       "      <td>46.6</td>\n",
       "      <td>16</td>\n",
       "      <td>29</td>\n",
       "      <td>50.43</td>\n",
       "      <td>18.2</td>\n",
       "    </tr>\n",
       "    <tr>\n",
       "      <th>Rive Gauche</th>\n",
       "      <td>27.7</td>\n",
       "      <td>22</td>\n",
       "      <td>29</td>\n",
       "      <td>58.33</td>\n",
       "      <td>19.3</td>\n",
       "    </tr>\n",
       "  </tbody>\n",
       "</table>\n",
       "</div>"
      ],
      "text/plain": [
       "              Agriculture  Examination  Education  Catholic  Infant.Mortality\n",
       "Courtelary           17.0           15         12      9.96              22.2\n",
       "Delemont             45.1            6          9     84.84              22.2\n",
       "Franches-Mnt         39.7            5          5     93.40              20.2\n",
       "Moutier              36.5           12          7     33.77              20.3\n",
       "Neuveville           43.5           17         15      5.16              20.6\n",
       "Porrentruy           35.3            9          7     90.57              26.6\n",
       "Broye                70.2           16          7     92.85              23.6\n",
       "Glane                67.8           14          8     97.16              24.9\n",
       "Gruyere              53.3           12          7     97.67              21.0\n",
       "Sarine               45.2           16         13     91.38              24.4\n",
       "Veveyse              64.5           14          6     98.61              24.5\n",
       "Aigle                62.0           21         12      8.52              16.5\n",
       "Aubonne              67.5           14          7      2.27              19.1\n",
       "Avenches             60.7           19         12      4.43              22.7\n",
       "Cossonay             69.3           22          5      2.82              18.7\n",
       "Echallens            72.6           18          2     24.20              21.2\n",
       "Grandson             34.0           17          8      3.30              20.0\n",
       "Lausanne             19.4           26         28     12.11              20.2\n",
       "La Vallee            15.2           31         20      2.15              10.8\n",
       "Lavaux               73.0           19          9      2.84              20.0\n",
       "Morges               59.8           22         10      5.23              18.0\n",
       "Moudon               55.1           14          3      4.52              22.4\n",
       "Nyone                50.9           22         12     15.14              16.7\n",
       "Orbe                 54.1           20          6      4.20              15.3\n",
       "Oron                 71.2           12          1      2.40              21.0\n",
       "Payerne              58.1           14          8      5.23              23.8\n",
       "Paysd'enhaut         63.5            6          3      2.56              18.0\n",
       "Rolle                60.8           16         10      7.72              16.3\n",
       "Vevey                26.8           25         19     18.46              20.9\n",
       "Yverdon              49.5           15          8      6.10              22.5\n",
       "Conthey              85.9            3          2     99.71              15.1\n",
       "Entremont            84.9            7          6     99.68              19.8\n",
       "Herens               89.7            5          2    100.00              18.3\n",
       "Martigwy             78.2           12          6     98.96              19.4\n",
       "Monthey              64.9            7          3     98.22              20.2\n",
       "St Maurice           75.9            9          9     99.06              17.8\n",
       "Sierre               84.6            3          3     99.46              16.3\n",
       "Sion                 63.1           13         13     96.83              18.1\n",
       "Boudry               38.4           26         12      5.62              20.3\n",
       "La Chauxdfnd          7.7           29         11     13.79              20.5\n",
       "Le Locle             16.7           22         13     11.22              18.9\n",
       "Neuchatel            17.6           35         32     16.92              23.0\n",
       "Val de Ruz           37.6           15          7      4.97              20.0\n",
       "ValdeTravers         18.7           25          7      8.65              19.5\n",
       "V. De Geneve          1.2           37         53     42.34              18.0\n",
       "Rive Droite          46.6           16         29     50.43              18.2\n",
       "Rive Gauche          27.7           22         29     58.33              19.3"
      ]
     },
     "execution_count": 44,
     "metadata": {},
     "output_type": "execute_result"
    }
   ],
   "source": [
    "x_vars = df.drop(columns=['Fertility'])\n",
    "x_vars"
   ]
  },
  {
   "cell_type": "code",
   "execution_count": 45,
   "metadata": {
    "scrolled": false
   },
   "outputs": [
    {
     "data": {
      "image/png": "[encoded data removed]",
      "text/plain": [
       "<Figure size 640x480 with 1 Axes>"
      ]
     },
     "metadata": {},
     "output_type": "display_data"
    },
    {
     "data": {
      "image/png": "[encoded data removed]",
      "text/plain": [
       "<Figure size 640x480 with 1 Axes>"
      ]
     },
     "metadata": {},
     "output_type": "display_data"
    },
    {
     "data": {
      "image/png": "[encoded data removed]",
      "text/plain": [
       "<Figure size 640x480 with 1 Axes>"
      ]
     },
     "metadata": {},
     "output_type": "display_data"
    },
    {
     "data": {
      "image/png": "[encoded data removed]",
      "text/plain": [
       "<Figure size 640x480 with 1 Axes>"
      ]
     },
     "metadata": {},
     "output_type": "display_data"
    },
    {
     "data": {
      "image/png": "[encoded data removed]",
      "text/plain": [
       "<Figure size 640x480 with 1 Axes>"
      ]
     },
     "metadata": {},
     "output_type": "display_data"
    }
   ],
   "source": [
    "for var in x_vars:\n",
    "    plt.scatter(x=var, y=df.Fertility, data=df)\n",
    "    plt.title(var+' vs Fertility')\n",
    "    plt.show()"
   ]
  },
  {
   "cell_type": "code",
   "execution_count": 46,
   "metadata": {},
   "outputs": [
    {
     "name": "stdout",
     "output_type": "stream",
     "text": [
      "SUMMARY\n",
      "Description:\n",
      "       Fertility  Agriculture  Examination  Education   Catholic  \\\n",
      "count  47.000000    47.000000    47.000000  47.000000   47.00000   \n",
      "mean   70.142553    50.659574    16.489362  10.978723   41.14383   \n",
      "std    12.491697    22.711218     7.977883   9.615407   41.70485   \n",
      "min    35.000000     1.200000     3.000000   1.000000    2.15000   \n",
      "25%    64.700000    35.900000    12.000000   6.000000    5.19500   \n",
      "50%    70.400000    54.100000    16.000000   8.000000   15.14000   \n",
      "75%    78.450000    67.650000    22.000000  12.000000   93.12500   \n",
      "max    92.500000    89.700000    37.000000  53.000000  100.00000   \n",
      "\n",
      "       Infant.Mortality  \n",
      "count         47.000000  \n",
      "mean          19.942553  \n",
      "std            2.912697  \n",
      "min           10.800000  \n",
      "25%           18.150000  \n",
      "50%           20.000000  \n",
      "75%           21.700000  \n",
      "max           26.600000  \n",
      "\n",
      "IQR:\n",
      "\tFertility: 13.749999999999986\n",
      "\tAgriculture: 31.750000000000007\n",
      "\tExamination: 10.0\n",
      "\tEducation: 6.0\n",
      "\tCatholic: 87.93\n",
      "\tInfant.Mortality: 3.5500000000000007\n",
      "\n",
      "Range:\n",
      "\tFertility: 57.5\n",
      "\tAgriculture: 88.5\n",
      "\tExamination: 34\n",
      "\tEducation: 52\n",
      "\tCatholic: 97.85\n",
      "\tInfant.Mortality: 15.8\n"
     ]
    }
   ],
   "source": [
    "df_print_summary(df)"
   ]
  },
  {
   "cell_type": "code",
   "execution_count": 97,
   "metadata": {},
   "outputs": [],
   "source": [
    "X_train, X_test, y_train, y_test = train_test_split(x_vars, target, train_size=.80, random_state=123)"
   ]
  },
  {
   "cell_type": "code",
   "execution_count": 98,
   "metadata": {},
   "outputs": [
    {
     "name": "stdout",
     "output_type": "stream",
     "text": [
      "Train columns:  ['Agriculture', 'Examination', 'Education', 'Catholic', 'Infant.Mortality', 'Fertility']\n",
      "Train dimensions (rows, columns): (37, 6)\n"
     ]
    }
   ],
   "source": [
    "train = pd.concat([X_train, y_train], axis=1)\n",
    "print(\"Train columns:  %s\" % list(train.columns))\n",
    "print(\"Train dimensions (rows, columns):\", train.shape)"
   ]
  },
  {
   "cell_type": "code",
   "execution_count": 99,
   "metadata": {},
   "outputs": [
    {
     "name": "stdout",
     "output_type": "stream",
     "text": [
      "Test columns:  ['Agriculture', 'Examination', 'Education', 'Catholic', 'Infant.Mortality', 'Fertility']\n",
      "Test dimensions (rows, columns): (10, 6)\n"
     ]
    }
   ],
   "source": [
    "test = pd.concat([X_test, y_test], axis=1)\n",
    "print(\"Test columns:  %s\" % list(test.columns))\n",
    "print(\"Test dimensions (rows, columns):\", test.shape)"
   ]
  },
  {
   "cell_type": "code",
   "execution_count": 100,
   "metadata": {
    "scrolled": true
   },
   "outputs": [
    {
     "name": "stdout",
     "output_type": "stream",
     "text": [
      "LinearRegression(copy_X=True, fit_intercept=True, n_jobs=None,\n",
      "         normalize=False)\n"
     ]
    }
   ],
   "source": [
    "lm1 = LinearRegression()\n",
    "print(lm1)"
   ]
  },
  {
   "cell_type": "code",
   "execution_count": 101,
   "metadata": {},
   "outputs": [
    {
     "name": "stdout",
     "output_type": "stream",
     "text": [
      "LinearRegression(copy_X=True, fit_intercept=True, n_jobs=None,\n",
      "         normalize=False)\n"
     ]
    }
   ],
   "source": [
    "lm1.fit(X_train[['Agriculture', 'Catholic']], y_train)\n",
    "print(lm1)"
   ]
  },
  {
   "cell_type": "code",
   "execution_count": 102,
   "metadata": {},
   "outputs": [
    {
     "name": "stdout",
     "output_type": "stream",
     "text": [
      "63.55879683763795\n",
      "[0.03743266 0.12533438]\n"
     ]
    }
   ],
   "source": [
    "lm1_y_intercept = lm1.intercept_\n",
    "print(lm1_y_intercept)\n",
    "\n",
    "lm1_coefficients = lm1.coef_\n",
    "print(lm1_coefficients)"
   ]
  },
  {
   "cell_type": "code",
   "execution_count": 103,
   "metadata": {},
   "outputs": [
    {
     "name": "stdout",
     "output_type": "stream",
     "text": [
      "Multivariate - final_exam = b + m1 * agriculture + m2 * catholic\n",
      "    y-intercept  (b): 63.56\n",
      "    coefficient (m1): 0.04\n",
      "    coefficient (m2): 0.13\n"
     ]
    }
   ],
   "source": [
    "print('Multivariate - final_exam = b + m1 * agriculture + m2 * catholic')\n",
    "print('    y-intercept  (b): %.2f' % lm1_y_intercept)\n",
    "print('    coefficient (m1): %.2f' % lm1_coefficients[0])\n",
    "print('    coefficient (m2): %.2f' % lm1_coefficients[1])\n"
   ]
  },
  {
   "cell_type": "code",
   "execution_count": 104,
   "metadata": {},
   "outputs": [
    {
     "data": {
      "text/plain": [
       "array([77.82386708, 66.25662675, 66.3861906 , 66.37001042, 66.52480473,\n",
       "       79.19135766, 66.1878478 , 66.80228399, 69.30950002, 65.57538947,\n",
       "       78.27421989, 66.45276871, 71.90643612, 69.15763106, 66.11030814,\n",
       "       66.33826942, 79.27135371, 65.24511073, 65.44348251, 65.83384295,\n",
       "       66.17625323, 66.50632311, 65.59017404, 66.38913319, 78.81555977,\n",
       "       78.05692605, 76.70380905, 79.44994479, 78.88912145, 67.36168179,\n",
       "       66.64733064, 65.80278982, 65.70059021, 78.29851963, 66.87566484,\n",
       "       76.75110487, 71.62377175])"
      ]
     },
     "execution_count": 104,
     "metadata": {},
     "output_type": "execute_result"
    }
   ],
   "source": [
    "y_pred_lm1 = lm1.predict(X_train[['Agriculture', 'Catholic']])\n",
    "y_pred_lm1"
   ]
  },
  {
   "cell_type": "code",
   "execution_count": 105,
   "metadata": {},
   "outputs": [
    {
     "name": "stdout",
     "output_type": "stream",
     "text": [
      "Model Evaluation on TRAIN Data\n",
      "\tMSE: 104.157\n",
      "\tMAE: 6.196\n",
      "\t22.16% of the variance in 63.55879683763795 can be explained by 0.03743265966462249.\n",
      "\n",
      "P-VALUE\n",
      "\tTrain: 0.000621\n",
      "\n"
     ]
    }
   ],
   "source": [
    "y_label = lm1_y_intercept\n",
    "x_label = lm1_coefficients[0]\n",
    "\n",
    "print(\"Model Evaluation on TRAIN Data\")\n",
    "mse = mean_squared_error(y_train, y_pred_lm1)\n",
    "print(f\"\\tMSE: {mse:.3f}\")\n",
    "\n",
    "mae = median_absolute_error(y_train, y_pred_lm1)\n",
    "print(f\"\\tMAE: {mae:.3f}\")\n",
    "\n",
    "r2 = r2_score(y_train, y_pred_lm1)\n",
    "print(\n",
    "        f\"\\t{r2:.2%} of the variance in {y_label} can be explained by {x_label}.\"\n",
    "    )\n",
    "print()\n",
    "\n",
    "print(\"P-VALUE\")\n",
    "f_vals, p_vals = f_regression(X_train, y_pred_lm1)\n",
    "print(f\"\\tTrain: {p_vals[0]:.3}\")\n",
    "print()\n"
   ]
  },
  {
   "cell_type": "code",
   "execution_count": null,
   "metadata": {},
   "outputs": [],
   "source": []
  },
  {
   "cell_type": "code",
   "execution_count": null,
   "metadata": {},
   "outputs": [],
   "source": []
  },
  {
   "cell_type": "code",
   "execution_count": null,
   "metadata": {},
   "outputs": [],
   "source": []
  },
  {
   "cell_type": "code",
   "execution_count": 106,
   "metadata": {
    "scrolled": true
   },
   "outputs": [
    {
     "name": "stdout",
     "output_type": "stream",
     "text": [
      "LinearRegression(copy_X=True, fit_intercept=True, n_jobs=None,\n",
      "         normalize=False)\n"
     ]
    }
   ],
   "source": [
    "lm2 = LinearRegression()\n",
    "print(lm2)"
   ]
  },
  {
   "cell_type": "code",
   "execution_count": 107,
   "metadata": {},
   "outputs": [
    {
     "name": "stdout",
     "output_type": "stream",
     "text": [
      "LinearRegression(copy_X=True, fit_intercept=True, n_jobs=None,\n",
      "         normalize=False)\n"
     ]
    }
   ],
   "source": [
    "lm2.fit(X_train[['Education', 'Examination']], y_train)\n",
    "print(lm2)"
   ]
  },
  {
   "cell_type": "code",
   "execution_count": 108,
   "metadata": {},
   "outputs": [
    {
     "name": "stdout",
     "output_type": "stream",
     "text": [
      "63.55879683763795\n",
      "[0.03743266 0.12533438]\n"
     ]
    }
   ],
   "source": [
    "lm2_y_intercept = lm2.intercept_\n",
    "print(lm1_y_intercept)\n",
    "\n",
    "lm2_coefficients = lm2.coef_\n",
    "print(lm1_coefficients)"
   ]
  },
  {
   "cell_type": "code",
   "execution_count": 109,
   "metadata": {},
   "outputs": [
    {
     "name": "stdout",
     "output_type": "stream",
     "text": [
      "Multivariate - final_exam = b + m1 * education + m2 * examination\n",
      "    y-intercept  (b): 83.87\n",
      "    coefficient (m1): -0.50\n",
      "    coefficient (m2): -0.52\n"
     ]
    }
   ],
   "source": [
    "print('Multivariate - final_exam = b + m1 * education + m2 * examination')\n",
    "print('    y-intercept  (b): %.2f' % lm2_y_intercept)\n",
    "print('    coefficient (m1): %.2f' % lm2_coefficients[0])\n",
    "print('    coefficient (m2): %.2f' % lm2_coefficients[1])\n"
   ]
  },
  {
   "cell_type": "code",
   "execution_count": 110,
   "metadata": {},
   "outputs": [
    {
     "data": {
      "text/plain": [
       "array([72.00854431, 79.23762228, 67.95309594, 73.05715465, 77.08480443,\n",
       "       80.81053778, 75.04318094, 70.51902459, 73.44246685, 63.20655085,\n",
       "       72.56064807, 67.37319359, 57.93956868, 74.10576498, 70.40783022,\n",
       "       49.63408179, 81.30704436, 70.98773257, 70.05031661, 67.51218655,\n",
       "       72.03634291, 69.85572646, 65.88367387, 72.56064807, 74.68566734,\n",
       "       70.60242037, 69.02950487, 80.25843402, 74.60227156, 66.38018044,\n",
       "       69.44261566, 56.33885459, 64.28295977, 78.71331711, 61.33171892,\n",
       "       78.7689143 , 61.08539968])"
      ]
     },
     "execution_count": 110,
     "metadata": {},
     "output_type": "execute_result"
    }
   ],
   "source": [
    "y_pred_lm2 = lm2.predict(X_train[['Education', 'Examination']])\n",
    "y_pred_lm2"
   ]
  },
  {
   "cell_type": "code",
   "execution_count": 111,
   "metadata": {},
   "outputs": [
    {
     "name": "stdout",
     "output_type": "stream",
     "text": [
      "Model Evaluation on TRAIN Data\n",
      "\tMSE: 85.317\n",
      "\tMAE: 7.238\n",
      "\t36.24% of the variance in 83.87297300657721 can be explained by -0.49650657409966864.\n",
      "\n",
      "P-VALUE\n",
      "\tTrain: 5.53e-07\n",
      "\n"
     ]
    }
   ],
   "source": [
    "y_label = lm2_y_intercept\n",
    "x_label = lm2_coefficients[0]\n",
    "\n",
    "print(\"Model Evaluation on TRAIN Data\")\n",
    "mse = mean_squared_error(y_train, y_pred_lm2)\n",
    "print(f\"\\tMSE: {mse:.3f}\")\n",
    "\n",
    "mae = median_absolute_error(y_train, y_pred_lm2)\n",
    "print(f\"\\tMAE: {mae:.3f}\")\n",
    "\n",
    "r2 = r2_score(y_train, y_pred_lm2)\n",
    "print(\n",
    "        f\"\\t{r2:.2%} of the variance in {y_label} can be explained by {x_label}.\"\n",
    "    )\n",
    "print()\n",
    "\n",
    "print(\"P-VALUE\")\n",
    "f_vals, p_vals = f_regression(X_train, y_pred_lm2)\n",
    "print(f\"\\tTrain: {p_vals[0]:.3}\")\n",
    "print()\n"
   ]
  },
  {
   "cell_type": "code",
   "execution_count": 112,
   "metadata": {},
   "outputs": [
    {
     "data": {
      "text/plain": [
       "array([74.10576498, 66.90448561, 38.1588334 , 57.68938134, 67.28979781,\n",
       "       77.22379739, 72.53284948, 73.55366122, 75.67868048, 76.25858284])"
      ]
     },
     "execution_count": 112,
     "metadata": {},
     "output_type": "execute_result"
    }
   ],
   "source": [
    "y_pred_lm2 = lm2.predict(X_test[['Education', 'Examination']])\n",
    "y_pred_lm2"
   ]
  },
  {
   "cell_type": "code",
   "execution_count": 113,
   "metadata": {},
   "outputs": [
    {
     "data": {
      "text/plain": [
       "Text(0, 0.5, 'Residuals')"
      ]
     },
     "execution_count": 113,
     "metadata": {},
     "output_type": "execute_result"
    },
    {
     "data": {
      "image/png": "[encoded data removed]",
      "text/plain": [
       "<Figure size 640x480 with 1 Axes>"
      ]
     },
     "metadata": {},
     "output_type": "display_data"
    }
   ],
   "source": [
    "plt.scatter(y_pred_lm2, y_pred_lm2 - y_test, c='g', s=40)\n",
    "plt.hlines(y=0, xmin=50, xmax=100)\n",
    "plt.title(\"Residual plot\")\n",
    "plt.ylabel('Residuals')"
   ]
  },
  {
   "cell_type": "code",
   "execution_count": null,
   "metadata": {},
   "outputs": [],
   "source": []
  },
  {
   "cell_type": "code",
   "execution_count": 114,
   "metadata": {},
   "outputs": [
    {
     "data": {
      "text/plain": [
       "43.287927652783004"
      ]
     },
     "execution_count": 114,
     "metadata": {},
     "output_type": "execute_result"
    }
   ],
   "source": [
    "lm_ev = LinearRegression().fit(train.drop(columns='Fertility'), train.Fertility)\n",
    "\n",
    "predicted = lm_ev.predict(train.drop(columns='Fertility'))\n",
    "actual = train.Fertility\n",
    "\n",
    "mean_squared_error(actual, predicted)"
   ]
  },
  {
   "cell_type": "code",
   "execution_count": 115,
   "metadata": {},
   "outputs": [
    {
     "data": {
      "text/plain": [
       "array([-0.21156852, -0.39409426, -0.92225189,  0.12007924,  1.68540012])"
      ]
     },
     "execution_count": 115,
     "metadata": {},
     "output_type": "execute_result"
    }
   ],
   "source": [
    "lm_ev.coef_"
   ]
  },
  {
   "cell_type": "markdown",
   "metadata": {},
   "source": [
    "### These coefficients are like the weights of the variables"
   ]
  },
  {
   "cell_type": "code",
   "execution_count": 116,
   "metadata": {},
   "outputs": [
    {
     "data": {
      "text/plain": [
       "[('Agriculture', -0.21156851702423102),\n",
       " ('Examination', -0.3940942577543836),\n",
       " ('Education', -0.9222518920217094),\n",
       " ('Catholic', 0.12007923932536471),\n",
       " ('Infant.Mortality', 1.685400116534878)]"
      ]
     },
     "execution_count": 116,
     "metadata": {},
     "output_type": "execute_result"
    }
   ],
   "source": [
    "list(zip(train.drop(columns='Fertility').columns, lm_ev.coef_))"
   ]
  },
  {
   "cell_type": "markdown",
   "metadata": {},
   "source": [
    "### Coefficients: For a linear regression model, which variables have the most impact on the target variable. "
   ]
  },
  {
   "cell_type": "code",
   "execution_count": 117,
   "metadata": {},
   "outputs": [
    {
     "data": {
      "text/html": [
       "<div>\n",
       "<style scoped>\n",
       "    .dataframe tbody tr th:only-of-type {\n",
       "        vertical-align: middle;\n",
       "    }\n",
       "\n",
       "    .dataframe tbody tr th {\n",
       "        vertical-align: top;\n",
       "    }\n",
       "\n",
       "    .dataframe thead th {\n",
       "        text-align: right;\n",
       "    }\n",
       "</style>\n",
       "<table border=\"1\" class=\"dataframe\">\n",
       "  <thead>\n",
       "    <tr style=\"text-align: right;\">\n",
       "      <th></th>\n",
       "      <th>Agriculture</th>\n",
       "      <th>Examination</th>\n",
       "      <th>Education</th>\n",
       "      <th>Catholic</th>\n",
       "      <th>Infant.Mortality</th>\n",
       "      <th>Fertility</th>\n",
       "    </tr>\n",
       "  </thead>\n",
       "  <tbody>\n",
       "    <tr>\n",
       "      <th>Agriculture</th>\n",
       "      <td>1.000000</td>\n",
       "      <td>-0.662716</td>\n",
       "      <td>-0.643332</td>\n",
       "      <td>0.419195</td>\n",
       "      <td>-0.274139</td>\n",
       "      <td>0.252493</td>\n",
       "    </tr>\n",
       "    <tr>\n",
       "      <th>Examination</th>\n",
       "      <td>-0.662716</td>\n",
       "      <td>1.000000</td>\n",
       "      <td>0.651531</td>\n",
       "      <td>-0.568851</td>\n",
       "      <td>0.244401</td>\n",
       "      <td>-0.545232</td>\n",
       "    </tr>\n",
       "    <tr>\n",
       "      <th>Education</th>\n",
       "      <td>-0.643332</td>\n",
       "      <td>0.651531</td>\n",
       "      <td>1.000000</td>\n",
       "      <td>-0.151481</td>\n",
       "      <td>0.135395</td>\n",
       "      <td>-0.548811</td>\n",
       "    </tr>\n",
       "    <tr>\n",
       "      <th>Catholic</th>\n",
       "      <td>0.419195</td>\n",
       "      <td>-0.568851</td>\n",
       "      <td>-0.151481</td>\n",
       "      <td>1.000000</td>\n",
       "      <td>-0.065221</td>\n",
       "      <td>0.466533</td>\n",
       "    </tr>\n",
       "    <tr>\n",
       "      <th>Infant.Mortality</th>\n",
       "      <td>-0.274139</td>\n",
       "      <td>0.244401</td>\n",
       "      <td>0.135395</td>\n",
       "      <td>-0.065221</td>\n",
       "      <td>1.000000</td>\n",
       "      <td>0.290055</td>\n",
       "    </tr>\n",
       "    <tr>\n",
       "      <th>Fertility</th>\n",
       "      <td>0.252493</td>\n",
       "      <td>-0.545232</td>\n",
       "      <td>-0.548811</td>\n",
       "      <td>0.466533</td>\n",
       "      <td>0.290055</td>\n",
       "      <td>1.000000</td>\n",
       "    </tr>\n",
       "  </tbody>\n",
       "</table>\n",
       "</div>"
      ],
      "text/plain": [
       "                  Agriculture  Examination  Education  Catholic  \\\n",
       "Agriculture          1.000000    -0.662716  -0.643332  0.419195   \n",
       "Examination         -0.662716     1.000000   0.651531 -0.568851   \n",
       "Education           -0.643332     0.651531   1.000000 -0.151481   \n",
       "Catholic             0.419195    -0.568851  -0.151481  1.000000   \n",
       "Infant.Mortality    -0.274139     0.244401   0.135395 -0.065221   \n",
       "Fertility            0.252493    -0.545232  -0.548811  0.466533   \n",
       "\n",
       "                  Infant.Mortality  Fertility  \n",
       "Agriculture              -0.274139   0.252493  \n",
       "Examination               0.244401  -0.545232  \n",
       "Education                 0.135395  -0.548811  \n",
       "Catholic                 -0.065221   0.466533  \n",
       "Infant.Mortality          1.000000   0.290055  \n",
       "Fertility                 0.290055   1.000000  "
      ]
     },
     "execution_count": 117,
     "metadata": {},
     "output_type": "execute_result"
    }
   ],
   "source": [
    "train.corr()"
   ]
  },
  {
   "cell_type": "markdown",
   "metadata": {},
   "source": [
    "### Correlation is the correlation of one variable with another variable; how the variables interact -- only two variables at a time.\n",
    "\n",
    "### However, the coefficients tell us how those variables interact all at one time."
   ]
  },
  {
   "cell_type": "code",
   "execution_count": null,
   "metadata": {},
   "outputs": [],
   "source": []
  }
 ],
 "metadata": {
  "kernelspec": {
   "display_name": "Python 3",
   "language": "python",
   "name": "python3"
  },
  "language_info": {
   "codemirror_mode": {
    "name": "ipython",
    "version": 3
   },
   "file_extension": ".py",
   "mimetype": "text/x-python",
   "name": "python",
   "nbconvert_exporter": "python",
   "pygments_lexer": "ipython3",
   "version": "3.7.1"
  }
 },
 "nbformat": 4,
 "nbformat_minor": 2
}
