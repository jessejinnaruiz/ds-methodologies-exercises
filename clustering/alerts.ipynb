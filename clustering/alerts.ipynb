{
 "cells": [
  {
   "cell_type": "code",
   "execution_count": 1,
   "metadata": {},
   "outputs": [],
   "source": [
    "import time\n",
    "from IPython.core.magics.execution import _format_time\n",
    "from IPython.display import display as d\n",
    "from IPython.display import Audio\n",
    "from IPython.core.display import HTML\n",
    "import numpy as np\n",
    "import logging as log\n",
    "\n",
    "def alert():\n",
    "    \"\"\" makes sound on client using javascript (works with remote server) \"\"\"      \n",
    "    framerate = 44100\n",
    "    duration=.05\n",
    "    freq=300\n",
    "    t = np.linspace(0,duration,framerate*duration)\n",
    "    data = np.sin(2*np.pi*freq*t)\n",
    "    d(Audio(data,rate=framerate, autoplay=True))\n",
    "    hide_audio()\n",
    "    "
   ]
  },
  {
   "cell_type": "code",
   "execution_count": null,
   "metadata": {},
   "outputs": [],
   "source": []
  }
 ],
 "metadata": {
  "kernelspec": {
   "display_name": "Python 3",
   "language": "python",
   "name": "python3"
  },
  "language_info": {
   "codemirror_mode": {
    "name": "ipython",
    "version": 3
   },
   "file_extension": ".py",
   "mimetype": "text/x-python",
   "name": "python",
   "nbconvert_exporter": "python",
   "pygments_lexer": "ipython3",
   "version": "3.7.1"
  }
 },
 "nbformat": 4,
 "nbformat_minor": 2
}
