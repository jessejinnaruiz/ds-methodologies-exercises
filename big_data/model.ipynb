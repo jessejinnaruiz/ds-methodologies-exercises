{
 "cells": [
  {
   "cell_type": "code",
   "execution_count": 1,
   "metadata": {},
   "outputs": [],
   "source": [
    "from __future__ import print_function\n",
    "import numpy as np\n",
    "import pandas as pd\n",
    "import matplotlib.pyplot as plt\n",
    "%matplotlib inline\n",
    "import seaborn as sns\n",
    "from pyspark.sql.functions import when, col, lower, upper, round, regexp_extract, count, countDistinct\n",
    "from pyspark.sql.types import DoubleType\n",
    "\n",
    "from pyspark.ml.classification import LogisticRegression\n"
   ]
  },
  {
   "cell_type": "code",
   "execution_count": 2,
   "metadata": {},
   "outputs": [],
   "source": [
    "from pyspark.sql import SparkSession\n",
    "spark = SparkSession.builder.\\\n",
    "    master(\"local[*]\").\\\n",
    "    appName(\"classification\").\\\n",
    "    getOrCreate()"
   ]
  },
  {
   "cell_type": "code",
   "execution_count": 3,
   "metadata": {},
   "outputs": [],
   "source": [
    "# cases\n",
    "case_data = \"sa311/case.csv\"\n",
    "df_case = spark.read.csv(case_data, header=True)\n",
    "\n",
    "dept_data = \"sa311/dept.csv\"\n",
    "df_dept = spark.read.csv(dept_data, header=True)\n"
   ]
  },
  {
   "cell_type": "code",
   "execution_count": 4,
   "metadata": {},
   "outputs": [],
   "source": [
    "df = df_case.join(df_dept, \"dept_division\", \"left_outer\")\n"
   ]
  },
  {
   "cell_type": "code",
   "execution_count": 5,
   "metadata": {},
   "outputs": [
    {
     "name": "stdout",
     "output_type": "stream",
     "text": [
      "root\n",
      " |-- dept_division: string (nullable = true)\n",
      " |-- case_id: string (nullable = true)\n",
      " |-- case_opened_date: string (nullable = true)\n",
      " |-- case_closed_date: string (nullable = true)\n",
      " |-- SLA_due_date: string (nullable = true)\n",
      " |-- case_late: string (nullable = true)\n",
      " |-- num_days_late: string (nullable = true)\n",
      " |-- case_closed: string (nullable = true)\n",
      " |-- service_request_type: string (nullable = true)\n",
      " |-- SLA_days: string (nullable = true)\n",
      " |-- case_status: string (nullable = true)\n",
      " |-- source_id: string (nullable = true)\n",
      " |-- request_address: string (nullable = true)\n",
      " |-- council_district: string (nullable = true)\n",
      " |-- dept_name: string (nullable = true)\n",
      " |-- standardized_dept_name: string (nullable = true)\n",
      " |-- dept_subject_to_SLA: string (nullable = true)\n",
      "\n"
     ]
    }
   ],
   "source": [
    "df.printSchema()\n"
   ]
  },
  {
   "cell_type": "markdown",
   "metadata": {},
   "source": [
    "### Turn the case_late column to the target column. We want to predict if a case is late or not...\n",
    "### Some questions we might be thinking about are:\n",
    "### <li> Does the type of department effect if a case is late or not?\n",
    "### <li> Does the location of the request effect if a case is late or not?\n",
    "### <li> Does any feature effect if a case is late or not?"
   ]
  },
  {
   "cell_type": "code",
   "execution_count": 6,
   "metadata": {},
   "outputs": [],
   "source": [
    "df = df.select(lower(col('dept_division')).alias('dept_division'), \n",
    "          lower(col('service_request_type')).alias('request_type'),\n",
    "          lower(col('dept_name')).alias('dept_name'),\n",
    "          lower(col('standardized_dept_name')).alias('dept_name_std'),\n",
    "          (col('case_closed')=='YES').alias('case_closed'),\n",
    "          when(col('case_late')=='YES', 1).otherwise(0).alias('target'),\n",
    "          (col('dept_subject_to_SLA')=='YES').alias('dept_w_SLA'),\n",
    "          round(col('num_days_late').cast(DoubleType()), 2).alias('days_late'),\n",
    "          round(col('SLA_days').cast(DoubleType()), 2).alias('SLA_days'),\n",
    "          regexp_extract(col('request_address'),\"(\\d{5})$\", 1).\\\n",
    "               alias(\"request_address_zip\")\n",
    "         )\n"
   ]
  },
  {
   "cell_type": "markdown",
   "metadata": {},
   "source": [
    "### We can drop the department name column because it is redundant"
   ]
  },
  {
   "cell_type": "code",
   "execution_count": 7,
   "metadata": {
    "scrolled": true
   },
   "outputs": [
    {
     "data": {
      "text/html": [
       "<div>\n",
       "<style scoped>\n",
       "    .dataframe tbody tr th:only-of-type {\n",
       "        vertical-align: middle;\n",
       "    }\n",
       "\n",
       "    .dataframe tbody tr th {\n",
       "        vertical-align: top;\n",
       "    }\n",
       "\n",
       "    .dataframe thead th {\n",
       "        text-align: right;\n",
       "    }\n",
       "</style>\n",
       "<table border=\"1\" class=\"dataframe\">\n",
       "  <thead>\n",
       "    <tr style=\"text-align: right;\">\n",
       "      <th></th>\n",
       "      <th>0</th>\n",
       "    </tr>\n",
       "  </thead>\n",
       "  <tbody>\n",
       "    <tr>\n",
       "      <th>count(DISTINCT dept_division)</th>\n",
       "      <td>39</td>\n",
       "    </tr>\n",
       "    <tr>\n",
       "      <th>count(DISTINCT dept_name)</th>\n",
       "      <td>9</td>\n",
       "    </tr>\n",
       "    <tr>\n",
       "      <th>count(DISTINCT dept_name_std)</th>\n",
       "      <td>8</td>\n",
       "    </tr>\n",
       "    <tr>\n",
       "      <th>count(DISTINCT request_type)</th>\n",
       "      <td>334</td>\n",
       "    </tr>\n",
       "  </tbody>\n",
       "</table>\n",
       "</div>"
      ],
      "text/plain": [
       "                                 0\n",
       "count(DISTINCT dept_division)   39\n",
       "count(DISTINCT dept_name)        9\n",
       "count(DISTINCT dept_name_std)    8\n",
       "count(DISTINCT request_type)   334"
      ]
     },
     "execution_count": 7,
     "metadata": {},
     "output_type": "execute_result"
    }
   ],
   "source": [
    "df.select(countDistinct('dept_division'), \n",
    "          countDistinct('dept_name'),\n",
    "          countDistinct('dept_name_std'),\n",
    "          countDistinct('request_type')).\\\n",
    "          toPandas().transpose()"
   ]
  },
  {
   "cell_type": "code",
   "execution_count": 8,
   "metadata": {},
   "outputs": [],
   "source": [
    "df = df.drop('dept_name')\n"
   ]
  },
  {
   "cell_type": "markdown",
   "metadata": {},
   "source": [
    "### Filter out the entries that are closed cases. We don't care about these..."
   ]
  },
  {
   "cell_type": "code",
   "execution_count": 9,
   "metadata": {},
   "outputs": [],
   "source": [
    "from pyspark.ml.feature import SQLTransformer\n",
    "\n",
    "filterer = SQLTransformer(\n",
    "    statement=\"SELECT * FROM __THIS__ WHERE \\\n",
    "           dept_w_SLA AND case_closed\")\n",
    "\n",
    "filtered = filterer.transform(df)"
   ]
  },
  {
   "cell_type": "code",
   "execution_count": 10,
   "metadata": {},
   "outputs": [
    {
     "name": "stdout",
     "output_type": "stream",
     "text": [
      "+------+------+\n",
      "|target| count|\n",
      "+------+------+\n",
      "|     0|735612|\n",
      "|     1| 87978|\n",
      "+------+------+\n",
      "\n"
     ]
    }
   ],
   "source": [
    "filtered.\\\n",
    "    groupBy('target').\\\n",
    "    count().orderBy('target').show()"
   ]
  },
  {
   "cell_type": "code",
   "execution_count": 11,
   "metadata": {},
   "outputs": [
    {
     "name": "stdout",
     "output_type": "stream",
     "text": [
      "root\n",
      " |-- dept_division: string (nullable = true)\n",
      " |-- request_type: string (nullable = true)\n",
      " |-- dept_name_std: string (nullable = true)\n",
      " |-- case_closed: boolean (nullable = true)\n",
      " |-- target: integer (nullable = false)\n",
      " |-- dept_w_SLA: boolean (nullable = true)\n",
      " |-- days_late: double (nullable = true)\n",
      " |-- SLA_days: double (nullable = true)\n",
      " |-- request_address_zip: string (nullable = true)\n",
      "\n"
     ]
    }
   ],
   "source": [
    "filtered.printSchema()\n"
   ]
  },
  {
   "cell_type": "markdown",
   "metadata": {},
   "source": [
    "### Create a function to explore the features we can use to answer the question, What predicts if a case is late or not?..."
   ]
  },
  {
   "cell_type": "code",
   "execution_count": 12,
   "metadata": {},
   "outputs": [],
   "source": [
    "def explore(df, target, cont1, cont2):\n",
    "    from pyspark.sql.functions import count, mean, corr\n",
    "    aggregated = df.groupby(target).agg(count(cont1), \n",
    "                                      mean(cont1),\n",
    "                                      mean(cont2),\n",
    "                                      corr(cont1,cont2)\n",
    "                                     ).orderBy(target)\n",
    "    aggregated.show()"
   ]
  },
  {
   "cell_type": "code",
   "execution_count": 13,
   "metadata": {
    "scrolled": true
   },
   "outputs": [
    {
     "name": "stdout",
     "output_type": "stream",
     "text": [
      "+------+---------------+------------------+------------------+-------------------------+\n",
      "|target|count(SLA_days)|     avg(SLA_days)|    avg(days_late)|corr(SLA_days, days_late)|\n",
      "+------+---------------+------------------+------------------+-------------------------+\n",
      "|     0|         735612| 64.44108282627009|-58.57142732854887|       -0.997626452823121|\n",
      "|     1|          87978|14.202606674396014|22.111734751869776|      0.24758733973851155|\n",
      "+------+---------------+------------------+------------------+-------------------------+\n",
      "\n"
     ]
    }
   ],
   "source": [
    "explore(filtered, 'target','SLA_days','days_late')\n"
   ]
  },
  {
   "cell_type": "markdown",
   "metadata": {},
   "source": [
    "### Takeaway: the cases that are past their due date seem to have shorter SLA's\n"
   ]
  },
  {
   "cell_type": "markdown",
   "metadata": {},
   "source": [
    "# Put some selected features into a dataframe in order to perform modeling.\n",
    "\n",
    "# Start with SLA_days and days_late"
   ]
  },
  {
   "cell_type": "code",
   "execution_count": 14,
   "metadata": {},
   "outputs": [],
   "source": [
    "sample_pdf = filtered.select('SLA_days', 'days_late', 'target'). \\\n",
    "  sample(False, 0.20, 12345). \\\n",
    "  toPandas()"
   ]
  },
  {
   "cell_type": "code",
   "execution_count": 15,
   "metadata": {},
   "outputs": [
    {
     "data": {
      "image/png": "[encoded data removed]",
      "text/plain": [
       "<Figure size 432x288 with 1 Axes>"
      ]
     },
     "metadata": {
      "needs_background": "light"
     },
     "output_type": "display_data"
    }
   ],
   "source": [
    "sns.scatterplot(x=sample_pdf.SLA_days, \n",
    "                y=sample_pdf.days_late,\n",
    "                hue=sample_pdf.target\n",
    "               )\n",
    "\n",
    "plt.show()"
   ]
  },
  {
   "cell_type": "markdown",
   "metadata": {},
   "source": [
    "### Encode the Dept_name_std column to numeric"
   ]
  },
  {
   "cell_type": "code",
   "execution_count": 16,
   "metadata": {},
   "outputs": [
    {
     "name": "stdout",
     "output_type": "stream",
     "text": [
      "+--------------------+----------------+\n",
      "|       dept_name_std|dept_name_std_ix|\n",
      "+--------------------+----------------+\n",
      "|animal care services|             2.0|\n",
      "|trans & cap impro...|             3.0|\n",
      "|trans & cap impro...|             3.0|\n",
      "|dsd/code enforcement|             0.0|\n",
      "|animal care services|             2.0|\n",
      "+--------------------+----------------+\n",
      "only showing top 5 rows\n",
      "\n"
     ]
    }
   ],
   "source": [
    "from pyspark.ml.feature import StringIndexer\n",
    "indexer = StringIndexer(inputCol=\"dept_name_std\", outputCol=\"dept_name_std_ix\")\n",
    "indexer_model = indexer.fit(filtered)\n",
    "list(enumerate(indexer_model.labels))\n",
    "indexed = indexer_model.transform(filtered)\n",
    "indexed.select(\"dept_name_std\", \"dept_name_std_ix\").show(5)"
   ]
  },
  {
   "cell_type": "markdown",
   "metadata": {},
   "source": [
    "### Turn a dataframe into a format that can be processed in a model."
   ]
  },
  {
   "cell_type": "code",
   "execution_count": 17,
   "metadata": {},
   "outputs": [
    {
     "name": "stdout",
     "output_type": "stream",
     "text": [
      "+--------------------+----------------+----------------+\n",
      "|       dept_name_std|dept_name_std_ix|dept_name_std_cd|\n",
      "+--------------------+----------------+----------------+\n",
      "|animal care services|             2.0|   (6,[2],[1.0])|\n",
      "|trans & cap impro...|             3.0|   (6,[3],[1.0])|\n",
      "|trans & cap impro...|             3.0|   (6,[3],[1.0])|\n",
      "|dsd/code enforcement|             0.0|   (6,[0],[1.0])|\n",
      "|animal care services|             2.0|   (6,[2],[1.0])|\n",
      "+--------------------+----------------+----------------+\n",
      "only showing top 5 rows\n",
      "\n"
     ]
    }
   ],
   "source": [
    "from pyspark.ml.feature import OneHotEncoder\n",
    "encoder = OneHotEncoder(inputCol=\"dept_name_std_ix\", outputCol=\"dept_name_std_cd\")\n",
    "encoded = encoder.transform(indexed)\n",
    "encoded.select(\"dept_name_std\", \"dept_name_std_ix\", \"dept_name_std_cd\").show(5)"
   ]
  },
  {
   "cell_type": "code",
   "execution_count": 18,
   "metadata": {},
   "outputs": [],
   "source": [
    "selected = encoded.select(\"SLA_days\", \"dept_name_std_cd\", \"target\")\n",
    "features = [\"SLA_days\", \"dept_name_std_cd\"]"
   ]
  },
  {
   "cell_type": "code",
   "execution_count": 19,
   "metadata": {},
   "outputs": [
    {
     "data": {
      "text/plain": [
       "[Row(SLA_days=999.0, dept_name_std_cd=SparseVector(6, {2: 1.0}), target=0, features=SparseVector(7, {0: 999.0, 3: 1.0})),\n",
       " Row(SLA_days=4.32, dept_name_std_cd=SparseVector(6, {3: 1.0}), target=0, features=SparseVector(7, {0: 4.32, 4: 1.0})),\n",
       " Row(SLA_days=4.32, dept_name_std_cd=SparseVector(6, {3: 1.0}), target=0, features=SparseVector(7, {0: 4.32, 4: 1.0})),\n",
       " Row(SLA_days=16.29, dept_name_std_cd=SparseVector(6, {0: 1.0}), target=0, features=SparseVector(7, {0: 16.29, 1: 1.0})),\n",
       " Row(SLA_days=0.13, dept_name_std_cd=SparseVector(6, {2: 1.0}), target=1, features=SparseVector(7, {0: 0.13, 3: 1.0}))]"
      ]
     },
     "execution_count": 19,
     "metadata": {},
     "output_type": "execute_result"
    }
   ],
   "source": [
    "from pyspark.ml.feature import VectorAssembler\n",
    "assembler = VectorAssembler(inputCols=features, outputCol=\"features\")\n",
    "assembled = assembler.transform(selected)\n",
    "assembled.head(5)"
   ]
  },
  {
   "cell_type": "code",
   "execution_count": 20,
   "metadata": {},
   "outputs": [],
   "source": [
    "assembled.write.parquet(\"sa311/assembled\", mode=\"overwrite\")\n"
   ]
  },
  {
   "cell_type": "markdown",
   "metadata": {},
   "source": [
    "### Train/Test Split"
   ]
  },
  {
   "cell_type": "code",
   "execution_count": 21,
   "metadata": {},
   "outputs": [],
   "source": [
    "(train, test) = assembled.randomSplit([0.7, 0.3], 12345)\n"
   ]
  },
  {
   "cell_type": "markdown",
   "metadata": {},
   "source": [
    "### Create Model Object"
   ]
  },
  {
   "cell_type": "code",
   "execution_count": 22,
   "metadata": {},
   "outputs": [],
   "source": [
    "from pyspark.ml.classification import LogisticRegression\n",
    "log_reg = LogisticRegression(featuresCol=\"features\", labelCol=\"target\")"
   ]
  },
  {
   "cell_type": "code",
   "execution_count": 23,
   "metadata": {},
   "outputs": [
    {
     "name": "stdout",
     "output_type": "stream",
     "text": [
      "aggregationDepth: suggested depth for treeAggregate (>= 2). (default: 2)\n",
      "elasticNetParam: the ElasticNet mixing parameter, in range [0, 1]. For alpha = 0, the penalty is an L2 penalty. For alpha = 1, it is an L1 penalty. (default: 0.0)\n",
      "family: The name of family which is a description of the label distribution to be used in the model. Supported options: auto, binomial, multinomial (default: auto)\n",
      "featuresCol: features column name. (default: features, current: features)\n",
      "fitIntercept: whether to fit an intercept term. (default: True)\n",
      "labelCol: label column name. (default: label, current: target)\n",
      "lowerBoundsOnCoefficients: The lower bounds on coefficients if fitting under bound constrained optimization. The bound matrix must be compatible with the shape (1, number of features) for binomial regression, or (number of classes, number of features) for multinomial regression. (undefined)\n",
      "lowerBoundsOnIntercepts: The lower bounds on intercepts if fitting under bound constrained optimization. The bounds vector size must beequal with 1 for binomial regression, or the number oflasses for multinomial regression. (undefined)\n",
      "maxIter: max number of iterations (>= 0). (default: 100)\n",
      "predictionCol: prediction column name. (default: prediction)\n",
      "probabilityCol: Column name for predicted class conditional probabilities. Note: Not all models output well-calibrated probability estimates! These probabilities should be treated as confidences, not precise probabilities. (default: probability)\n",
      "rawPredictionCol: raw prediction (a.k.a. confidence) column name. (default: rawPrediction)\n",
      "regParam: regularization parameter (>= 0). (default: 0.0)\n",
      "standardization: whether to standardize the training features before fitting the model. (default: True)\n",
      "threshold: Threshold in binary classification prediction, in range [0, 1]. If threshold and thresholds are both set, they must match.e.g. if threshold is p, then thresholds must be equal to [1-p, p]. (default: 0.5)\n",
      "thresholds: Thresholds in multi-class classification to adjust the probability of predicting each class. Array must have length equal to the number of classes, with values > 0, excepting that at most one value may be 0. The class with largest value p/t is predicted, where p is the original probability of that class and t is the class's threshold. (undefined)\n",
      "tol: the convergence tolerance for iterative algorithms (>= 0). (default: 1e-06)\n",
      "upperBoundsOnCoefficients: The upper bounds on coefficients if fitting under bound constrained optimization. The bound matrix must be compatible with the shape (1, number of features) for binomial regression, or (number of classes, number of features) for multinomial regression. (undefined)\n",
      "upperBoundsOnIntercepts: The upper bounds on intercepts if fitting under bound constrained optimization. The bound vector size must be equal with 1 for binomial regression, or the number of classes for multinomial regression. (undefined)\n",
      "weightCol: weight column name. If this is not set or empty, we treat all instance weights as 1.0. (undefined)\n"
     ]
    }
   ],
   "source": [
    "print(log_reg.explainParams())\n"
   ]
  },
  {
   "cell_type": "markdown",
   "metadata": {},
   "source": [
    "### Fit the Model"
   ]
  },
  {
   "cell_type": "code",
   "execution_count": 24,
   "metadata": {},
   "outputs": [],
   "source": [
    "log_reg_model = log_reg.fit(train)\n"
   ]
  },
  {
   "cell_type": "code",
   "execution_count": 25,
   "metadata": {},
   "outputs": [
    {
     "data": {
      "text/plain": [
       "pyspark.ml.classification.LogisticRegressionModel"
      ]
     },
     "execution_count": 25,
     "metadata": {},
     "output_type": "execute_result"
    }
   ],
   "source": [
    "type(log_reg_model)\n"
   ]
  },
  {
   "cell_type": "code",
   "execution_count": 26,
   "metadata": {},
   "outputs": [
    {
     "data": {
      "text/plain": [
       "DenseVector([-0.0148, -2.195, -2.2715, -1.3328, -2.8929, -1.6286, -1.8126])"
      ]
     },
     "execution_count": 26,
     "metadata": {},
     "output_type": "execute_result"
    }
   ],
   "source": [
    "log_reg_model.intercept\n",
    "log_reg_model.coefficients\n"
   ]
  },
  {
   "cell_type": "code",
   "execution_count": 27,
   "metadata": {},
   "outputs": [
    {
     "data": {
      "text/plain": [
       "pyspark.ml.classification.BinaryLogisticRegressionTrainingSummary"
      ]
     },
     "execution_count": 27,
     "metadata": {},
     "output_type": "execute_result"
    }
   ],
   "source": [
    "type(log_reg_model.summary)\n"
   ]
  },
  {
   "cell_type": "code",
   "execution_count": 28,
   "metadata": {},
   "outputs": [
    {
     "data": {
      "text/plain": [
       "[0.3398522374414734,\n",
       " 0.3340295527680015,\n",
       " 0.3227611580762015,\n",
       " 0.3209154175447656,\n",
       " 0.3202449230605207,\n",
       " 0.3198133415889761,\n",
       " 0.3189923289886126,\n",
       " 0.3186976460855549,\n",
       " 0.3178598692587782,\n",
       " 0.3173426275244335,\n",
       " 0.3170799692067284,\n",
       " 0.31704520160455063,\n",
       " 0.31695901646954716,\n",
       " 0.3169449383538928,\n",
       " 0.31692702842738,\n",
       " 0.31683676838637653,\n",
       " 0.31668267164651065,\n",
       " 0.31639211180074456,\n",
       " 0.3161736615320495,\n",
       " 0.3161205860484955,\n",
       " 0.31605238734490876,\n",
       " 0.31604932297069405,\n",
       " 0.3160492512856366,\n",
       " 0.31604924944969576,\n",
       " 0.3160492493419527,\n",
       " 0.31604924932931433,\n",
       " 0.3160492493247116,\n",
       " 0.3160492493225877]"
      ]
     },
     "execution_count": 28,
     "metadata": {},
     "output_type": "execute_result"
    }
   ],
   "source": [
    "log_reg_model.summary.totalIterations\n",
    "log_reg_model.summary.objectiveHistory"
   ]
  },
  {
   "cell_type": "code",
   "execution_count": 29,
   "metadata": {},
   "outputs": [],
   "source": [
    "def plot_iterations(summary):\n",
    "  plt.plot(summary.objectiveHistory)\n",
    "  plt.title(\"Training Summary\")\n",
    "  plt.xlabel(\"Iteration\")\n",
    "  plt.ylabel(\"Objective Function\")\n",
    "  plt.show()"
   ]
  },
  {
   "cell_type": "code",
   "execution_count": 30,
   "metadata": {},
   "outputs": [
    {
     "data": {
      "image/png": "[encoded data removed]",
      "text/plain": [
       "<Figure size 432x288 with 1 Axes>"
      ]
     },
     "metadata": {
      "needs_background": "light"
     },
     "output_type": "display_data"
    }
   ],
   "source": [
    "plot_iterations(log_reg_model.summary)"
   ]
  },
  {
   "cell_type": "code",
   "execution_count": 31,
   "metadata": {},
   "outputs": [
    {
     "data": {
      "text/plain": [
       "0.6693051266087207"
      ]
     },
     "execution_count": 31,
     "metadata": {},
     "output_type": "execute_result"
    }
   ],
   "source": [
    "log_reg_model.summary.areaUnderROC\n"
   ]
  },
  {
   "cell_type": "code",
   "execution_count": 32,
   "metadata": {},
   "outputs": [
    {
     "name": "stdout",
     "output_type": "stream",
     "text": [
      "+--------------------+-------------------+\n",
      "|                 FPR|                TPR|\n",
      "+--------------------+-------------------+\n",
      "|                 0.0|                0.0|\n",
      "|6.567149099542826E-4|0.00964833915373995|\n",
      "| 0.09276583838984384|0.27416551612117274|\n",
      "| 0.09325740310054927|0.27559489969950457|\n",
      "| 0.09465826537888371| 0.2790384146836677|\n",
      "+--------------------+-------------------+\n",
      "only showing top 5 rows\n",
      "\n"
     ]
    }
   ],
   "source": [
    "log_reg_model.summary.roc.show(5)\n"
   ]
  },
  {
   "cell_type": "code",
   "execution_count": 33,
   "metadata": {},
   "outputs": [],
   "source": [
    "def plot_roc_curve(summary):\n",
    "  roc_curve = summary.roc.toPandas()\n",
    "  plt.plot(roc_curve[\"FPR\"], roc_curve[\"FPR\"], \"k\")\n",
    "  plt.plot(roc_curve[\"FPR\"], roc_curve[\"TPR\"])\n",
    "  plt.title(\"ROC Area: %s\" % summary.areaUnderROC)\n",
    "  plt.xlabel(\"False Positive Rate\")\n",
    "  plt.ylabel(\"True Positive Rate\")\n",
    "  plt.show()"
   ]
  },
  {
   "cell_type": "code",
   "execution_count": 34,
   "metadata": {},
   "outputs": [
    {
     "data": {
      "image/png": "[encoded data removed]",
      "text/plain": [
       "<Figure size 432x288 with 1 Axes>"
      ]
     },
     "metadata": {
      "needs_background": "light"
     },
     "output_type": "display_data"
    }
   ],
   "source": [
    "plot_roc_curve(log_reg_model.summary)\n"
   ]
  },
  {
   "cell_type": "markdown",
   "metadata": {},
   "source": [
    "### Evaluate the Model"
   ]
  },
  {
   "cell_type": "code",
   "execution_count": 35,
   "metadata": {},
   "outputs": [],
   "source": [
    "test_summary = log_reg_model.evaluate(test)\n"
   ]
  },
  {
   "cell_type": "code",
   "execution_count": 36,
   "metadata": {},
   "outputs": [
    {
     "data": {
      "text/plain": [
       "pyspark.ml.classification.BinaryLogisticRegressionSummary"
      ]
     },
     "execution_count": 36,
     "metadata": {},
     "output_type": "execute_result"
    }
   ],
   "source": [
    "type(test_summary)\n"
   ]
  },
  {
   "cell_type": "code",
   "execution_count": 37,
   "metadata": {},
   "outputs": [
    {
     "data": {
      "image/png": "[encoded data removed]",
      "text/plain": [
       "<Figure size 432x288 with 1 Axes>"
      ]
     },
     "metadata": {
      "needs_background": "light"
     },
     "output_type": "display_data"
    }
   ],
   "source": [
    "test_summary.areaUnderROC\n",
    "plot_roc_curve(test_summary)"
   ]
  },
  {
   "cell_type": "code",
   "execution_count": 38,
   "metadata": {},
   "outputs": [
    {
     "name": "stdout",
     "output_type": "stream",
     "text": [
      "+--------+----------------+------+--------------------+--------------------+--------------------+----------+\n",
      "|SLA_days|dept_name_std_cd|target|            features|       rawPrediction|         probability|prediction|\n",
      "+--------+----------------+------+--------------------+--------------------+--------------------+----------+\n",
      "|    0.13|   (6,[2],[1.0])|     0|(7,[0,3],[0.13,1.0])|[1.00601881048570...|[0.73224030160844...|       0.0|\n",
      "|    0.13|   (6,[2],[1.0])|     0|(7,[0,3],[0.13,1.0])|[1.00601881048570...|[0.73224030160844...|       0.0|\n",
      "|    0.13|   (6,[2],[1.0])|     0|(7,[0,3],[0.13,1.0])|[1.00601881048570...|[0.73224030160844...|       0.0|\n",
      "|    0.13|   (6,[2],[1.0])|     0|(7,[0,3],[0.13,1.0])|[1.00601881048570...|[0.73224030160844...|       0.0|\n",
      "|    0.13|   (6,[2],[1.0])|     0|(7,[0,3],[0.13,1.0])|[1.00601881048570...|[0.73224030160844...|       0.0|\n",
      "+--------+----------------+------+--------------------+--------------------+--------------------+----------+\n",
      "only showing top 5 rows\n",
      "\n"
     ]
    }
   ],
   "source": [
    "test_with_prediction = log_reg_model.transform(test)\n",
    "test_with_prediction.show(5)"
   ]
  },
  {
   "cell_type": "code",
   "execution_count": 39,
   "metadata": {},
   "outputs": [
    {
     "name": "stdout",
     "output_type": "stream",
     "text": [
      "+-------------------+\n",
      "|request_address_zip|\n",
      "+-------------------+\n",
      "|              78207|\n",
      "|              78223|\n",
      "|              78223|\n",
      "|              78223|\n",
      "|              78228|\n",
      "|                   |\n",
      "|              78251|\n",
      "|              78251|\n",
      "|              78251|\n",
      "|              78251|\n",
      "|              78251|\n",
      "|              78251|\n",
      "|              78251|\n",
      "|              78251|\n",
      "|              78251|\n",
      "|              78251|\n",
      "|              78251|\n",
      "|              78251|\n",
      "|              78251|\n",
      "|              78251|\n",
      "+-------------------+\n",
      "only showing top 20 rows\n",
      "\n"
     ]
    }
   ],
   "source": [
    "filtered.select('request_address_zip').show()"
   ]
  },
  {
   "cell_type": "code",
   "execution_count": 40,
   "metadata": {},
   "outputs": [
    {
     "name": "stdout",
     "output_type": "stream",
     "text": [
      "+-------------------+\n",
      "|request_address_zip|\n",
      "+-------------------+\n",
      "|              78207|\n",
      "|              78223|\n",
      "|              78223|\n",
      "|              78223|\n",
      "|              78228|\n",
      "|                   |\n",
      "|              78251|\n",
      "|              78251|\n",
      "|              78251|\n",
      "|              78251|\n",
      "|              78251|\n",
      "|              78251|\n",
      "|              78251|\n",
      "|              78251|\n",
      "|              78251|\n",
      "|              78251|\n",
      "|              78251|\n",
      "|              78251|\n",
      "|              78251|\n",
      "|              78251|\n",
      "+-------------------+\n",
      "only showing top 20 rows\n",
      "\n"
     ]
    }
   ],
   "source": [
    "filtered.select('request_address_zip').replace([' ', 'Nan', 'None'], '0', ['request_address_zip']).show()"
   ]
  },
  {
   "cell_type": "code",
   "execution_count": 41,
   "metadata": {},
   "outputs": [],
   "source": [
    "filtered = filtered.na.drop()"
   ]
  },
  {
   "cell_type": "code",
   "execution_count": 42,
   "metadata": {},
   "outputs": [
    {
     "name": "stdout",
     "output_type": "stream",
     "text": [
      "+----------------+--------------------+--------------------+-----------+------+----------+---------+--------+-------------------+\n",
      "|   dept_division|        request_type|       dept_name_std|case_closed|target|dept_w_SLA|days_late|SLA_days|request_address_zip|\n",
      "+----------------+--------------------+--------------------+-----------+------+----------+---------+--------+-------------------+\n",
      "|field operations|        stray animal|animal care services|       true|     0|      true|  -998.51|   999.0|              78207|\n",
      "|     storm water|removal of obstru...|trans & cap impro...|       true|     0|      true|    -2.01|    4.32|              78223|\n",
      "|     storm water|removal of obstru...|trans & cap impro...|       true|     0|      true|    -3.02|    4.32|              78223|\n",
      "|code enforcement|front or side yar...|dsd/code enforcement|       true|     0|      true|   -15.01|   16.29|              78223|\n",
      "|field operations|animal cruelty(cr...|animal care services|       true|     1|      true|     0.37|    0.13|              78228|\n",
      "|         signals|traffic signal op...|trans & cap impro...|       true|     0|      true|   -29.74|   30.08|                   |\n",
      "|code enforcement|front or side yar...|dsd/code enforcement|       true|     0|      true|   -14.71|   16.06|              78251|\n",
      "|code enforcement|front or side yar...|dsd/code enforcement|       true|     0|      true|   -14.71|   16.06|              78251|\n",
      "|code enforcement|right of way/side...|dsd/code enforcement|       true|     0|      true|   -14.71|   16.06|              78251|\n",
      "|code enforcement|front or side yar...|dsd/code enforcement|       true|     0|      true|   -14.71|   16.06|              78251|\n",
      "|code enforcement|front or side yar...|dsd/code enforcement|       true|     0|      true|   -14.71|   16.06|              78251|\n",
      "|code enforcement|right of way/side...|dsd/code enforcement|       true|     0|      true|   -14.71|   16.06|              78251|\n",
      "|code enforcement|front or side yar...|dsd/code enforcement|       true|     0|      true|   -14.71|   16.06|              78251|\n",
      "|code enforcement|front or side yar...|dsd/code enforcement|       true|     0|      true|   -14.71|   16.06|              78251|\n",
      "|code enforcement|right of way/side...|dsd/code enforcement|       true|     0|      true|   -14.71|   16.06|              78251|\n",
      "|code enforcement|front or side yar...|dsd/code enforcement|       true|     0|      true|   -14.71|   16.06|              78251|\n",
      "|code enforcement|front or side yar...|dsd/code enforcement|       true|     0|      true|   -14.71|   16.06|              78251|\n",
      "|code enforcement|right of way/side...|dsd/code enforcement|       true|     0|      true|   -14.71|   16.06|              78251|\n",
      "|code enforcement|front or side yar...|dsd/code enforcement|       true|     0|      true|   -14.71|   16.06|              78251|\n",
      "|code enforcement|front or side yar...|dsd/code enforcement|       true|     0|      true|   -14.71|   16.06|              78251|\n",
      "+----------------+--------------------+--------------------+-----------+------+----------+---------+--------+-------------------+\n",
      "only showing top 20 rows\n",
      "\n"
     ]
    }
   ],
   "source": [
    "filtered.show()"
   ]
  },
  {
   "cell_type": "code",
   "execution_count": 43,
   "metadata": {},
   "outputs": [
    {
     "name": "stdout",
     "output_type": "stream",
     "text": [
      "root\n",
      " |-- dept_division: string (nullable = true)\n",
      " |-- request_type: string (nullable = true)\n",
      " |-- dept_name_std: string (nullable = true)\n",
      " |-- case_closed: boolean (nullable = true)\n",
      " |-- target: integer (nullable = false)\n",
      " |-- dept_w_SLA: boolean (nullable = true)\n",
      " |-- days_late: double (nullable = true)\n",
      " |-- SLA_days: double (nullable = true)\n",
      " |-- request_address_zip: string (nullable = true)\n",
      "\n"
     ]
    }
   ],
   "source": [
    "filtered.printSchema()"
   ]
  },
  {
   "cell_type": "code",
   "execution_count": 44,
   "metadata": {},
   "outputs": [],
   "source": [
    "fil_pd = filtered.toPandas()"
   ]
  },
  {
   "cell_type": "code",
   "execution_count": 45,
   "metadata": {},
   "outputs": [
    {
     "data": {
      "text/html": [
       "<div>\n",
       "<style scoped>\n",
       "    .dataframe tbody tr th:only-of-type {\n",
       "        vertical-align: middle;\n",
       "    }\n",
       "\n",
       "    .dataframe tbody tr th {\n",
       "        vertical-align: top;\n",
       "    }\n",
       "\n",
       "    .dataframe thead th {\n",
       "        text-align: right;\n",
       "    }\n",
       "</style>\n",
       "<table border=\"1\" class=\"dataframe\">\n",
       "  <thead>\n",
       "    <tr style=\"text-align: right;\">\n",
       "      <th></th>\n",
       "      <th>dept_division</th>\n",
       "      <th>request_type</th>\n",
       "      <th>dept_name_std</th>\n",
       "      <th>case_closed</th>\n",
       "      <th>target</th>\n",
       "      <th>dept_w_SLA</th>\n",
       "      <th>days_late</th>\n",
       "      <th>SLA_days</th>\n",
       "      <th>request_address_zip</th>\n",
       "    </tr>\n",
       "  </thead>\n",
       "  <tbody>\n",
       "    <tr>\n",
       "      <th>0</th>\n",
       "      <td>field operations</td>\n",
       "      <td>stray animal</td>\n",
       "      <td>animal care services</td>\n",
       "      <td>True</td>\n",
       "      <td>0</td>\n",
       "      <td>True</td>\n",
       "      <td>-998.51</td>\n",
       "      <td>999.00</td>\n",
       "      <td>78207</td>\n",
       "    </tr>\n",
       "    <tr>\n",
       "      <th>1</th>\n",
       "      <td>storm water</td>\n",
       "      <td>removal of obstruction</td>\n",
       "      <td>trans &amp; cap improvements</td>\n",
       "      <td>True</td>\n",
       "      <td>0</td>\n",
       "      <td>True</td>\n",
       "      <td>-2.01</td>\n",
       "      <td>4.32</td>\n",
       "      <td>78223</td>\n",
       "    </tr>\n",
       "    <tr>\n",
       "      <th>2</th>\n",
       "      <td>storm water</td>\n",
       "      <td>removal of obstruction</td>\n",
       "      <td>trans &amp; cap improvements</td>\n",
       "      <td>True</td>\n",
       "      <td>0</td>\n",
       "      <td>True</td>\n",
       "      <td>-3.02</td>\n",
       "      <td>4.32</td>\n",
       "      <td>78223</td>\n",
       "    </tr>\n",
       "    <tr>\n",
       "      <th>3</th>\n",
       "      <td>code enforcement</td>\n",
       "      <td>front or side yard parking</td>\n",
       "      <td>dsd/code enforcement</td>\n",
       "      <td>True</td>\n",
       "      <td>0</td>\n",
       "      <td>True</td>\n",
       "      <td>-15.01</td>\n",
       "      <td>16.29</td>\n",
       "      <td>78223</td>\n",
       "    </tr>\n",
       "    <tr>\n",
       "      <th>4</th>\n",
       "      <td>field operations</td>\n",
       "      <td>animal cruelty(critical)</td>\n",
       "      <td>animal care services</td>\n",
       "      <td>True</td>\n",
       "      <td>1</td>\n",
       "      <td>True</td>\n",
       "      <td>0.37</td>\n",
       "      <td>0.13</td>\n",
       "      <td>78228</td>\n",
       "    </tr>\n",
       "  </tbody>\n",
       "</table>\n",
       "</div>"
      ],
      "text/plain": [
       "      dept_division                request_type             dept_name_std  \\\n",
       "0  field operations                stray animal      animal care services   \n",
       "1       storm water      removal of obstruction  trans & cap improvements   \n",
       "2       storm water      removal of obstruction  trans & cap improvements   \n",
       "3  code enforcement  front or side yard parking      dsd/code enforcement   \n",
       "4  field operations    animal cruelty(critical)      animal care services   \n",
       "\n",
       "   case_closed  target  dept_w_SLA  days_late  SLA_days request_address_zip  \n",
       "0         True       0        True    -998.51    999.00               78207  \n",
       "1         True       0        True      -2.01      4.32               78223  \n",
       "2         True       0        True      -3.02      4.32               78223  \n",
       "3         True       0        True     -15.01     16.29               78223  \n",
       "4         True       1        True       0.37      0.13               78228  "
      ]
     },
     "execution_count": 45,
     "metadata": {},
     "output_type": "execute_result"
    }
   ],
   "source": [
    "fil_pd.head()"
   ]
  },
  {
   "cell_type": "code",
   "execution_count": 46,
   "metadata": {
    "scrolled": true
   },
   "outputs": [
    {
     "data": {
      "text/plain": [
       "0         78207\n",
       "1         78223\n",
       "2         78223\n",
       "3         78223\n",
       "4         78228\n",
       "5          None\n",
       "6         78251\n",
       "7         78251\n",
       "8         78251\n",
       "9         78251\n",
       "10        78251\n",
       "11        78251\n",
       "12        78251\n",
       "13        78251\n",
       "14        78251\n",
       "15        78251\n",
       "16        78251\n",
       "17        78251\n",
       "18        78251\n",
       "19        78251\n",
       "20        78251\n",
       "21        78251\n",
       "22        78251\n",
       "23        78251\n",
       "24        78251\n",
       "25        78251\n",
       "26        78251\n",
       "27        78251\n",
       "28        78251\n",
       "29        78251\n",
       "          ...  \n",
       "823560    78251\n",
       "823561    78252\n",
       "823562    78209\n",
       "823563    78221\n",
       "823564    78237\n",
       "823565    78220\n",
       "823566    78217\n",
       "823567    78216\n",
       "823568    78251\n",
       "823569     None\n",
       "823570    78213\n",
       "823571    78249\n",
       "823572    78240\n",
       "823573    78207\n",
       "823574    78227\n",
       "823575    78201\n",
       "823576    78250\n",
       "823577    78250\n",
       "823578     None\n",
       "823579    78228\n",
       "823580     None\n",
       "823581    78240\n",
       "823582     None\n",
       "823583    78214\n",
       "823584    78207\n",
       "823585     None\n",
       "823586    78209\n",
       "823587     None\n",
       "823588    78249\n",
       "823589    78218\n",
       "Name: request_address_zip, Length: 823590, dtype: object"
      ]
     },
     "execution_count": 46,
     "metadata": {},
     "output_type": "execute_result"
    }
   ],
   "source": [
    "import re\n",
    "none_test = fil_pd.request_address_zip.replace(to_replace='', value='None', regex=True)\n",
    "none_test\n",
    "# none_test.value_counts()"
   ]
  },
  {
   "cell_type": "code",
   "execution_count": 47,
   "metadata": {},
   "outputs": [],
   "source": [
    "filtered = filtered.replace([''], \"None\", ['request_address_zip'])"
   ]
  },
  {
   "cell_type": "markdown",
   "metadata": {},
   "source": [
    "### Determine if request_address_zip is a promising feature."
   ]
  },
  {
   "cell_type": "code",
   "execution_count": 48,
   "metadata": {},
   "outputs": [],
   "source": [
    "from pyspark.ml.feature import RFormula\n",
    "\n",
    "rf = RFormula(formula='target ~ request_address_zip')\n",
    "\n",
    "df2 = rf.fit(filtered).transform(filtered).select('features','target')"
   ]
  },
  {
   "cell_type": "code",
   "execution_count": 49,
   "metadata": {},
   "outputs": [
    {
     "name": "stdout",
     "output_type": "stream",
     "text": [
      "+--------------+------+\n",
      "|      features|target|\n",
      "+--------------+------+\n",
      "|(75,[1],[1.0])|     0|\n",
      "|(75,[8],[1.0])|     0|\n",
      "|(75,[8],[1.0])|     0|\n",
      "|(75,[8],[1.0])|     0|\n",
      "|(75,[2],[1.0])|     1|\n",
      "|(75,[0],[1.0])|     0|\n",
      "|(75,[4],[1.0])|     0|\n",
      "|(75,[4],[1.0])|     0|\n",
      "|(75,[4],[1.0])|     0|\n",
      "|(75,[4],[1.0])|     0|\n",
      "|(75,[4],[1.0])|     0|\n",
      "|(75,[4],[1.0])|     0|\n",
      "|(75,[4],[1.0])|     0|\n",
      "|(75,[4],[1.0])|     0|\n",
      "|(75,[4],[1.0])|     0|\n",
      "|(75,[4],[1.0])|     0|\n",
      "|(75,[4],[1.0])|     0|\n",
      "|(75,[4],[1.0])|     0|\n",
      "|(75,[4],[1.0])|     0|\n",
      "|(75,[4],[1.0])|     0|\n",
      "+--------------+------+\n",
      "only showing top 20 rows\n",
      "\n"
     ]
    }
   ],
   "source": [
    "df2.show()"
   ]
  },
  {
   "cell_type": "markdown",
   "metadata": {},
   "source": [
    "### Reassemble the feature vector and include request_address_zip."
   ]
  },
  {
   "cell_type": "code",
   "execution_count": null,
   "metadata": {},
   "outputs": [],
   "source": []
  },
  {
   "cell_type": "markdown",
   "metadata": {},
   "source": [
    "### Create new train and test datasets."
   ]
  },
  {
   "cell_type": "code",
   "execution_count": 50,
   "metadata": {},
   "outputs": [],
   "source": [
    "(train2, test2) = df2.randomSplit([0.6, 0.4], 12345)\n"
   ]
  },
  {
   "cell_type": "markdown",
   "metadata": {},
   "source": [
    "### Refit the logistic regression model on the train dataset."
   ]
  },
  {
   "cell_type": "code",
   "execution_count": 51,
   "metadata": {},
   "outputs": [],
   "source": [
    "log_reg = LogisticRegression(featuresCol=\"features\", labelCol=\"target\")\n"
   ]
  },
  {
   "cell_type": "code",
   "execution_count": 52,
   "metadata": {},
   "outputs": [],
   "source": [
    "log_reg_model2 = log_reg.fit(train2)\n"
   ]
  },
  {
   "cell_type": "code",
   "execution_count": 53,
   "metadata": {},
   "outputs": [
    {
     "data": {
      "text/plain": [
       "DenseVector([-0.4673, -0.1641, 0.1803, 0.0696, -0.9119, 0.0794, 0.2606, -0.0276, 0.2034, 0.0533, -0.0739, 0.4873, -0.2658, 0.1368, 0.3229, 0.3193, 0.0638, 0.0368, -0.1208, 0.1833, 0.2106, 0.0013, 0.2514, -0.0638, 0.072, -0.1739, 0.3319, 0.3417, 0.2405, -0.0006, 0.0152, -0.1013, 0.0304, 0.0006, 0.2406, 0.3428, 0.1042, 0.2157, 0.6488, 0.2416, -0.037, 0.2186, 0.316, -0.1275, 0.0945, -0.0675, -0.2468, 0.7232, 0.0869, 0.5302, 1.0851, 0.2056, 0.2365, 0.496, 0.5457, 0.3939, 0.2012, 1.084, 0.6428, -0.4192, 1.464, 0.0777, -0.0612, 0.1902, -13.7772, -13.7772, -0.1665, 0.0566, 1.0372, -13.7772, 0.7498, -13.7772, -13.7772, 0.0, -13.7772])"
      ]
     },
     "execution_count": 53,
     "metadata": {},
     "output_type": "execute_result"
    }
   ],
   "source": [
    "log_reg_model2.intercept\n",
    "log_reg_model2.coefficients"
   ]
  },
  {
   "cell_type": "code",
   "execution_count": 54,
   "metadata": {},
   "outputs": [],
   "source": [
    "def plot_iterations(summary):\n",
    "  plt.plot(summary.objectiveHistory)\n",
    "  plt.title(\"Training Summary\")\n",
    "  plt.xlabel(\"Iteration\")\n",
    "  plt.ylabel(\"Objective Function\")\n",
    "  plt.show()"
   ]
  },
  {
   "cell_type": "code",
   "execution_count": 55,
   "metadata": {},
   "outputs": [
    {
     "data": {
      "image/png": "[encoded data removed]",
      "text/plain": [
       "<Figure size 432x288 with 1 Axes>"
      ]
     },
     "metadata": {
      "needs_background": "light"
     },
     "output_type": "display_data"
    }
   ],
   "source": [
    "plot_iterations(log_reg_model2.summary)"
   ]
  },
  {
   "cell_type": "markdown",
   "metadata": {},
   "source": [
    "### Apply the refit logistic model to the test dataset."
   ]
  },
  {
   "cell_type": "code",
   "execution_count": 56,
   "metadata": {},
   "outputs": [],
   "source": [
    "log_reg_model3 = log_reg.fit(test2)\n"
   ]
  },
  {
   "cell_type": "markdown",
   "metadata": {},
   "source": [
    "### Compute the AUC on the test dataset."
   ]
  },
  {
   "cell_type": "code",
   "execution_count": 57,
   "metadata": {},
   "outputs": [
    {
     "data": {
      "text/plain": [
       "0.5847181879137835"
      ]
     },
     "execution_count": 57,
     "metadata": {},
     "output_type": "execute_result"
    }
   ],
   "source": [
    "log_reg_model3.summary.areaUnderROC\n"
   ]
  },
  {
   "cell_type": "code",
   "execution_count": 58,
   "metadata": {},
   "outputs": [
    {
     "name": "stdout",
     "output_type": "stream",
     "text": [
      "+--------------------+--------------------+\n",
      "|                 FPR|                 TPR|\n",
      "+--------------------+--------------------+\n",
      "|                 0.0|                 0.0|\n",
      "|1.017708121310808E-4|3.701805341989862...|\n",
      "|3.595902028631522E-4|0.001252918731135...|\n",
      "|0.001716534364610...|0.005666609715815251|\n",
      "|0.001967569034534229|0.006463921635628453|\n",
      "+--------------------+--------------------+\n",
      "only showing top 5 rows\n",
      "\n"
     ]
    }
   ],
   "source": [
    "log_reg_model3.summary.roc.show(5)\n"
   ]
  },
  {
   "cell_type": "code",
   "execution_count": 59,
   "metadata": {},
   "outputs": [],
   "source": [
    "def plot_roc_curve(summary):\n",
    "  roc_curve = summary.roc.toPandas()\n",
    "  plt.plot(roc_curve[\"FPR\"], roc_curve[\"FPR\"], \"k\")\n",
    "  plt.plot(roc_curve[\"FPR\"], roc_curve[\"TPR\"])\n",
    "  plt.title(\"ROC Area: %s\" % summary.areaUnderROC)\n",
    "  plt.xlabel(\"False Positive Rate\")\n",
    "  plt.ylabel(\"True Positive Rate\")\n",
    "  plt.show()"
   ]
  },
  {
   "cell_type": "code",
   "execution_count": 60,
   "metadata": {},
   "outputs": [
    {
     "data": {
      "image/png": "[encoded data removed]",
      "text/plain": [
       "<Figure size 432x288 with 1 Axes>"
      ]
     },
     "metadata": {
      "needs_background": "light"
     },
     "output_type": "display_data"
    }
   ],
   "source": [
    "plot_roc_curve(log_reg_model3.summary)\n"
   ]
  },
  {
   "cell_type": "code",
   "execution_count": 61,
   "metadata": {},
   "outputs": [],
   "source": [
    "test_summary = log_reg_model2.evaluate(test2)\n"
   ]
  },
  {
   "cell_type": "code",
   "execution_count": 62,
   "metadata": {},
   "outputs": [
    {
     "data": {
      "image/png": "[encoded data removed]",
      "text/plain": [
       "<Figure size 432x288 with 1 Axes>"
      ]
     },
     "metadata": {
      "needs_background": "light"
     },
     "output_type": "display_data"
    }
   ],
   "source": [
    "test_summary.areaUnderROC\n",
    "plot_roc_curve(test_summary)"
   ]
  },
  {
   "cell_type": "code",
   "execution_count": 63,
   "metadata": {},
   "outputs": [
    {
     "name": "stdout",
     "output_type": "stream",
     "text": [
      "+--------------+------+--------------------+--------------------+----------+\n",
      "|      features|target|       rawPrediction|         probability|prediction|\n",
      "+--------------+------+--------------------+--------------------+----------+\n",
      "|(75,[0],[1.0])|     0|[2.60338749923081...|[0.93107927540107...|       0.0|\n",
      "|(75,[0],[1.0])|     0|[2.60338749923081...|[0.93107927540107...|       0.0|\n",
      "|(75,[0],[1.0])|     0|[2.60338749923081...|[0.93107927540107...|       0.0|\n",
      "|(75,[0],[1.0])|     0|[2.60338749923081...|[0.93107927540107...|       0.0|\n",
      "|(75,[0],[1.0])|     0|[2.60338749923081...|[0.93107927540107...|       0.0|\n",
      "+--------------+------+--------------------+--------------------+----------+\n",
      "only showing top 5 rows\n",
      "\n"
     ]
    }
   ],
   "source": [
    "test_with_prediction = log_reg_model2.transform(test2)\n",
    "test_with_prediction.show(5)"
   ]
  },
  {
   "cell_type": "code",
   "execution_count": null,
   "metadata": {},
   "outputs": [],
   "source": []
  },
  {
   "cell_type": "code",
   "execution_count": null,
   "metadata": {},
   "outputs": [],
   "source": []
  },
  {
   "cell_type": "code",
   "execution_count": 64,
   "metadata": {},
   "outputs": [],
   "source": [
    "spark.stop()\n"
   ]
  },
  {
   "cell_type": "code",
   "execution_count": null,
   "metadata": {},
   "outputs": [],
   "source": []
  }
 ],
 "metadata": {
  "kernelspec": {
   "display_name": "Python 3",
   "language": "python",
   "name": "python3"
  },
  "language_info": {
   "codemirror_mode": {
    "name": "ipython",
    "version": 3
   },
   "file_extension": ".py",
   "mimetype": "text/x-python",
   "name": "python",
   "nbconvert_exporter": "python",
   "pygments_lexer": "ipython3",
   "version": "3.7.1"
  }
 },
 "nbformat": 4,
 "nbformat_minor": 2
}
