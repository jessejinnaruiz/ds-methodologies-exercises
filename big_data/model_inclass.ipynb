{
 "cells": [
  {
   "cell_type": "code",
   "execution_count": 8,
   "metadata": {},
   "outputs": [],
   "source": [
    "%matplotlib inline\n",
    "import pyspark\n",
    "import pyspark.ml\n",
    "from pyspark.sql.functions import *\n",
    "from pyspark.ml.feature import RFormula\n",
    "from pyspark.ml.classification import LogisticRegression\n",
    "\n",
    "\n",
    "spark = pyspark.sql.SparkSession.builder.getOrCreate()"
   ]
  },
  {
   "cell_type": "code",
   "execution_count": 2,
   "metadata": {},
   "outputs": [
    {
     "name": "stdout",
     "output_type": "stream",
     "text": [
      "+---------+-----------+-----------+---------+--------+----------------+\n",
      "|fertility|agriculture|examination|education|catholic|infant_mortality|\n",
      "+---------+-----------+-----------+---------+--------+----------------+\n",
      "|     80.2|       17.0|         15|       12|    9.96|            22.2|\n",
      "|     83.1|       45.1|          6|        9|   84.84|            22.2|\n",
      "|     92.5|       39.7|          5|        5|    93.4|            20.2|\n",
      "|     85.8|       36.5|         12|        7|   33.77|            20.3|\n",
      "|     76.9|       43.5|         17|       15|    5.16|            20.6|\n",
      "|     76.1|       35.3|          9|        7|   90.57|            26.6|\n",
      "|     83.8|       70.2|         16|        7|   92.85|            23.6|\n",
      "|     92.4|       67.8|         14|        8|   97.16|            24.9|\n",
      "|     82.4|       53.3|         12|        7|   97.67|            21.0|\n",
      "|     82.9|       45.2|         16|       13|   91.38|            24.4|\n",
      "|     87.1|       64.5|         14|        6|   98.61|            24.5|\n",
      "|     64.1|       62.0|         21|       12|    8.52|            16.5|\n",
      "|     66.9|       67.5|         14|        7|    2.27|            19.1|\n",
      "|     68.9|       60.7|         19|       12|    4.43|            22.7|\n",
      "|     61.7|       69.3|         22|        5|    2.82|            18.7|\n",
      "|     68.3|       72.6|         18|        2|    24.2|            21.2|\n",
      "|     71.7|       34.0|         17|        8|     3.3|            20.0|\n",
      "|     55.7|       19.4|         26|       28|   12.11|            20.2|\n",
      "|     54.3|       15.2|         31|       20|    2.15|            10.8|\n",
      "|     65.1|       73.0|         19|        9|    2.84|            20.0|\n",
      "+---------+-----------+-----------+---------+--------+----------------+\n",
      "only showing top 20 rows\n",
      "\n"
     ]
    }
   ],
   "source": [
    "swiss = spark.read.csv('swiss.txt', header=True, inferSchema=True)\n",
    "swiss.show()"
   ]
  },
  {
   "cell_type": "code",
   "execution_count": 3,
   "metadata": {},
   "outputs": [
    {
     "data": {
      "text/plain": [
       "<matplotlib.axes._subplots.AxesSubplot at 0x11a195b38>"
      ]
     },
     "execution_count": 3,
     "metadata": {},
     "output_type": "execute_result"
    },
    {
     "data": {
      "image/png": "[encoded data removed]",
      "text/plain": [
       "<Figure size 432x288 with 1 Axes>"
      ]
     },
     "metadata": {
      "needs_background": "light"
     },
     "output_type": "display_data"
    }
   ],
   "source": [
    "swiss.toPandas().catholic.plot.hist()\n"
   ]
  },
  {
   "cell_type": "code",
   "execution_count": 4,
   "metadata": {},
   "outputs": [],
   "source": [
    "swiss = (swiss\n",
    " .withColumn('is_catholic', when(swiss.catholic > 60, 'Catholic').otherwise('Not Catholic'))\n",
    " .drop('catholic'))"
   ]
  },
  {
   "cell_type": "code",
   "execution_count": 5,
   "metadata": {},
   "outputs": [
    {
     "name": "stdout",
     "output_type": "stream",
     "text": [
      "+---------+-----------+-----------+---------+----------------+------------+\n",
      "|fertility|agriculture|examination|education|infant_mortality| is_catholic|\n",
      "+---------+-----------+-----------+---------+----------------+------------+\n",
      "|     80.2|       17.0|         15|       12|            22.2|Not Catholic|\n",
      "|     83.1|       45.1|          6|        9|            22.2|    Catholic|\n",
      "|     92.5|       39.7|          5|        5|            20.2|    Catholic|\n",
      "|     85.8|       36.5|         12|        7|            20.3|Not Catholic|\n",
      "|     76.9|       43.5|         17|       15|            20.6|Not Catholic|\n",
      "|     76.1|       35.3|          9|        7|            26.6|    Catholic|\n",
      "|     83.8|       70.2|         16|        7|            23.6|    Catholic|\n",
      "|     92.4|       67.8|         14|        8|            24.9|    Catholic|\n",
      "|     82.4|       53.3|         12|        7|            21.0|    Catholic|\n",
      "|     82.9|       45.2|         16|       13|            24.4|    Catholic|\n",
      "|     87.1|       64.5|         14|        6|            24.5|    Catholic|\n",
      "|     64.1|       62.0|         21|       12|            16.5|Not Catholic|\n",
      "|     66.9|       67.5|         14|        7|            19.1|Not Catholic|\n",
      "|     68.9|       60.7|         19|       12|            22.7|Not Catholic|\n",
      "|     61.7|       69.3|         22|        5|            18.7|Not Catholic|\n",
      "|     68.3|       72.6|         18|        2|            21.2|Not Catholic|\n",
      "|     71.7|       34.0|         17|        8|            20.0|Not Catholic|\n",
      "|     55.7|       19.4|         26|       28|            20.2|Not Catholic|\n",
      "|     54.3|       15.2|         31|       20|            10.8|Not Catholic|\n",
      "|     65.1|       73.0|         19|        9|            20.0|Not Catholic|\n",
      "+---------+-----------+-----------+---------+----------------+------------+\n",
      "only showing top 20 rows\n",
      "\n"
     ]
    }
   ],
   "source": [
    "swiss.show()\n"
   ]
  },
  {
   "cell_type": "code",
   "execution_count": 6,
   "metadata": {},
   "outputs": [],
   "source": [
    "rf = RFormula(formula='is_catholic ~ agriculture + examination')\n",
    "\n",
    "df = rf.fit(swiss).transform(swiss).select('features', 'label')"
   ]
  },
  {
   "cell_type": "code",
   "execution_count": 7,
   "metadata": {},
   "outputs": [
    {
     "name": "stdout",
     "output_type": "stream",
     "text": [
      "+-----------+-----+\n",
      "|   features|label|\n",
      "+-----------+-----+\n",
      "|[17.0,15.0]|  0.0|\n",
      "| [45.1,6.0]|  1.0|\n",
      "| [39.7,5.0]|  1.0|\n",
      "|[36.5,12.0]|  0.0|\n",
      "|[43.5,17.0]|  0.0|\n",
      "+-----------+-----+\n",
      "only showing top 5 rows\n",
      "\n"
     ]
    }
   ],
   "source": [
    "df.show(5)\n"
   ]
  },
  {
   "cell_type": "markdown",
   "metadata": {},
   "source": [
    "### Classify with Logistic Regression Model\n",
    "### We classify with a binary prediction of their precinct is Catholic or is not Catholic."
   ]
  },
  {
   "cell_type": "code",
   "execution_count": 9,
   "metadata": {},
   "outputs": [
    {
     "data": {
      "text/plain": [
       "LogisticRegressionModel: uid = LogisticRegression_f89f34bf71e3, numClasses = 2, numFeatures = 2"
      ]
     },
     "execution_count": 9,
     "metadata": {},
     "output_type": "execute_result"
    }
   ],
   "source": [
    "lr = LogisticRegression()\n",
    "lr_fit = lr.fit(df)\n",
    "lr_fit"
   ]
  },
  {
   "cell_type": "code",
   "execution_count": 10,
   "metadata": {},
   "outputs": [
    {
     "name": "stdout",
     "output_type": "stream",
     "text": [
      "+-----------+-----+--------------------+--------------------+----------+---------------+\n",
      "|   features|label|       rawPrediction|         probability|prediction|we_got_it_right|\n",
      "+-----------+-----+--------------------+--------------------+----------+---------------+\n",
      "|[17.0,15.0]|  0.0|[2.61081360006245...|[0.93155429036120...|       0.0|           true|\n",
      "| [45.1,6.0]|  1.0|[-1.9844861732885...|[0.12084142107894...|       1.0|           true|\n",
      "| [39.7,5.0]|  1.0|[-2.1417946363626...|[0.10510047647313...|       1.0|           true|\n",
      "|[36.5,12.0]|  0.0|[0.65897957038476...|[0.65903112585454...|       0.0|           true|\n",
      "|[43.5,17.0]|  0.0|[2.27460235659845...|[0.90675166037879...|       0.0|           true|\n",
      "| [35.3,9.0]|  1.0|[-0.4347561719699...|[0.39299117537033...|       1.0|           true|\n",
      "|[70.2,16.0]|  1.0|[0.78661973782068...|[0.68710506231533...|       0.0|          false|\n",
      "|[67.8,14.0]|  1.0|[0.12378901391833...|[0.53090779502300...|       0.0|          false|\n",
      "|[53.3,12.0]|  1.0|[-0.0374480251237...|[0.49063908763669...|       1.0|           true|\n",
      "|[45.2,16.0]|  1.0|[1.82297032637498...|[0.86092216106892...|       0.0|          false|\n",
      "|[64.5,14.0]|  1.0|[0.26058729160750...|[0.56478065560428...|       0.0|          false|\n",
      "|[62.0,21.0]|  0.0|[3.03234368187538...|[0.95401410256316...|       0.0|           true|\n",
      "|[67.5,14.0]|  0.0|[0.13622522098098...|[0.53400373667603...|       0.0|           true|\n",
      "|[60.7,19.0]|  0.0|[2.32391353207665...|[0.91083827750503...|       0.0|           true|\n",
      "|[69.3,22.0]|  0.0|[3.11088950021931...|[0.95733969810871...|       0.0|           true|\n",
      "|[72.6,18.0]|  0.0|[1.44945046172302...|[0.80991384510220...|       0.0|           true|\n",
      "|[34.0,17.0]|  0.0|[2.66841558024908...|[0.93513699338295...|       0.0|           true|\n",
      "|[19.4,26.0]|  0.0|[6.70408603578081...|[0.99877560835859...|       0.0|           true|\n",
      "|[15.2,31.0]|  0.0|[8.78399388566683...|[0.99984685831802...|       0.0|           true|\n",
      "|[73.0,19.0]|  0.0|[1.81402904250793...|[0.85984811580963...|       0.0|           true|\n",
      "+-----------+-----+--------------------+--------------------+----------+---------------+\n",
      "only showing top 20 rows\n",
      "\n"
     ]
    }
   ],
   "source": [
    "(lr_fit.transform(df)\n",
    " .withColumn('we_got_it_right', col('label') == col('prediction'))).show()"
   ]
  },
  {
   "cell_type": "code",
   "execution_count": 11,
   "metadata": {},
   "outputs": [],
   "source": [
    "training_summary = lr_fit.summary\n"
   ]
  },
  {
   "cell_type": "code",
   "execution_count": 12,
   "metadata": {},
   "outputs": [
    {
     "data": {
      "text/plain": [
       "0.9314516129032259"
      ]
     },
     "execution_count": 12,
     "metadata": {},
     "output_type": "execute_result"
    }
   ],
   "source": [
    "training_summary.areaUnderROC\n",
    "\n"
   ]
  },
  {
   "cell_type": "code",
   "execution_count": 13,
   "metadata": {},
   "outputs": [
    {
     "data": {
      "text/plain": [
       "0.8723404255319149"
      ]
     },
     "execution_count": 13,
     "metadata": {},
     "output_type": "execute_result"
    }
   ],
   "source": [
    "training_summary.accuracy\n"
   ]
  },
  {
   "cell_type": "markdown",
   "metadata": {},
   "source": [
    "### Linear Regression"
   ]
  },
  {
   "cell_type": "code",
   "execution_count": 14,
   "metadata": {},
   "outputs": [
    {
     "name": "stdout",
     "output_type": "stream",
     "text": [
      "+-----------+-----+\n",
      "|   features|label|\n",
      "+-----------+-----+\n",
      "|[12.0,15.0]| 80.2|\n",
      "|  [9.0,6.0]| 83.1|\n",
      "|  [5.0,5.0]| 92.5|\n",
      "| [7.0,12.0]| 85.8|\n",
      "|[15.0,17.0]| 76.9|\n",
      "+-----------+-----+\n",
      "only showing top 5 rows\n",
      "\n"
     ]
    }
   ],
   "source": [
    "\n",
    "rf = RFormula(formula='fertility ~ education + examination')\n",
    "\n",
    "df = (rf.fit(swiss)\n",
    " .transform(swiss)\n",
    " .select('features', 'label'))\n",
    "\n",
    "df.show(5)"
   ]
  },
  {
   "cell_type": "code",
   "execution_count": 15,
   "metadata": {},
   "outputs": [
    {
     "name": "stdout",
     "output_type": "stream",
     "text": [
      "+-----------+-----+------------------+\n",
      "|   features|label|        prediction|\n",
      "+-----------+-----+------------------+\n",
      "|[12.0,15.0]| 80.2| 70.42151794297953|\n",
      "|  [9.0,6.0]| 83.1| 77.05485310331413|\n",
      "|  [5.0,5.0]| 92.5| 79.76989921395041|\n",
      "| [7.0,12.0]| 85.8| 74.79045752192646|\n",
      "|[15.0,17.0]| 76.9| 67.68871054525121|\n",
      "|  [7.0,9.0]| 76.1| 76.46211227732914|\n",
      "| [7.0,16.0]| 83.8| 72.56158451472288|\n",
      "| [8.0,14.0]| 92.4| 73.13656405361581|\n",
      "| [7.0,12.0]| 82.4| 74.79045752192646|\n",
      "|[13.0,16.0]| 82.9|  69.3248427264698|\n",
      "| [6.0,14.0]| 87.1| 74.21547798303351|\n",
      "|[12.0,21.0]| 64.1| 67.07820843217418|\n",
      "| [7.0,14.0]| 66.9| 73.67602101832466|\n",
      "|[12.0,19.0]| 68.9| 68.19264493577596|\n",
      "| [5.0,22.0]| 61.7|  70.2971889333352|\n",
      "| [2.0,18.0]| 68.3| 74.14443283466532|\n",
      "| [8.0,17.0]| 71.7| 71.46490929821314|\n",
      "|[28.0,26.0]| 55.7|55.660805737828156|\n",
      "|[20.0,31.0]| 54.3| 57.19037019649446|\n",
      "| [9.0,19.0]| 65.1|  69.8110158299025|\n",
      "+-----------+-----+------------------+\n",
      "only showing top 20 rows\n",
      "\n"
     ]
    }
   ],
   "source": [
    "from pyspark.ml.regression import LinearRegression\n",
    "\n",
    "lr = LinearRegression()\n",
    "lr_fit = lr.fit(df)\n",
    "lr_fit.transform(df).show()"
   ]
  },
  {
   "cell_type": "code",
   "execution_count": 16,
   "metadata": {},
   "outputs": [
    {
     "data": {
      "text/plain": [
       "(0.5054845186373219, 8.69043227803294)"
      ]
     },
     "execution_count": 16,
     "metadata": {},
     "output_type": "execute_result"
    }
   ],
   "source": [
    "training_summary = lr_fit.summary\n",
    "training_summary.r2, training_summary.rootMeanSquaredError"
   ]
  },
  {
   "cell_type": "code",
   "execution_count": null,
   "metadata": {},
   "outputs": [],
   "source": []
  }
 ],
 "metadata": {
  "kernelspec": {
   "display_name": "Python 3",
   "language": "python",
   "name": "python3"
  },
  "language_info": {
   "codemirror_mode": {
    "name": "ipython",
    "version": 3
   },
   "file_extension": ".py",
   "mimetype": "text/x-python",
   "name": "python",
   "nbconvert_exporter": "python",
   "pygments_lexer": "ipython3",
   "version": "3.7.1"
  }
 },
 "nbformat": 4,
 "nbformat_minor": 2
}
